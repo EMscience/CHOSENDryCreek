{
 "cells": [
  {
   "cell_type": "code",
   "execution_count": null,
   "metadata": {},
   "outputs": [],
   "source": [
    "import numpy as np\n",
    "import pandas as pd\n",
    "# from scipy import signal\n",
    "import matplotlib.pyplot as plt\n",
    "import ipywidgets"
   ]
  },
  {
   "cell_type": "code",
   "execution_count": null,
   "metadata": {},
   "outputs": [],
   "source": [
    "from matplotlib import rcParams\n",
    "rcParams[\"font.size\"]=14"
   ]
  },
  {
   "cell_type": "code",
   "execution_count": null,
   "metadata": {},
   "outputs": [],
   "source": [
    "#import handcalcs.render"
   ]
  },
  {
   "cell_type": "code",
   "execution_count": null,
   "metadata": {},
   "outputs": [],
   "source": [
    "from math import sqrt, pi"
   ]
  },
  {
   "cell_type": "code",
   "execution_count": null,
   "metadata": {},
   "outputs": [],
   "source": [
    "import datetime as dt\n",
    "import copy\n",
    "from pandas.plotting import register_matplotlib_converters\n",
    "from sklearn import linear_model\n",
    "from sklearn.metrics import r2_score\n",
    "import copy\n",
    "import os\n",
    "import matplotlib.backends.backend_pdf\n",
    "lm = linear_model.LinearRegression()\n",
    "np.random.seed(50)\n",
    "plt.rcParams.update({'figure.max_open_warning': 0})\n",
    "register_matplotlib_converters()\n",
    "os.getcwd()"
   ]
  },
  {
   "cell_type": "code",
   "execution_count": null,
   "metadata": {},
   "outputs": [],
   "source": [
    "# local functions\n",
    "import sys\n",
    "sys.path.insert(1, './Functions')\n",
    "\n",
    "from Source_QC_Widgets_functions_EM import regressorFunc, funcClimateCatalogWg,widgetInterpolation,widgetRegression,Date_to_float"
   ]
  },
  {
   "cell_type": "code",
   "execution_count": null,
   "metadata": {},
   "outputs": [],
   "source": [
    "# Only need to assign the two values below first, then run all\n",
    "watershed = 'DryCreek'\n",
    "main_str = 'LG'"
   ]
  },
  {
   "cell_type": "code",
   "execution_count": null,
   "metadata": {},
   "outputs": [],
   "source": [
    "# Read the original data table\n",
    "table = pd.read_csv('1_'+watershed+'_Download_Aggregation.csv',header = 0,index_col = 'DateTime',\n",
    "                    parse_dates = True, infer_datetime_format = True,low_memory=False)\n",
    "display(table.head(2))\n",
    "display(table.tail(2))"
   ]
  },
  {
   "cell_type": "code",
   "execution_count": null,
   "metadata": {},
   "outputs": [],
   "source": [
    "# Check all the station names\n",
    "all_stations = table.columns.str.extract(r'([^_]+)')[0]\n",
    "print('All stations names: ', all_stations.unique())\n",
    "print ('  ')\n",
    "nameStrflwStation=[]\n",
    "nameHydrMetStation=[]\n",
    "for i in np.arange(len(table.columns)):\n",
    "    if table.columns[i][-9:]=='Discharge':  ### \n",
    "        if not all_stations[i] in nameStrflwStation:\n",
    "            nameStrflwStation.append(all_stations[i]) ### \n",
    "    else:\n",
    "        if not all_stations[i] in nameHydrMetStation:\n",
    "            nameHydrMetStation.append(all_stations[i])  ### \n",
    "\n",
    "print('Discharge stations :',nameStrflwStation)\n",
    "print('  ')\n",
    "print('Meteorology stations:',nameHydrMetStation)                  "
   ]
  },
  {
   "cell_type": "code",
   "execution_count": null,
   "metadata": {},
   "outputs": [],
   "source": [
    "for i in table.columns:\n",
    "    if i.split('_')[0] == main_str :\n",
    "        print(i)"
   ]
  },
  {
   "cell_type": "markdown",
   "metadata": {},
   "source": [
    "#  1. Trim the original table"
   ]
  },
  {
   "cell_type": "code",
   "execution_count": null,
   "metadata": {},
   "outputs": [],
   "source": [
    "# Trim the data and let the table start with first non nan value, end with last non nan value\n",
    "# Identify the first non nan value in each column as the starting date.\n",
    "# Identify the last non nan value in each column as the ending date.\n",
    "\n",
    "t = table.notna() \n",
    "t = ~np.isnan(table)\n",
    "col = len(t.columns)\n",
    "b = np.zeros([table.shape[1]])\n",
    "c = np.array([table.shape[0]] * table.shape[1])\n",
    "\n",
    "for i in range(col):\n",
    "    if any(t.iloc[:,i]): # Since some are empty\n",
    "        b[i] = list(np.where(t.iloc[:,i] == True))[0][0] # the first non nan value location\n",
    "        c[i] = list(np.where(t.iloc[:,i] == True))[0][-1] # the last non nan value location\n",
    "        \n",
    "st_tab = b.min()\n",
    "table1 = table.iloc[int(b.min()):int(c.max()) + 1,:] \n",
    "\n",
    "# Display the trimmed table\n",
    "display(table1.head(2))\n",
    "display(table1.tail(2))\n",
    "print('trimmed row number is ', int(table.shape[0] -  table1.shape[0]))"
   ]
  },
  {
   "cell_type": "code",
   "execution_count": null,
   "metadata": {
    "scrolled": true
   },
   "outputs": [],
   "source": [
    "table1.columns#[1:100]"
   ]
  },
  {
   "cell_type": "markdown",
   "metadata": {},
   "source": [
    "### Quantity of interest"
   ]
  },
  {
   "cell_type": "code",
   "execution_count": null,
   "metadata": {},
   "outputs": [],
   "source": [
    "QOI = 'LS_SoilTemperature_Pit2_2cm'"
   ]
  },
  {
   "cell_type": "code",
   "execution_count": null,
   "metadata": {},
   "outputs": [],
   "source": [
    "table[QOI].interpolate(limit=7)"
   ]
  },
  {
   "cell_type": "markdown",
   "metadata": {},
   "source": [
    "# 2. Filling Missing Values"
   ]
  },
  {
   "cell_type": "markdown",
   "metadata": {},
   "source": [
    "### 2.1 Interpolation"
   ]
  },
  {
   "cell_type": "code",
   "execution_count": null,
   "metadata": {},
   "outputs": [],
   "source": [
    "a,b = widgetInterpolation(table1, QOI, interplimit=7, Intpmethod='time', Intplimit_direction='both')"
   ]
  },
  {
   "cell_type": "code",
   "execution_count": null,
   "metadata": {},
   "outputs": [],
   "source": [
    "def plot_widgetInterpolation(QOI=QOI, interplimit=7, Intpmethod='time', Intplimit_direction='both',\n",
    "                        xmin=None, xmax=None, ymin=None, ymax=None):\n",
    "    \n",
    "    y, yIntp = widgetInterpolation(table1,QOI, interplimit, 'time', 'both')\n",
    "    \n",
    "    indx = Date_to_float(y.index)\n",
    "    \n",
    "    fig, ax = plt.subplots(1, 1, figsize=(9, 4))\n",
    "    ax.plot(indx, yIntp,'r',linewidth=2,label='Interpolated')\n",
    "    ax.plot(indx, y, 'b',linewidth=2,label='Original')\n",
    "    \n",
    "    ax.set_xlabel(\"Year\")\n",
    "    ax.set_ylabel(QOI.split('_')[1])\n",
    "    ax.set_title(QOI)\n",
    "    ax.set_xlim([xmin,xmax])\n",
    "    ax.set_ylim([ymin, ymax])\n",
    "    ax.grid(color='gray', linestyle='-.', linewidth=1)\n",
    "    #ax.legend(bbox_to_anchor=(1, 1), loc='upper left', fontsize='small')\n",
    "    ax.legend(fontsize='small')\n",
    "    \n",
    "    # interaction responsiveness\n",
    "    ax.relim()\n",
    "    ax.autoscale_view()\n",
    "    fig.canvas.draw_idle()"
   ]
  },
  {
   "cell_type": "code",
   "execution_count": null,
   "metadata": {},
   "outputs": [],
   "source": [
    "# plot_widgetInterpolation(QOI=QOI, interplimit=7, Intpmethod='time', Intplimit_direction='both',\n",
    "#                         xmin=None, xmax=None, ymin=None, ymax=None)"
   ]
  },
  {
   "cell_type": "code",
   "execution_count": null,
   "metadata": {
    "scrolled": false
   },
   "outputs": [],
   "source": [
    "%matplotlib notebook\n",
    "# %matplotlib qt, - a separate plot\n",
    "# %matplotlib notebook - the plot reside within the notebook \n",
    "# %matplotlib widget - for jupyter lab\n",
    "Interpolation_widget = ipywidgets.interactive(\n",
    "    plot_widgetInterpolation,\n",
    "    \n",
    "    QOI=table1,\n",
    "    Intpmethod = ['linear','time','space','index','pad','nearest', 'zero', 'slinear', 'quadratic', 'cubic'],\n",
    "    Intplimit_direction=['forward', 'backward', 'both'],\n",
    "    \n",
    "    interplimit=ipywidgets.IntSlider(min=2, max=100, value=7),\n",
    "    xmin=ipywidgets.FloatText(value=2008),\n",
    "    xmax=ipywidgets.FloatText(value=2018),\n",
    "    ymin=ipywidgets.FloatText(value=0),\n",
    "    ymax=ipywidgets.FloatText(value=50)\n",
    ")\n",
    "Interpolation_widget"
   ]
  },
  {
   "cell_type": "markdown",
   "metadata": {},
   "source": [
    "### 2.2 Regression"
   ]
  },
  {
   "cell_type": "code",
   "execution_count": null,
   "metadata": {},
   "outputs": [],
   "source": [
    "rawdd, regRes = widgetRegression(table1, QOI, RegThreshold=1.0,xmin=None, xmax=None, ymin=None, ymax=None)"
   ]
  },
  {
   "cell_type": "code",
   "execution_count": null,
   "metadata": {},
   "outputs": [],
   "source": [
    "def plot_widgetRegression(QOI=QOI, RegThreshold=0.7, xmin=None, xmax=None, ymin=None, ymax=None):\n",
    "    \n",
    "    y, yReg = widgetRegression(table1, QOI, RegThreshold=0.7)\n",
    "    \n",
    "    indx = Date_to_float(y.index)\n",
    "    \n",
    "    fig, ax = plt.subplots(1, 1, figsize=(9, 4))\n",
    "    ax.plot(indx, yReg,'r',linewidth=2,label='After Regression')\n",
    "    ax.plot(indx, y, 'b',linewidth=2,label='Raw Data')\n",
    "    \n",
    "    ax.set_xlabel(\"Year\")\n",
    "    ax.set_ylabel(QOI.split('_')[1])\n",
    "    ax.set_title(QOI)\n",
    "    ax.set_xlim([xmin,xmax])\n",
    "    ax.set_ylim([ymin, ymax])\n",
    "    ax.grid(color='gray', linestyle='-.', linewidth=1)\n",
    "    #ax.legend(bbox_to_anchor=(1, 1), loc='upper left', fontsize='small')\n",
    "    ax.legend(fontsize='small')\n",
    "    \n",
    "    # interaction responsiveness\n",
    "    ax.relim()\n",
    "    ax.autoscale_view()\n",
    "    fig.canvas.draw_idle()\n",
    "    # fig.gcf().canvas.set_window_title('Regression')"
   ]
  },
  {
   "cell_type": "code",
   "execution_count": null,
   "metadata": {},
   "outputs": [],
   "source": [
    "#plot_widgetRegression(QOI=QOI, RegThreshold=0.7, xmin=None, xmax=None, ymin=None, ymax=None)"
   ]
  },
  {
   "cell_type": "code",
   "execution_count": null,
   "metadata": {},
   "outputs": [],
   "source": [
    "%matplotlib notebook\n",
    "# %matplotlib qt, - a separate plot\n",
    "# %matplotlib notebook - the plot reside within the notebook \n",
    "# %matplotlib widget - for jupyter lab\n",
    "Regression_widget = ipywidgets.interactive(\n",
    "    plot_widgetRegression,\n",
    "    \n",
    "    QOI=table1,\n",
    "    \n",
    "    RegThreshold=ipywidgets.FloatSlider(min=.5, max=1, value=7),\n",
    "    xmin=ipywidgets.FloatText(value=2008),\n",
    "    xmax=ipywidgets.FloatText(value=2018),\n",
    "    ymin=ipywidgets.FloatText(value=0),\n",
    "    ymax=ipywidgets.FloatText(value=50)\n",
    ")\n",
    "Regression_widget"
   ]
  },
  {
   "cell_type": "markdown",
   "metadata": {},
   "source": [
    "### 2.3 Climate catalog"
   ]
  },
  {
   "cell_type": "code",
   "execution_count": null,
   "metadata": {},
   "outputs": [],
   "source": [
    "CC_Yout, yraw, indx_CC= funcClimateCatalogWg(table,QOI,thrLen=20,corrThr=0.7)"
   ]
  },
  {
   "cell_type": "code",
   "execution_count": null,
   "metadata": {},
   "outputs": [],
   "source": [
    "# %matplotlib inline\n",
    "# plt.plot(CC_Yout,'b')\n",
    "# plt.plot(yraw,'r')"
   ]
  },
  {
   "cell_type": "code",
   "execution_count": null,
   "metadata": {},
   "outputs": [],
   "source": [
    "def plot_widgetClimateCatalog(QOI=QOI, thrLen=200, corrThr=0.7, xmin=None, xmax=None, ymin=None, ymax=None):\n",
    "    \n",
    "    y_CC, yraw, indx_cc = funcClimateCatalogWg(table1, QOI, thrLen, corrThr)\n",
    "    \n",
    "    indx = Date_to_float(yraw.index)\n",
    "    \n",
    "    fig, ax = plt.subplots(1, 1, figsize=(9, 4))\n",
    "    ax.plot(indx, y_CC,'r',linewidth=2,label='After Climate Catalog')\n",
    "    ax.plot(indx, yraw, 'b',linewidth=2,label='Raw Data')\n",
    "    \n",
    "    ax.set_xlabel(\"Year\")\n",
    "    ax.set_ylabel(QOI.split('_')[1])\n",
    "    ax.set_title(QOI)\n",
    "    ax.set_xlim([xmin,xmax])\n",
    "    ax.set_ylim([ymin, ymax])\n",
    "    ax.grid(color='gray', linestyle='-.', linewidth=1)\n",
    "    #ax.legend(bbox_to_anchor=(1, 1), loc='upper left', fontsize='small')\n",
    "    ax.legend(fontsize='small')\n",
    "    \n",
    "    # interaction responsiveness\n",
    "    ax.relim()\n",
    "    ax.autoscale_view()\n",
    "    fig.canvas.draw_idle()"
   ]
  },
  {
   "cell_type": "code",
   "execution_count": null,
   "metadata": {
    "scrolled": false
   },
   "outputs": [],
   "source": [
    "#plot_widgetClimateCatalog(QOI=QOI, thrLen=100, corrThr=0.7, xmin=None, xmax=None, ymin=None, ymax=None)"
   ]
  },
  {
   "cell_type": "code",
   "execution_count": null,
   "metadata": {},
   "outputs": [],
   "source": [
    "%matplotlib notebook\n",
    "# %matplotlib qt, - a separate plot\n",
    "# %matplotlib notebook - the plot reside within the notebook \n",
    "# %matplotlib widget - for jupyter lab\n",
    "ClimateCatalog_widget = ipywidgets.interactive(\n",
    "    plot_widgetClimateCatalog,\n",
    "    \n",
    "    QOI=table1,\n",
    "    \n",
    "    corrThr=ipywidgets.FloatSlider(min=.5, max=1, value=7),\n",
    "    thrLen=ipywidgets.IntSlider(min=1, max=365, value=7),\n",
    "    xmin=ipywidgets.FloatText(value=2008),\n",
    "    xmax=ipywidgets.FloatText(value=2018),\n",
    "    ymin=ipywidgets.FloatText(value=0),\n",
    "    ymax=ipywidgets.FloatText(value=50)\n",
    ")\n",
    "ClimateCatalog_widget"
   ]
  },
  {
   "cell_type": "code",
   "execution_count": null,
   "metadata": {},
   "outputs": [],
   "source": [
    "## VErsions of packages used\n",
    "# print(sklearn.__version__)\n",
    "# pip3 list | findstr scikit\n",
    "# conda list |findstr pandas\n",
    "# pip list | findstr \"scikit numpy\""
   ]
  },
  {
   "cell_type": "code",
   "execution_count": null,
   "metadata": {},
   "outputs": [],
   "source": []
  }
 ],
 "metadata": {
  "kernelspec": {
   "display_name": "Python 3",
   "language": "python",
   "name": "python3"
  },
  "language_info": {
   "codemirror_mode": {
    "name": "ipython",
    "version": 3
   },
   "file_extension": ".py",
   "mimetype": "text/x-python",
   "name": "python",
   "nbconvert_exporter": "python",
   "pygments_lexer": "ipython3",
   "version": "3.7.1"
  }
 },
 "nbformat": 4,
 "nbformat_minor": 2
}
