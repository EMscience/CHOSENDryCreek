{
 "cells": [
  {
   "cell_type": "code",
   "execution_count": 1,
   "metadata": {},
   "outputs": [
    {
     "data": {
      "text/plain": [
       "'/Volumes/GoogleDrive/My Drive/DataReleasePaper/ReleaseData/2-DryCreek'"
      ]
     },
     "execution_count": 1,
     "metadata": {},
     "output_type": "execute_result"
    }
   ],
   "source": [
    "import pandas as pd\n",
    "import numpy as np\n",
    "import datetime as dt\n",
    "import matplotlib.pyplot as plt\n",
    "import copy\n",
    "from pandas.plotting import register_matplotlib_converters\n",
    "\n",
    "import copy\n",
    "import os\n",
    "\n",
    "register_matplotlib_converters()\n",
    "os.getcwd()"
   ]
  },
  {
   "cell_type": "code",
   "execution_count": 2,
   "metadata": {},
   "outputs": [],
   "source": [
    "import netCDF4 as nc4            # to work with netCDFs\n",
    "import numpy   as np             # to perform numerics\n",
    "import time"
   ]
  },
  {
   "cell_type": "markdown",
   "metadata": {},
   "source": [
    "### Change the name of the watershed"
   ]
  },
  {
   "cell_type": "code",
   "execution_count": 3,
   "metadata": {},
   "outputs": [],
   "source": [
    "watershed= 'DryCreek'"
   ]
  },
  {
   "cell_type": "code",
   "execution_count": 4,
   "metadata": {},
   "outputs": [],
   "source": [
    "# Read the table\n",
    "table = pd.read_csv('5_'+watershed+'_final_cleaned.csv',\n",
    "                    header = 0,index_col = 'DateTime',parse_dates = True, \n",
    "                    infer_datetime_format = True,low_memory=False)\n"
   ]
  },
  {
   "cell_type": "code",
   "execution_count": 5,
   "metadata": {},
   "outputs": [
    {
     "data": {
      "text/html": [
       "<div>\n",
       "<style scoped>\n",
       "    .dataframe tbody tr th:only-of-type {\n",
       "        vertical-align: middle;\n",
       "    }\n",
       "\n",
       "    .dataframe tbody tr th {\n",
       "        vertical-align: top;\n",
       "    }\n",
       "\n",
       "    .dataframe thead th {\n",
       "        text-align: right;\n",
       "    }\n",
       "</style>\n",
       "<table border=\"1\" class=\"dataframe\">\n",
       "  <thead>\n",
       "    <tr style=\"text-align: right;\">\n",
       "      <th></th>\n",
       "      <th>TL_Discharge</th>\n",
       "      <th>BSG_Discharge</th>\n",
       "      <th>LG_Discharge</th>\n",
       "      <th>C1E_Discharge</th>\n",
       "      <th>C1W_Discharge</th>\n",
       "      <th>C2E_Discharge</th>\n",
       "      <th>C2M_Discharge</th>\n",
       "      <th>BRW_Precipitation</th>\n",
       "      <th>LDP_Precipitation</th>\n",
       "      <th>SCR_Precipitation</th>\n",
       "      <th>...</th>\n",
       "      <th>LS_SoilTemperature_Pit1_30cm</th>\n",
       "      <th>LS_SoilTemperature_Pit2_2cm</th>\n",
       "      <th>LS_SoilTemperature_Pit2_15cm</th>\n",
       "      <th>LS_SoilTemperature_Pit2_30cm</th>\n",
       "      <th>LS_SoilTemperature_Pit3_2cm</th>\n",
       "      <th>LS_SoilTemperature_Pit3_15cm</th>\n",
       "      <th>LS_SoilTemperature_Pit3_30cm</th>\n",
       "      <th>LS_SoilTemperature_Pit4_2cm</th>\n",
       "      <th>LS_SoilTemperature_Pit4_15cm</th>\n",
       "      <th>LS_SoilTemperature_Pit4_30cm</th>\n",
       "    </tr>\n",
       "    <tr>\n",
       "      <th>DateTime</th>\n",
       "      <th></th>\n",
       "      <th></th>\n",
       "      <th></th>\n",
       "      <th></th>\n",
       "      <th></th>\n",
       "      <th></th>\n",
       "      <th></th>\n",
       "      <th></th>\n",
       "      <th></th>\n",
       "      <th></th>\n",
       "      <th></th>\n",
       "      <th></th>\n",
       "      <th></th>\n",
       "      <th></th>\n",
       "      <th></th>\n",
       "      <th></th>\n",
       "      <th></th>\n",
       "      <th></th>\n",
       "      <th></th>\n",
       "      <th></th>\n",
       "      <th></th>\n",
       "    </tr>\n",
       "  </thead>\n",
       "  <tbody>\n",
       "    <tr>\n",
       "      <th>1999-01-01</th>\n",
       "      <td>NaN</td>\n",
       "      <td>NaN</td>\n",
       "      <td>7.636792</td>\n",
       "      <td>29.606656</td>\n",
       "      <td>NaN</td>\n",
       "      <td>2.169073</td>\n",
       "      <td>217.072885</td>\n",
       "      <td>NaN</td>\n",
       "      <td>NaN</td>\n",
       "      <td>NaN</td>\n",
       "      <td>...</td>\n",
       "      <td>7.416064</td>\n",
       "      <td>4.911765</td>\n",
       "      <td>6.497507</td>\n",
       "      <td>7.179774</td>\n",
       "      <td>4.824208</td>\n",
       "      <td>7.195240</td>\n",
       "      <td>7.837034</td>\n",
       "      <td>5.403277</td>\n",
       "      <td>6.128272</td>\n",
       "      <td>6.495671</td>\n",
       "    </tr>\n",
       "    <tr>\n",
       "      <th>1999-01-02</th>\n",
       "      <td>NaN</td>\n",
       "      <td>NaN</td>\n",
       "      <td>44.185813</td>\n",
       "      <td>8.396678</td>\n",
       "      <td>NaN</td>\n",
       "      <td>2.251513</td>\n",
       "      <td>9.084700</td>\n",
       "      <td>NaN</td>\n",
       "      <td>NaN</td>\n",
       "      <td>NaN</td>\n",
       "      <td>...</td>\n",
       "      <td>7.286968</td>\n",
       "      <td>4.758782</td>\n",
       "      <td>6.352038</td>\n",
       "      <td>7.046998</td>\n",
       "      <td>4.669668</td>\n",
       "      <td>7.051027</td>\n",
       "      <td>7.709140</td>\n",
       "      <td>5.255897</td>\n",
       "      <td>5.992621</td>\n",
       "      <td>6.367365</td>\n",
       "    </tr>\n",
       "  </tbody>\n",
       "</table>\n",
       "<p>2 rows × 355 columns</p>\n",
       "</div>"
      ],
      "text/plain": [
       "            TL_Discharge  BSG_Discharge  LG_Discharge  C1E_Discharge  \\\n",
       "DateTime                                                               \n",
       "1999-01-01           NaN            NaN      7.636792      29.606656   \n",
       "1999-01-02           NaN            NaN     44.185813       8.396678   \n",
       "\n",
       "            C1W_Discharge  C2E_Discharge  C2M_Discharge  BRW_Precipitation  \\\n",
       "DateTime                                                                     \n",
       "1999-01-01            NaN       2.169073     217.072885                NaN   \n",
       "1999-01-02            NaN       2.251513       9.084700                NaN   \n",
       "\n",
       "            LDP_Precipitation  SCR_Precipitation  ...  \\\n",
       "DateTime                                          ...   \n",
       "1999-01-01                NaN                NaN  ...   \n",
       "1999-01-02                NaN                NaN  ...   \n",
       "\n",
       "            LS_SoilTemperature_Pit1_30cm  LS_SoilTemperature_Pit2_2cm  \\\n",
       "DateTime                                                                \n",
       "1999-01-01                      7.416064                     4.911765   \n",
       "1999-01-02                      7.286968                     4.758782   \n",
       "\n",
       "            LS_SoilTemperature_Pit2_15cm  LS_SoilTemperature_Pit2_30cm  \\\n",
       "DateTime                                                                 \n",
       "1999-01-01                      6.497507                      7.179774   \n",
       "1999-01-02                      6.352038                      7.046998   \n",
       "\n",
       "            LS_SoilTemperature_Pit3_2cm  LS_SoilTemperature_Pit3_15cm  \\\n",
       "DateTime                                                                \n",
       "1999-01-01                     4.824208                      7.195240   \n",
       "1999-01-02                     4.669668                      7.051027   \n",
       "\n",
       "            LS_SoilTemperature_Pit3_30cm  LS_SoilTemperature_Pit4_2cm  \\\n",
       "DateTime                                                                \n",
       "1999-01-01                      7.837034                     5.403277   \n",
       "1999-01-02                      7.709140                     5.255897   \n",
       "\n",
       "            LS_SoilTemperature_Pit4_15cm  LS_SoilTemperature_Pit4_30cm  \n",
       "DateTime                                                                \n",
       "1999-01-01                      6.128272                      6.495671  \n",
       "1999-01-02                      5.992621                      6.367365  \n",
       "\n",
       "[2 rows x 355 columns]"
      ]
     },
     "execution_count": 5,
     "metadata": {},
     "output_type": "execute_result"
    }
   ],
   "source": [
    "table.head(2)"
   ]
  },
  {
   "cell_type": "code",
   "execution_count": 6,
   "metadata": {},
   "outputs": [],
   "source": [
    "table_flag =  pd.read_csv('5_'+watershed+'_final_cleaned_flag.csv',\n",
    "                    header = 0,index_col = 'DateTime',parse_dates = True, \n",
    "                    infer_datetime_format = True,low_memory=False)\n"
   ]
  },
  {
   "cell_type": "code",
   "execution_count": 7,
   "metadata": {},
   "outputs": [
    {
     "data": {
      "text/html": [
       "<div>\n",
       "<style scoped>\n",
       "    .dataframe tbody tr th:only-of-type {\n",
       "        vertical-align: middle;\n",
       "    }\n",
       "\n",
       "    .dataframe tbody tr th {\n",
       "        vertical-align: top;\n",
       "    }\n",
       "\n",
       "    .dataframe thead th {\n",
       "        text-align: right;\n",
       "    }\n",
       "</style>\n",
       "<table border=\"1\" class=\"dataframe\">\n",
       "  <thead>\n",
       "    <tr style=\"text-align: right;\">\n",
       "      <th></th>\n",
       "      <th>TL_Discharge</th>\n",
       "      <th>BSG_Discharge</th>\n",
       "      <th>LG_Discharge</th>\n",
       "      <th>C1E_Discharge</th>\n",
       "      <th>C1W_Discharge</th>\n",
       "      <th>C2E_Discharge</th>\n",
       "      <th>C2M_Discharge</th>\n",
       "      <th>BRW_Precipitation</th>\n",
       "      <th>LDP_Precipitation</th>\n",
       "      <th>SCR_Precipitation</th>\n",
       "      <th>...</th>\n",
       "      <th>LS_SoilTemperature_Pit1_30cm</th>\n",
       "      <th>LS_SoilTemperature_Pit2_2cm</th>\n",
       "      <th>LS_SoilTemperature_Pit2_15cm</th>\n",
       "      <th>LS_SoilTemperature_Pit2_30cm</th>\n",
       "      <th>LS_SoilTemperature_Pit3_2cm</th>\n",
       "      <th>LS_SoilTemperature_Pit3_15cm</th>\n",
       "      <th>LS_SoilTemperature_Pit3_30cm</th>\n",
       "      <th>LS_SoilTemperature_Pit4_2cm</th>\n",
       "      <th>LS_SoilTemperature_Pit4_15cm</th>\n",
       "      <th>LS_SoilTemperature_Pit4_30cm</th>\n",
       "    </tr>\n",
       "    <tr>\n",
       "      <th>DateTime</th>\n",
       "      <th></th>\n",
       "      <th></th>\n",
       "      <th></th>\n",
       "      <th></th>\n",
       "      <th></th>\n",
       "      <th></th>\n",
       "      <th></th>\n",
       "      <th></th>\n",
       "      <th></th>\n",
       "      <th></th>\n",
       "      <th></th>\n",
       "      <th></th>\n",
       "      <th></th>\n",
       "      <th></th>\n",
       "      <th></th>\n",
       "      <th></th>\n",
       "      <th></th>\n",
       "      <th></th>\n",
       "      <th></th>\n",
       "      <th></th>\n",
       "      <th></th>\n",
       "    </tr>\n",
       "  </thead>\n",
       "  <tbody>\n",
       "    <tr>\n",
       "      <th>1999-01-01</th>\n",
       "      <td>NaN</td>\n",
       "      <td>NaN</td>\n",
       "      <td>4.0</td>\n",
       "      <td>4.0</td>\n",
       "      <td>NaN</td>\n",
       "      <td>4.0</td>\n",
       "      <td>4.0</td>\n",
       "      <td>NaN</td>\n",
       "      <td>NaN</td>\n",
       "      <td>NaN</td>\n",
       "      <td>...</td>\n",
       "      <td>3.0</td>\n",
       "      <td>3.0</td>\n",
       "      <td>3.0</td>\n",
       "      <td>3.0</td>\n",
       "      <td>3.0</td>\n",
       "      <td>3.0</td>\n",
       "      <td>3.0</td>\n",
       "      <td>3.0</td>\n",
       "      <td>3.0</td>\n",
       "      <td>3.0</td>\n",
       "    </tr>\n",
       "    <tr>\n",
       "      <th>1999-01-02</th>\n",
       "      <td>NaN</td>\n",
       "      <td>NaN</td>\n",
       "      <td>4.0</td>\n",
       "      <td>4.0</td>\n",
       "      <td>NaN</td>\n",
       "      <td>4.0</td>\n",
       "      <td>4.0</td>\n",
       "      <td>NaN</td>\n",
       "      <td>NaN</td>\n",
       "      <td>NaN</td>\n",
       "      <td>...</td>\n",
       "      <td>3.0</td>\n",
       "      <td>3.0</td>\n",
       "      <td>3.0</td>\n",
       "      <td>3.0</td>\n",
       "      <td>3.0</td>\n",
       "      <td>3.0</td>\n",
       "      <td>3.0</td>\n",
       "      <td>3.0</td>\n",
       "      <td>3.0</td>\n",
       "      <td>3.0</td>\n",
       "    </tr>\n",
       "  </tbody>\n",
       "</table>\n",
       "<p>2 rows × 355 columns</p>\n",
       "</div>"
      ],
      "text/plain": [
       "            TL_Discharge  BSG_Discharge  LG_Discharge  C1E_Discharge  \\\n",
       "DateTime                                                               \n",
       "1999-01-01           NaN            NaN           4.0            4.0   \n",
       "1999-01-02           NaN            NaN           4.0            4.0   \n",
       "\n",
       "            C1W_Discharge  C2E_Discharge  C2M_Discharge  BRW_Precipitation  \\\n",
       "DateTime                                                                     \n",
       "1999-01-01            NaN            4.0            4.0                NaN   \n",
       "1999-01-02            NaN            4.0            4.0                NaN   \n",
       "\n",
       "            LDP_Precipitation  SCR_Precipitation  ...  \\\n",
       "DateTime                                          ...   \n",
       "1999-01-01                NaN                NaN  ...   \n",
       "1999-01-02                NaN                NaN  ...   \n",
       "\n",
       "            LS_SoilTemperature_Pit1_30cm  LS_SoilTemperature_Pit2_2cm  \\\n",
       "DateTime                                                                \n",
       "1999-01-01                           3.0                          3.0   \n",
       "1999-01-02                           3.0                          3.0   \n",
       "\n",
       "            LS_SoilTemperature_Pit2_15cm  LS_SoilTemperature_Pit2_30cm  \\\n",
       "DateTime                                                                 \n",
       "1999-01-01                           3.0                           3.0   \n",
       "1999-01-02                           3.0                           3.0   \n",
       "\n",
       "            LS_SoilTemperature_Pit3_2cm  LS_SoilTemperature_Pit3_15cm  \\\n",
       "DateTime                                                                \n",
       "1999-01-01                          3.0                           3.0   \n",
       "1999-01-02                          3.0                           3.0   \n",
       "\n",
       "            LS_SoilTemperature_Pit3_30cm  LS_SoilTemperature_Pit4_2cm  \\\n",
       "DateTime                                                                \n",
       "1999-01-01                           3.0                          3.0   \n",
       "1999-01-02                           3.0                          3.0   \n",
       "\n",
       "            LS_SoilTemperature_Pit4_15cm  LS_SoilTemperature_Pit4_30cm  \n",
       "DateTime                                                                \n",
       "1999-01-01                           3.0                           3.0  \n",
       "1999-01-02                           3.0                           3.0  \n",
       "\n",
       "[2 rows x 355 columns]"
      ]
     },
     "execution_count": 7,
     "metadata": {},
     "output_type": "execute_result"
    }
   ],
   "source": [
    "table_flag.head(2)"
   ]
  },
  {
   "cell_type": "markdown",
   "metadata": {},
   "source": [
    "### Create NetCDF file"
   ]
  },
  {
   "cell_type": "code",
   "execution_count": 8,
   "metadata": {},
   "outputs": [],
   "source": [
    "ncid = nc4.Dataset(watershed + \"_NetCDF.nc\", \"w\", format=\"NETCDF4\")"
   ]
  },
  {
   "cell_type": "markdown",
   "metadata": {},
   "source": [
    "### Extract the data from csv file"
   ]
  },
  {
   "cell_type": "code",
   "execution_count": 9,
   "metadata": {},
   "outputs": [],
   "source": [
    "#### 1. Extract grid points for each met variable"
   ]
  },
  {
   "cell_type": "code",
   "execution_count": 10,
   "metadata": {},
   "outputs": [
    {
     "name": "stdout",
     "output_type": "stream",
     "text": [
      "['TL' 'BSG' 'LG' 'C1E' 'C1W' 'C2E' 'C2M' 'BRW' 'LDP' 'SCR' 'LW' 'HN' 'HS'\n",
      " 'MHN' 'MHS' 'MLN' 'MLS' 'LN' 'LS']\n",
      "  \n"
     ]
    }
   ],
   "source": [
    "all_stations=table.columns.str.extract(r'([^_]+)')[0]\n",
    "print(all_stations.unique())\n",
    "print ('  ')"
   ]
  },
  {
   "cell_type": "code",
   "execution_count": 11,
   "metadata": {},
   "outputs": [],
   "source": [
    "data_datetime  = np.array(table.index)\n",
    "data_grid  = np.array(all_stations.unique())"
   ]
  },
  {
   "cell_type": "code",
   "execution_count": 12,
   "metadata": {},
   "outputs": [],
   "source": [
    "#### 2. Extract met data table for each met variable"
   ]
  },
  {
   "cell_type": "code",
   "execution_count": 13,
   "metadata": {},
   "outputs": [
    {
     "name": "stdout",
     "output_type": "stream",
     "text": [
      "['Discharge' 'Precipitation' 'AirTemperature' 'SolarRadiation'\n",
      " 'RelativeHumidity' 'WindDirection' 'WindSpeed' 'SnowDepth' 'SoilMoisture'\n",
      " 'SoilTemperature']\n"
     ]
    }
   ],
   "source": [
    "all_var = pd.Series([x[1] for x in table.columns.str.split(r'_')]).unique()\n",
    "print(all_var)"
   ]
  },
  {
   "cell_type": "code",
   "execution_count": 14,
   "metadata": {},
   "outputs": [
    {
     "name": "stdout",
     "output_type": "stream",
     "text": [
      "Names for Discharge : ['TL_Discharge', 'BSG_Discharge', 'LG_Discharge', 'C1E_Discharge', 'C1W_Discharge', 'C2E_Discharge', 'C2M_Discharge']\n",
      "Names for Precipitation : ['BRW_Precipitation', 'LDP_Precipitation', 'SCR_Precipitation', 'TL_Precipitation', 'LW_Precipitation']\n",
      "Names for AirTemperature : ['BRW_AirTemperature', 'LDP_AirTemperature', 'SCR_AirTemperature', 'TL_AirTemperature', 'LW_AirTemperature']\n",
      "Names for SolarRadiation : ['BRW_SolarRadiation_regular', 'BRW_SolarRadiation_net', 'LDP_SolarRadiation_regular', 'LDP_SolarRadiation_net', 'SCR_SolarRadiation_regular', 'SCR_SolarRadiation_net', 'TL_SolarRadiation_regular', 'TL_SolarRadiation_net', 'LW_SolarRadiation_regular', 'LW_SolarRadiation_net']\n",
      "Names for RelativeHumidity : ['BRW_RelativeHumidity', 'LDP_RelativeHumidity', 'SCR_RelativeHumidity', 'TL_RelativeHumidity', 'LW_RelativeHumidity']\n",
      "Names for WindDirection : ['BRW_WindDirection', 'LDP_WindDirection', 'SCR_WindDirection', 'TL_WindDirection', 'LW_WindDirection']\n",
      "Names for WindSpeed : ['BRW_WindSpeed', 'LDP_WindSpeed', 'SCR_WindSpeed', 'TL_WindSpeed', 'LW_WindSpeed']\n",
      "Names for SnowDepth : ['BRW_SnowDepth', 'LDP_SnowDepth', 'SCR_SnowDepth', 'TL_SnowDepth', 'LW_SnowDepth']\n",
      "Names for SoilMoisture : ['BRW_SoilMoisture_L_5cm', 'BRW_SoilMoisture_L_15cm', 'BRW_SoilMoisture_L_30cm', 'BRW_SoilMoisture_L_81cm', 'BRW_SoilMoisture_U_5cm', 'BRW_SoilMoisture_U_15cm', 'BRW_SoilMoisture_U_30cm', 'BRW_SoilMoisture_U_55cm', 'LDP_SoilMoisture_W_8cm', 'LDP_SoilMoisture_E_8cm', 'SCR_SoilMoisture_5cm', 'TL_SoilMoisture_P3_5cm', 'TL_SoilMoisture_P3_15cm', 'TL_SoilMoisture_P3_30cm', 'TL_SoilMoisture_P3_60cm', 'TL_SoilMoisture_P3_100cm', 'TL_SoilMoisture_P4_5cm', 'TL_SoilMoisture_P4_15cm', 'TL_SoilMoisture_P4_30cm', 'TL_SoilMoisture_P4_45cm', 'TL_SoilMoisture_P4_65cm', 'LW_SoilMoisture_P1_5cm', 'LW_SoilMoisture_P1_15cm', 'LW_SoilMoisture_P1_30cm', 'LW_SoilMoisture_P1_50cm', 'LW_SoilMoisture_P1_100cm', 'LW_SoilMoisture_P2_5cm', 'LW_SoilMoisture_P2_15cm', 'LW_SoilMoisture_P2_30cm', 'LW_SoilMoisture_P2_60cm', 'LW_SoilMoisture_P2_100cm', 'HN_SoilMoisture_Pit1_2cm', 'HN_SoilMoisture_Pit1_15cm', 'HN_SoilMoisture_Pit1_30cm', 'HN_SoilMoisture_Pit1_37cmBdrk', 'HN_SoilMoisture_Pit2_2cm', 'HN_SoilMoisture_Pit2_15cm', 'HN_SoilMoisture_Pit2_30cm', 'HN_SoilMoisture_Pit2_42cmBdrk', 'HN_SoilMoisture_Pit3_2cm', 'HN_SoilMoisture_Pit3_15cm', 'HN_SoilMoisture_Pit3_30cm', 'HN_SoilMoisture_Pit3_54cmBdrk', 'HN_SoilMoisture_Pit4_2cm', 'HN_SoilMoisture_Pit4_15cm', 'HN_SoilMoisture_Pit4_30cm', 'HN_SoilMoisture_Pit4_45cmBdrk', 'HS_SoilMoisture_Pit1_2cm', 'HS_SoilMoisture_Pit1_15cm', 'HS_SoilMoisture_Pit1_30cm', 'HS_SoilMoisture_Pit1_65cmBdrk', 'HS_SoilMoisture_Pit2_2cm', 'HS_SoilMoisture_Pit2_15cm', 'HS_SoilMoisture_Pit2_30cm', 'HS_SoilMoisture_Pit2_70cmBdrk', 'HS_SoilMoisture_Pit3_2cm', 'HS_SoilMoisture_Pit3_15cm', 'HS_SoilMoisture_Pit3_30cm', 'HS_SoilMoisture_Pit3_80cmBdrk', 'HS_SoilMoisture_Pit4_2cm', 'HS_SoilMoisture_Pit4_15cm', 'HS_SoilMoisture_Pit4_30cm', 'HS_SoilMoisture_Pit4_77cmBdrk', 'MHN_SoilMoisture_Pit1_2cm', 'MHN_SoilMoisture_Pit1_15cm', 'MHN_SoilMoisture_Pit1_30cm', 'MHN_SoilMoisture_Pit1_71cmBdrk', 'MHN_SoilMoisture_Pit2_2cm', 'MHN_SoilMoisture_Pit2_15cm', 'MHN_SoilMoisture_Pit2_30cm', 'MHN_SoilMoisture_Pit2_97cmBdrk', 'MHN_SoilMoisture_Pit3_2cm', 'MHN_SoilMoisture_Pit3_15cm', 'MHN_SoilMoisture_Pit3_30cm', 'MHN_SoilMoisture_Pit3_52cmBdrk', 'MHN_SoilMoisture_Pit4_2cm', 'MHN_SoilMoisture_Pit4_15cm', 'MHN_SoilMoisture_Pit4_30cm', 'MHN_SoilMoisture_Pit4_74cmBdrk', 'MHS_SoilMoisture_Pit1_2cm', 'MHS_SoilMoisture_Pit1_15cm', 'MHS_SoilMoisture_Pit1_30cm', 'MHS_SoilMoisture_Pit1_70cmBdrk', 'MHS_SoilMoisture_Pit2_2cm', 'MHS_SoilMoisture_Pit2_15cm', 'MHS_SoilMoisture_Pit2_30cm', 'MHS_SoilMoisture_Pit2_59cmBdrk', 'MHS_SoilMoisture_Pit3_2cm', 'MHS_SoilMoisture_Pit3_15cm', 'MHS_SoilMoisture_Pit3_30cm', 'MHS_SoilMoisture_Pit3_60cmBdrk', 'MHS_SoilMoisture_Pit4_2cm', 'MHS_SoilMoisture_Pit4_15cm', 'MHS_SoilMoisture_Pit4_30cm', 'MHS_SoilMoisture_Pit4_50cmBdrk', 'MLN_SoilMoisture_Pit1_2cm', 'MLN_SoilMoisture_Pit1_15cm', 'MLN_SoilMoisture_Pit1_30cm', 'MLN_SoilMoisture_Pit1_84cmBdrk', 'MLN_SoilMoisture_Pit2_2cm', 'MLN_SoilMoisture_Pit2_15cm', 'MLN_SoilMoisture_Pit2_30cm', 'MLN_SoilMoisture_Pit2_89cmBdrk', 'MLN_SoilMoisture_Pit3_2cm', 'MLN_SoilMoisture_Pit3_15cm', 'MLN_SoilMoisture_Pit3_30cm', 'MLN_SoilMoisture_Pit3_61cmBdrk', 'MLN_SoilMoisture_Pit4_2cm', 'MLN_SoilMoisture_Pit4_15cm', 'MLN_SoilMoisture_Pit4_30cm', 'MLN_SoilMoisture_Pit4_71cmBdrk', 'MLS_SoilMoisture_Pit1_2cm', 'MLS_SoilMoisture_Pit1_15cm', 'MLS_SoilMoisture_Pit1_30cm', 'MLS_SoilMoisture_Pit2_2cm', 'MLS_SoilMoisture_Pit2_15cm', 'MLS_SoilMoisture_Pit2_30cm', 'MLS_SoilMoisture_Pit3_2cm', 'MLS_SoilMoisture_Pit3_15cm', 'MLS_SoilMoisture_Pit3_30cm', 'MLS_SoilMoisture_Pit3_52cmBdrk', 'MLS_SoilMoisture_Pit4_2cm', 'MLS_SoilMoisture_Pit4_15cm', 'MLS_SoilMoisture_Pit4_30cm', 'LN_SoilMoisture_Pit1_2cm', 'LN_SoilMoisture_Pit1_15cm', 'LN_SoilMoisture_Pit1_30cm', 'LN_SoilMoisture_Pit1_62cmBdrk', 'LN_SoilMoisture_Pit2_2cm', 'LN_SoilMoisture_Pit2_15cm', 'LN_SoilMoisture_Pit2_30cm', 'LN_SoilMoisture_Pit2_62cmBdrk', 'LN_SoilMoisture_Pit3_2cm', 'LN_SoilMoisture_Pit3_15cm', 'LN_SoilMoisture_Pit3_30cm', 'LN_SoilMoisture_Pit3_62cmBdrk', 'LN_SoilMoisture_Pit4_2cm', 'LN_SoilMoisture_Pit4_15cm', 'LN_SoilMoisture_Pit4_30cm', 'LN_SoilMoisture_Pit4_56cmBdrk', 'LS_SoilMoisture_Pit1_2cm', 'LS_SoilMoisture_Pit1_15cm', 'LS_SoilMoisture_Pit1_30cm', 'LS_SoilMoisture_Pit2_2cm', 'LS_SoilMoisture_Pit2_15cm', 'LS_SoilMoisture_Pit2_30cm', 'LS_SoilMoisture_Pit3_2cm', 'LS_SoilMoisture_Pit3_15cm', 'LS_SoilMoisture_Pit3_30cm', 'LS_SoilMoisture_Pit4_2cm', 'LS_SoilMoisture_Pit4_15cm', 'LS_SoilMoisture_Pit4_30cm']\n",
      "Names for SoilTemperature : ['BRW_SoilTemperature_L_5cm', 'BRW_SoilTemperature_L_15cm', 'BRW_SoilTemperature_L_30cm', 'BRW_SoilTemperature_L_81cm', 'BRW_SoilTemperature_U_5cm', 'BRW_SoilTemperature_U_15cm', 'BRW_SoilTemperature_U_30cm', 'BRW_SoilTemperature_U_55cm', 'LDP_SoilTemperature_W_2cm', 'LDP_SoilTemperature_W_6cm', 'LDP_SoilTemperature_E_2cm', 'LDP_SoilTemperature_E_6cm', 'LDP_SoilTemperature_2.5cm', 'LDP_SoilTemperature_20cm', 'LDP_SoilTemperature_33cm', 'SCR_SoilTemperature_5cm', 'TL_SoilTemperature_P3_5cm', 'TL_SoilTemperature_P3_30cm', 'TL_SoilTemperature_P3_60cm', 'TL_SoilTemperature_P3_100cm', 'TL_SoilTemperature_P4_5cm', 'TL_SoilTemperature_P4_15cm', 'TL_SoilTemperature_P4_30cm', 'TL_SoilTemperature_P4_45cm', 'TL_SoilTemperature_P4_65cm', 'LW_SoilTemperature_P1_5cm', 'LW_SoilTemperature_P1_15cm', 'LW_SoilTemperature_P1_30cm', 'LW_SoilTemperature_P1_50cm', 'LW_SoilTemperature_P1_100cm', 'LW_SoilTemperature_P2_5cm', 'LW_SoilTemperature_P2_15cm', 'LW_SoilTemperature_P2_30cm', 'LW_SoilTemperature_P2_60cm', 'LW_SoilTemperature_P2_100cm', 'HN_SoilTemperature_Pit1_2cm', 'HN_SoilTemperature_Pit1_15cm', 'HN_SoilTemperature_Pit1_30cm', 'HN_SoilTemperature_Pit1_37cmBdrk', 'HN_SoilTemperature_Pit2_2cm', 'HN_SoilTemperature_Pit2_15cm', 'HN_SoilTemperature_Pit2_30cm', 'HN_SoilTemperature_Pit2_42cmBdrk', 'HN_SoilTemperature_Pit3_2cm', 'HN_SoilTemperature_Pit3_15cm', 'HN_SoilTemperature_Pit3_30cm', 'HN_SoilTemperature_Pit3_54cmBdrk', 'HN_SoilTemperature_Pit4_2cm', 'HN_SoilTemperature_Pit4_15cm', 'HN_SoilTemperature_Pit4_30cm', 'HN_SoilTemperature_Pit4_45cmBdrk', 'HS_SoilTemperature_Pit1_2cm', 'HS_SoilTemperature_Pit1_15cm', 'HS_SoilTemperature_Pit1_30cm', 'HS_SoilTemperature_Pit1_65cmBdrk', 'HS_SoilTemperature_Pit2_2cm', 'HS_SoilTemperature_Pit2_15cm', 'HS_SoilTemperature_Pit2_30cm', 'HS_SoilTemperature_Pit2_70cmBdrk', 'HS_SoilTemperature_Pit3_2cm', 'HS_SoilTemperature_Pit3_15cm', 'HS_SoilTemperature_Pit3_30cm', 'HS_SoilTemperature_Pit3_80cmBdrk', 'HS_SoilTemperature_Pit4_2cm', 'HS_SoilTemperature_Pit4_15cm', 'HS_SoilTemperature_Pit4_30cm', 'HS_SoilTemperature_Pit4_77cmBdrk', 'MHN_SoilTemperature_Pit1_2cm', 'MHN_SoilTemperature_Pit1_15cm', 'MHN_SoilTemperature_Pit1_30cm', 'MHN_SoilTemperature_Pit1_71cmBdrk', 'MHN_SoilTemperature_Pit2_2cm', 'MHN_SoilTemperature_Pit2_15cm', 'MHN_SoilTemperature_Pit2_30cm', 'MHN_SoilTemperature_Pit2_97cmBdrk', 'MHN_SoilTemperature_Pit3_2cm', 'MHN_SoilTemperature_Pit3_15cm', 'MHN_SoilTemperature_Pit3_30cm', 'MHN_SoilTemperature_Pit3_52cmBdrk', 'MHN_SoilTemperature_Pit4_2cm', 'MHN_SoilTemperature_Pit4_15cm', 'MHN_SoilTemperature_Pit4_30cm', 'MHN_SoilTemperature_Pit4_74cmBdrk', 'MHS_SoilTemperature_Pit1_2cm', 'MHS_SoilTemperature_Pit1_15cm', 'MHS_SoilTemperature_Pit1_30cm', 'MHS_SoilTemperature_Pit1_70cmBdrk', 'MHS_SoilTemperature_Pit2_2cm', 'MHS_SoilTemperature_Pit2_15cm', 'MHS_SoilTemperature_Pit2_30cm', 'MHS_SoilTemperature_Pit2_59cmBdrk', 'MHS_SoilTemperature_Pit3_2cm', 'MHS_SoilTemperature_Pit3_15cm', 'MHS_SoilTemperature_Pit3_30cm', 'MHS_SoilTemperature_Pit3_60cmBdrk', 'MHS_SoilTemperature_Pit4_2cm', 'MHS_SoilTemperature_Pit4_15cm', 'MHS_SoilTemperature_Pit4_30cm', 'MHS_SoilTemperature_Pit4_50cmBdrk', 'MLN_SoilTemperature_Pit1_2cm', 'MLN_SoilTemperature_Pit1_15cm', 'MLN_SoilTemperature_Pit1_30cm', 'MLN_SoilTemperature_Pit1_84cmBdrk', 'MLN_SoilTemperature_Pit2_2cm', 'MLN_SoilTemperature_Pit2_15cm', 'MLN_SoilTemperature_Pit2_30cm', 'MLN_SoilTemperature_Pit2_89cmBdrk', 'MLN_SoilTemperature_Pit3_2cm', 'MLN_SoilTemperature_Pit3_15cm', 'MLN_SoilTemperature_Pit3_30cm', 'MLN_SoilTemperature_Pit3_61cmBdrk', 'MLN_SoilTemperature_Pit4_2cm', 'MLN_SoilTemperature_Pit4_15cm', 'MLN_SoilTemperature_Pit4_30cm', 'MLN_SoilTemperature_Pit4_71cmBdrk', 'MLS_SoilTemperature_Pit1_2cm', 'MLS_SoilTemperature_Pit1_15cm', 'MLS_SoilTemperature_Pit1_30cm', 'MLS_SoilTemperature_Pit2_2cm', 'MLS_SoilTemperature_Pit2_15cm', 'MLS_SoilTemperature_Pit2_30cm', 'MLS_SoilTemperature_Pit3_2cm', 'MLS_SoilTemperature_Pit3_15cm', 'MLS_SoilTemperature_Pit3_30cm', 'MLS_SoilTemperature_Pit3_52cmBdrk', 'MLS_SoilTemperature_Pit4_2cm', 'MLS_SoilTemperature_Pit4_15cm', 'MLS_SoilTemperature_Pit4_30cm', 'LN_SoilTemperature_Pit1_2cm', 'LN_SoilTemperature_Pit1_15cm', 'LN_SoilTemperature_Pit1_30cm', 'LN_SoilTemperature_Pit1_62cmBdrk', 'LN_SoilTemperature_Pit2_2cm', 'LN_SoilTemperature_Pit2_15cm', 'LN_SoilTemperature_Pit2_30cm', 'LN_SoilTemperature_Pit2_62cmBdrk', 'LN_SoilTemperature_Pit3_2cm', 'LN_SoilTemperature_Pit3_15cm', 'LN_SoilTemperature_Pit3_30cm', 'LN_SoilTemperature_Pit3_62cmBdrk', 'LN_SoilTemperature_Pit4_2cm', 'LN_SoilTemperature_Pit4_15cm', 'LN_SoilTemperature_Pit4_30cm', 'LN_SoilTemperature_Pit4_56cmBdrk', 'LS_SoilTemperature_Pit1_2cm', 'LS_SoilTemperature_Pit1_15cm', 'LS_SoilTemperature_Pit1_30cm', 'LS_SoilTemperature_Pit2_2cm', 'LS_SoilTemperature_Pit2_15cm', 'LS_SoilTemperature_Pit2_30cm', 'LS_SoilTemperature_Pit3_2cm', 'LS_SoilTemperature_Pit3_15cm', 'LS_SoilTemperature_Pit3_30cm', 'LS_SoilTemperature_Pit4_2cm', 'LS_SoilTemperature_Pit4_15cm', 'LS_SoilTemperature_Pit4_30cm']\n"
     ]
    }
   ],
   "source": [
    "# Extract the discharge, precipitation, airtemperature,,, tables\n",
    "# Store the met grid for each met variable in data_grid_dic\n",
    "# Store the met data for each met variable in data_dic\n",
    "data_dic ={}\n",
    "data_names = {}\n",
    "\n",
    "for target in all_var:\n",
    "    target_list = []\n",
    "    for i in np.arange(len(table.columns)):\n",
    "        if table.columns[i].split(r'_')[1]== target:  ### \n",
    "            target_list.append(table.columns[i])  \n",
    "            \n",
    "    target_table = copy.deepcopy(table[target_list])\n",
    "    \n",
    "    data_names[target] = target_list\n",
    "    data_dic[target] = copy.deepcopy(target_table)\n",
    "    \n",
    "    print('Names for',target, ':',data_names[target] )"
   ]
  },
  {
   "cell_type": "code",
   "execution_count": 15,
   "metadata": {},
   "outputs": [],
   "source": [
    "data_flag_dic = {}\n",
    "\n",
    "for target in all_var:\n",
    "    target_list = []\n",
    "    target_grid = []\n",
    "    for i in np.arange(len(table.columns)):\n",
    "        if table.columns[i].split(r'_')[1]== target:  ### \n",
    "            target_list.append(table.columns[i])  \n",
    "            \n",
    "    target_table = copy.deepcopy(table_flag[target_list]) ###\n",
    "    data_flag_dic[target] = copy.deepcopy(target_table)"
   ]
  },
  {
   "cell_type": "code",
   "execution_count": 16,
   "metadata": {},
   "outputs": [
    {
     "data": {
      "text/html": [
       "<div>\n",
       "<style scoped>\n",
       "    .dataframe tbody tr th:only-of-type {\n",
       "        vertical-align: middle;\n",
       "    }\n",
       "\n",
       "    .dataframe tbody tr th {\n",
       "        vertical-align: top;\n",
       "    }\n",
       "\n",
       "    .dataframe thead th {\n",
       "        text-align: right;\n",
       "    }\n",
       "</style>\n",
       "<table border=\"1\" class=\"dataframe\">\n",
       "  <thead>\n",
       "    <tr style=\"text-align: right;\">\n",
       "      <th></th>\n",
       "      <th>TL_Discharge</th>\n",
       "      <th>BSG_Discharge</th>\n",
       "      <th>LG_Discharge</th>\n",
       "      <th>C1E_Discharge</th>\n",
       "      <th>C1W_Discharge</th>\n",
       "      <th>C2E_Discharge</th>\n",
       "      <th>C2M_Discharge</th>\n",
       "    </tr>\n",
       "    <tr>\n",
       "      <th>DateTime</th>\n",
       "      <th></th>\n",
       "      <th></th>\n",
       "      <th></th>\n",
       "      <th></th>\n",
       "      <th></th>\n",
       "      <th></th>\n",
       "      <th></th>\n",
       "    </tr>\n",
       "  </thead>\n",
       "  <tbody>\n",
       "    <tr>\n",
       "      <th>1999-01-01</th>\n",
       "      <td>NaN</td>\n",
       "      <td>NaN</td>\n",
       "      <td>4.0</td>\n",
       "      <td>4.0</td>\n",
       "      <td>NaN</td>\n",
       "      <td>4.0</td>\n",
       "      <td>4.0</td>\n",
       "    </tr>\n",
       "    <tr>\n",
       "      <th>1999-01-02</th>\n",
       "      <td>NaN</td>\n",
       "      <td>NaN</td>\n",
       "      <td>4.0</td>\n",
       "      <td>4.0</td>\n",
       "      <td>NaN</td>\n",
       "      <td>4.0</td>\n",
       "      <td>4.0</td>\n",
       "    </tr>\n",
       "  </tbody>\n",
       "</table>\n",
       "</div>"
      ],
      "text/plain": [
       "            TL_Discharge  BSG_Discharge  LG_Discharge  C1E_Discharge  \\\n",
       "DateTime                                                               \n",
       "1999-01-01           NaN            NaN           4.0            4.0   \n",
       "1999-01-02           NaN            NaN           4.0            4.0   \n",
       "\n",
       "            C1W_Discharge  C2E_Discharge  C2M_Discharge  \n",
       "DateTime                                                 \n",
       "1999-01-01            NaN            4.0            4.0  \n",
       "1999-01-02            NaN            4.0            4.0  "
      ]
     },
     "execution_count": 16,
     "metadata": {},
     "output_type": "execute_result"
    }
   ],
   "source": [
    "data_flag_dic['Discharge'].head(2)"
   ]
  },
  {
   "cell_type": "code",
   "execution_count": 17,
   "metadata": {},
   "outputs": [
    {
     "data": {
      "text/html": [
       "<div>\n",
       "<style scoped>\n",
       "    .dataframe tbody tr th:only-of-type {\n",
       "        vertical-align: middle;\n",
       "    }\n",
       "\n",
       "    .dataframe tbody tr th {\n",
       "        vertical-align: top;\n",
       "    }\n",
       "\n",
       "    .dataframe thead th {\n",
       "        text-align: right;\n",
       "    }\n",
       "</style>\n",
       "<table border=\"1\" class=\"dataframe\">\n",
       "  <thead>\n",
       "    <tr style=\"text-align: right;\">\n",
       "      <th></th>\n",
       "      <th>BRW_SoilTemperature_L_5cm</th>\n",
       "      <th>BRW_SoilTemperature_L_15cm</th>\n",
       "      <th>BRW_SoilTemperature_L_30cm</th>\n",
       "      <th>BRW_SoilTemperature_L_81cm</th>\n",
       "      <th>BRW_SoilTemperature_U_5cm</th>\n",
       "      <th>BRW_SoilTemperature_U_15cm</th>\n",
       "      <th>BRW_SoilTemperature_U_30cm</th>\n",
       "      <th>BRW_SoilTemperature_U_55cm</th>\n",
       "      <th>LDP_SoilTemperature_W_2cm</th>\n",
       "      <th>LDP_SoilTemperature_W_6cm</th>\n",
       "      <th>...</th>\n",
       "      <th>LS_SoilTemperature_Pit1_30cm</th>\n",
       "      <th>LS_SoilTemperature_Pit2_2cm</th>\n",
       "      <th>LS_SoilTemperature_Pit2_15cm</th>\n",
       "      <th>LS_SoilTemperature_Pit2_30cm</th>\n",
       "      <th>LS_SoilTemperature_Pit3_2cm</th>\n",
       "      <th>LS_SoilTemperature_Pit3_15cm</th>\n",
       "      <th>LS_SoilTemperature_Pit3_30cm</th>\n",
       "      <th>LS_SoilTemperature_Pit4_2cm</th>\n",
       "      <th>LS_SoilTemperature_Pit4_15cm</th>\n",
       "      <th>LS_SoilTemperature_Pit4_30cm</th>\n",
       "    </tr>\n",
       "    <tr>\n",
       "      <th>DateTime</th>\n",
       "      <th></th>\n",
       "      <th></th>\n",
       "      <th></th>\n",
       "      <th></th>\n",
       "      <th></th>\n",
       "      <th></th>\n",
       "      <th></th>\n",
       "      <th></th>\n",
       "      <th></th>\n",
       "      <th></th>\n",
       "      <th></th>\n",
       "      <th></th>\n",
       "      <th></th>\n",
       "      <th></th>\n",
       "      <th></th>\n",
       "      <th></th>\n",
       "      <th></th>\n",
       "      <th></th>\n",
       "      <th></th>\n",
       "      <th></th>\n",
       "      <th></th>\n",
       "    </tr>\n",
       "  </thead>\n",
       "  <tbody>\n",
       "    <tr>\n",
       "      <th>1999-01-01</th>\n",
       "      <td>NaN</td>\n",
       "      <td>0.0</td>\n",
       "      <td>0.0</td>\n",
       "      <td>3.0</td>\n",
       "      <td>4.0</td>\n",
       "      <td>4.0</td>\n",
       "      <td>4.0</td>\n",
       "      <td>3.0</td>\n",
       "      <td>3.0</td>\n",
       "      <td>3.0</td>\n",
       "      <td>...</td>\n",
       "      <td>3.0</td>\n",
       "      <td>3.0</td>\n",
       "      <td>3.0</td>\n",
       "      <td>3.0</td>\n",
       "      <td>3.0</td>\n",
       "      <td>3.0</td>\n",
       "      <td>3.0</td>\n",
       "      <td>3.0</td>\n",
       "      <td>3.0</td>\n",
       "      <td>3.0</td>\n",
       "    </tr>\n",
       "    <tr>\n",
       "      <th>1999-01-02</th>\n",
       "      <td>NaN</td>\n",
       "      <td>0.0</td>\n",
       "      <td>0.0</td>\n",
       "      <td>3.0</td>\n",
       "      <td>4.0</td>\n",
       "      <td>4.0</td>\n",
       "      <td>4.0</td>\n",
       "      <td>3.0</td>\n",
       "      <td>3.0</td>\n",
       "      <td>3.0</td>\n",
       "      <td>...</td>\n",
       "      <td>3.0</td>\n",
       "      <td>3.0</td>\n",
       "      <td>3.0</td>\n",
       "      <td>3.0</td>\n",
       "      <td>3.0</td>\n",
       "      <td>3.0</td>\n",
       "      <td>3.0</td>\n",
       "      <td>3.0</td>\n",
       "      <td>3.0</td>\n",
       "      <td>3.0</td>\n",
       "    </tr>\n",
       "  </tbody>\n",
       "</table>\n",
       "<p>2 rows × 156 columns</p>\n",
       "</div>"
      ],
      "text/plain": [
       "            BRW_SoilTemperature_L_5cm  BRW_SoilTemperature_L_15cm  \\\n",
       "DateTime                                                            \n",
       "1999-01-01                        NaN                         0.0   \n",
       "1999-01-02                        NaN                         0.0   \n",
       "\n",
       "            BRW_SoilTemperature_L_30cm  BRW_SoilTemperature_L_81cm  \\\n",
       "DateTime                                                             \n",
       "1999-01-01                         0.0                         3.0   \n",
       "1999-01-02                         0.0                         3.0   \n",
       "\n",
       "            BRW_SoilTemperature_U_5cm  BRW_SoilTemperature_U_15cm  \\\n",
       "DateTime                                                            \n",
       "1999-01-01                        4.0                         4.0   \n",
       "1999-01-02                        4.0                         4.0   \n",
       "\n",
       "            BRW_SoilTemperature_U_30cm  BRW_SoilTemperature_U_55cm  \\\n",
       "DateTime                                                             \n",
       "1999-01-01                         4.0                         3.0   \n",
       "1999-01-02                         4.0                         3.0   \n",
       "\n",
       "            LDP_SoilTemperature_W_2cm  LDP_SoilTemperature_W_6cm  ...  \\\n",
       "DateTime                                                          ...   \n",
       "1999-01-01                        3.0                        3.0  ...   \n",
       "1999-01-02                        3.0                        3.0  ...   \n",
       "\n",
       "            LS_SoilTemperature_Pit1_30cm  LS_SoilTemperature_Pit2_2cm  \\\n",
       "DateTime                                                                \n",
       "1999-01-01                           3.0                          3.0   \n",
       "1999-01-02                           3.0                          3.0   \n",
       "\n",
       "            LS_SoilTemperature_Pit2_15cm  LS_SoilTemperature_Pit2_30cm  \\\n",
       "DateTime                                                                 \n",
       "1999-01-01                           3.0                           3.0   \n",
       "1999-01-02                           3.0                           3.0   \n",
       "\n",
       "            LS_SoilTemperature_Pit3_2cm  LS_SoilTemperature_Pit3_15cm  \\\n",
       "DateTime                                                                \n",
       "1999-01-01                          3.0                           3.0   \n",
       "1999-01-02                          3.0                           3.0   \n",
       "\n",
       "            LS_SoilTemperature_Pit3_30cm  LS_SoilTemperature_Pit4_2cm  \\\n",
       "DateTime                                                                \n",
       "1999-01-01                           3.0                          3.0   \n",
       "1999-01-02                           3.0                          3.0   \n",
       "\n",
       "            LS_SoilTemperature_Pit4_15cm  LS_SoilTemperature_Pit4_30cm  \n",
       "DateTime                                                                \n",
       "1999-01-01                           3.0                           3.0  \n",
       "1999-01-02                           3.0                           3.0  \n",
       "\n",
       "[2 rows x 156 columns]"
      ]
     },
     "execution_count": 17,
     "metadata": {},
     "output_type": "execute_result"
    }
   ],
   "source": [
    "data_flag_dic['SoilTemperature'].head(2)"
   ]
  },
  {
   "cell_type": "markdown",
   "metadata": {},
   "source": [
    "### Dimensions"
   ]
  },
  {
   "cell_type": "code",
   "execution_count": 18,
   "metadata": {},
   "outputs": [],
   "source": [
    "# dimensions must be a tuple containing dimension names (strings) that have been defined using createDimension.\n",
    "# The default value is an empty tuple, which means the variable is a scalar."
   ]
  },
  {
   "cell_type": "code",
   "execution_count": 19,
   "metadata": {},
   "outputs": [],
   "source": [
    "# Create dimension for datetime and total grid points (all stations)\n",
    "dim_datetime = ncid.createDimension('Dim_Datetime',len(data_datetime))\n",
    "dim_grid = ncid.createDimension('Dim_Grid',len(data_grid)) "
   ]
  },
  {
   "cell_type": "code",
   "execution_count": 20,
   "metadata": {},
   "outputs": [
    {
     "data": {
      "text/plain": [
       "array(['TL', 'BSG', 'LG', 'C1E', 'C1W', 'C2E', 'C2M', 'BRW', 'LDP', 'SCR',\n",
       "       'LW', 'HN', 'HS', 'MHN', 'MHS', 'MLN', 'MLS', 'LN', 'LS'],\n",
       "      dtype=object)"
      ]
     },
     "execution_count": 20,
     "metadata": {},
     "output_type": "execute_result"
    }
   ],
   "source": [
    "data_grid"
   ]
  },
  {
   "cell_type": "code",
   "execution_count": 21,
   "metadata": {
    "scrolled": true
   },
   "outputs": [
    {
     "data": {
      "text/plain": [
       "<class 'netCDF4._netCDF4.Dimension'>: name = 'Dim_Datetime', size = 7670"
      ]
     },
     "execution_count": 21,
     "metadata": {},
     "output_type": "execute_result"
    }
   ],
   "source": [
    "dim_datetime"
   ]
  },
  {
   "cell_type": "code",
   "execution_count": 22,
   "metadata": {},
   "outputs": [
    {
     "data": {
      "text/plain": [
       "<class 'netCDF4._netCDF4.Dimension'>: name = 'Dim_Grid', size = 19"
      ]
     },
     "execution_count": 22,
     "metadata": {},
     "output_type": "execute_result"
    }
   ],
   "source": [
    "dim_grid"
   ]
  },
  {
   "cell_type": "code",
   "execution_count": 23,
   "metadata": {},
   "outputs": [],
   "source": [
    "# create dimensions of grid points for each met_var \n",
    "dim_dic = {}\n",
    "for met_var in all_var:\n",
    "    dim_dic[met_var] = ncid.createDimension('Dim_'+met_var+'_Grid',len(data_names[met_var ]))"
   ]
  },
  {
   "cell_type": "code",
   "execution_count": 24,
   "metadata": {},
   "outputs": [
    {
     "data": {
      "text/plain": [
       "<class 'netCDF4._netCDF4.Dimension'>: name = 'Dim_Discharge_Grid', size = 7"
      ]
     },
     "execution_count": 24,
     "metadata": {},
     "output_type": "execute_result"
    }
   ],
   "source": [
    "dim_dic['Discharge']"
   ]
  },
  {
   "cell_type": "code",
   "execution_count": 25,
   "metadata": {},
   "outputs": [
    {
     "data": {
      "text/plain": [
       "<class 'netCDF4._netCDF4.Dimension'>: name = 'Dim_SoilTemperature_Grid', size = 156"
      ]
     },
     "execution_count": 25,
     "metadata": {},
     "output_type": "execute_result"
    }
   ],
   "source": [
    "dim_dic['SoilTemperature']"
   ]
  },
  {
   "cell_type": "markdown",
   "metadata": {},
   "source": [
    "## Create variables"
   ]
  },
  {
   "cell_type": "markdown",
   "metadata": {},
   "source": [
    "### create datetime and total grids variables"
   ]
  },
  {
   "cell_type": "code",
   "execution_count": 26,
   "metadata": {},
   "outputs": [],
   "source": [
    "datetime = ncid.createVariable('Datetime',np.float64,('Dim_Datetime',), zlib = True, fill_value = False)\n",
    "grid = ncid.createVariable('Grid',np.str,('Dim_Grid',), zlib = True, fill_value = False)"
   ]
  },
  {
   "cell_type": "code",
   "execution_count": 27,
   "metadata": {},
   "outputs": [
    {
     "data": {
      "text/plain": [
       "<class 'netCDF4._netCDF4.Variable'>\n",
       "float64 Datetime(Dim_Datetime)\n",
       "unlimited dimensions: \n",
       "current shape = (7670,)\n",
       "filling off"
      ]
     },
     "execution_count": 27,
     "metadata": {},
     "output_type": "execute_result"
    }
   ],
   "source": [
    "datetime"
   ]
  },
  {
   "cell_type": "markdown",
   "metadata": {},
   "source": [
    "### create Discharge and Meteorology variables"
   ]
  },
  {
   "cell_type": "code",
   "execution_count": 28,
   "metadata": {},
   "outputs": [],
   "source": [
    "variable_dic = {}\n",
    "for met_var in all_var:\n",
    "    variable_dic[met_var] = ncid.createVariable(met_var,np.float64,('Dim_Datetime','Dim_' + met_var + '_Grid',),\n",
    "                                                zlib = True, fill_value = False)"
   ]
  },
  {
   "cell_type": "code",
   "execution_count": 29,
   "metadata": {},
   "outputs": [
    {
     "data": {
      "text/plain": [
       "<class 'netCDF4._netCDF4.Variable'>\n",
       "float64 Discharge(Dim_Datetime, Dim_Discharge_Grid)\n",
       "unlimited dimensions: \n",
       "current shape = (7670, 7)\n",
       "filling off"
      ]
     },
     "execution_count": 29,
     "metadata": {},
     "output_type": "execute_result"
    }
   ],
   "source": [
    "variable_dic['Discharge']"
   ]
  },
  {
   "cell_type": "code",
   "execution_count": 30,
   "metadata": {},
   "outputs": [
    {
     "data": {
      "text/plain": [
       "<class 'netCDF4._netCDF4.Variable'>\n",
       "float64 SoilTemperature(Dim_Datetime, Dim_SoilTemperature_Grid)\n",
       "unlimited dimensions: \n",
       "current shape = (7670, 156)\n",
       "filling off"
      ]
     },
     "execution_count": 30,
     "metadata": {},
     "output_type": "execute_result"
    }
   ],
   "source": [
    "variable_dic['SoilTemperature']"
   ]
  },
  {
   "cell_type": "markdown",
   "metadata": {},
   "source": [
    "### create Flag variables"
   ]
  },
  {
   "cell_type": "code",
   "execution_count": 31,
   "metadata": {},
   "outputs": [],
   "source": [
    "flag_dic = {}\n",
    "for met_var in all_var:\n",
    "    flag_var_name = met_var+'_Flag'\n",
    "    flag_dic[flag_var_name] = ncid.createVariable(flag_var_name ,np.float64,\n",
    "                                                   ('Dim_Datetime','Dim_' + met_var + '_Grid',),\n",
    "                                                        zlib = True, fill_value = False)"
   ]
  },
  {
   "cell_type": "code",
   "execution_count": 32,
   "metadata": {},
   "outputs": [
    {
     "data": {
      "text/plain": [
       "<class 'netCDF4._netCDF4.Variable'>\n",
       "float64 SoilTemperature_Flag(Dim_Datetime, Dim_SoilTemperature_Grid)\n",
       "unlimited dimensions: \n",
       "current shape = (7670, 156)\n",
       "filling off"
      ]
     },
     "execution_count": 32,
     "metadata": {},
     "output_type": "execute_result"
    }
   ],
   "source": [
    "flag_dic['SoilTemperature_Flag']"
   ]
  },
  {
   "cell_type": "markdown",
   "metadata": {},
   "source": [
    "## Write data"
   ]
  },
  {
   "cell_type": "markdown",
   "metadata": {},
   "source": [
    "### write data for datetime and grid variables"
   ]
  },
  {
   "cell_type": "code",
   "execution_count": 33,
   "metadata": {},
   "outputs": [],
   "source": [
    "# datetime"
   ]
  },
  {
   "cell_type": "code",
   "execution_count": 34,
   "metadata": {
    "scrolled": true
   },
   "outputs": [
    {
     "data": {
      "text/plain": [
       "array(['1999-01-01T00:00:00.000000000', '1999-01-02T00:00:00.000000000',\n",
       "       '1999-01-03T00:00:00.000000000', ...,\n",
       "       '2019-12-29T00:00:00.000000000', '2019-12-30T00:00:00.000000000',\n",
       "       '2019-12-31T00:00:00.000000000'], dtype='datetime64[ns]')"
      ]
     },
     "execution_count": 34,
     "metadata": {},
     "output_type": "execute_result"
    }
   ],
   "source": [
    "data_datetime"
   ]
  },
  {
   "cell_type": "code",
   "execution_count": 35,
   "metadata": {},
   "outputs": [],
   "source": [
    "datetime[:] = data_datetime\n",
    "grid[:] = data_grid"
   ]
  },
  {
   "cell_type": "code",
   "execution_count": 36,
   "metadata": {},
   "outputs": [
    {
     "data": {
      "text/plain": [
       "masked_array(data=[9.1514880e+17, 9.1523520e+17, 9.1532160e+17, ...,\n",
       "                   1.5775776e+18, 1.5776640e+18, 1.5777504e+18],\n",
       "             mask=False,\n",
       "       fill_value=1e+20)"
      ]
     },
     "execution_count": 36,
     "metadata": {},
     "output_type": "execute_result"
    }
   ],
   "source": [
    "ncid.variables['Datetime'][:]"
   ]
  },
  {
   "cell_type": "code",
   "execution_count": 37,
   "metadata": {
    "scrolled": true
   },
   "outputs": [
    {
     "data": {
      "text/plain": [
       "Timestamp('1999-01-01 00:00:00')"
      ]
     },
     "execution_count": 37,
     "metadata": {},
     "output_type": "execute_result"
    }
   ],
   "source": [
    "pd.to_datetime(ncid.variables['Datetime'][:][0])"
   ]
  },
  {
   "cell_type": "code",
   "execution_count": 38,
   "metadata": {},
   "outputs": [],
   "source": [
    "# grid"
   ]
  },
  {
   "cell_type": "code",
   "execution_count": 39,
   "metadata": {},
   "outputs": [
    {
     "data": {
      "text/plain": [
       "array(['TL', 'BSG', 'LG', 'C1E', 'C1W', 'C2E', 'C2M', 'BRW', 'LDP', 'SCR',\n",
       "       'LW', 'HN', 'HS', 'MHN', 'MHS', 'MLN', 'MLS', 'LN', 'LS'],\n",
       "      dtype=object)"
      ]
     },
     "execution_count": 39,
     "metadata": {},
     "output_type": "execute_result"
    }
   ],
   "source": [
    "data_grid"
   ]
  },
  {
   "cell_type": "code",
   "execution_count": 40,
   "metadata": {},
   "outputs": [
    {
     "data": {
      "text/plain": [
       "array(['TL', 'BSG', 'LG', 'C1E', 'C1W', 'C2E', 'C2M', 'BRW', 'LDP', 'SCR',\n",
       "       'LW', 'HN', 'HS', 'MHN', 'MHS', 'MLN', 'MLS', 'LN', 'LS'],\n",
       "      dtype=object)"
      ]
     },
     "execution_count": 40,
     "metadata": {},
     "output_type": "execute_result"
    }
   ],
   "source": [
    "ncid.variables['Grid'][:]"
   ]
  },
  {
   "cell_type": "markdown",
   "metadata": {},
   "source": [
    "### Write data for meteorology variables"
   ]
  },
  {
   "cell_type": "code",
   "execution_count": 41,
   "metadata": {},
   "outputs": [
    {
     "name": "stdout",
     "output_type": "stream",
     "text": [
      "Discharge\n",
      "Precipitation\n",
      "AirTemperature\n",
      "SolarRadiation\n",
      "RelativeHumidity\n",
      "WindDirection\n",
      "WindSpeed\n",
      "SnowDepth\n",
      "SoilMoisture\n",
      "SoilTemperature\n"
     ]
    }
   ],
   "source": [
    "for met_var in all_var:\n",
    "    print(met_var)\n",
    "    variable_dic[met_var][:]= data_dic[met_var].values"
   ]
  },
  {
   "cell_type": "code",
   "execution_count": 42,
   "metadata": {},
   "outputs": [
    {
     "data": {
      "text/plain": [
       "array([[       nan,        nan,        nan, ..., 5.40327729, 6.12827241,\n",
       "        6.49567132],\n",
       "       [       nan,        nan,        nan, ..., 5.25589668, 5.99262146,\n",
       "        6.36736467],\n",
       "       [       nan,        nan,        nan, ..., 3.9384033 , 4.77998422,\n",
       "        5.22038096],\n",
       "       ...,\n",
       "       [       nan,        nan,        nan, ...,        nan,        nan,\n",
       "               nan],\n",
       "       [       nan,        nan,        nan, ...,        nan,        nan,\n",
       "               nan],\n",
       "       [       nan,        nan,        nan, ...,        nan,        nan,\n",
       "               nan]])"
      ]
     },
     "execution_count": 42,
     "metadata": {},
     "output_type": "execute_result"
    }
   ],
   "source": [
    "data_dic['SoilTemperature'].values"
   ]
  },
  {
   "cell_type": "code",
   "execution_count": 43,
   "metadata": {},
   "outputs": [
    {
     "data": {
      "text/plain": [
       "masked_array(\n",
       "  data=[[       nan,        nan,        nan, ..., 5.40327729, 6.12827241,\n",
       "         6.49567132],\n",
       "        [       nan,        nan,        nan, ..., 5.25589668, 5.99262146,\n",
       "         6.36736467],\n",
       "        [       nan,        nan,        nan, ..., 3.9384033 , 4.77998422,\n",
       "         5.22038096],\n",
       "        ...,\n",
       "        [       nan,        nan,        nan, ...,        nan,        nan,\n",
       "                nan],\n",
       "        [       nan,        nan,        nan, ...,        nan,        nan,\n",
       "                nan],\n",
       "        [       nan,        nan,        nan, ...,        nan,        nan,\n",
       "                nan]],\n",
       "  mask=False,\n",
       "  fill_value=1e+20)"
      ]
     },
     "execution_count": 43,
     "metadata": {},
     "output_type": "execute_result"
    }
   ],
   "source": [
    "ncid.variables['SoilTemperature'][:]"
   ]
  },
  {
   "cell_type": "code",
   "execution_count": 44,
   "metadata": {},
   "outputs": [
    {
     "data": {
      "text/plain": [
       "(7670, 156)"
      ]
     },
     "execution_count": 44,
     "metadata": {},
     "output_type": "execute_result"
    }
   ],
   "source": [
    "ncid.variables['SoilTemperature'][:].shape"
   ]
  },
  {
   "cell_type": "code",
   "execution_count": 45,
   "metadata": {},
   "outputs": [],
   "source": [
    "#on the 12134th date, the discharge data for all nine met stations \n",
    "#ncid.variables['Discharge'][12134,:]"
   ]
  },
  {
   "cell_type": "code",
   "execution_count": 46,
   "metadata": {},
   "outputs": [],
   "source": [
    "#ncid.variables['Discharge'][:,3]"
   ]
  },
  {
   "cell_type": "markdown",
   "metadata": {},
   "source": [
    "### Write data for flag variables"
   ]
  },
  {
   "cell_type": "code",
   "execution_count": 47,
   "metadata": {},
   "outputs": [],
   "source": [
    "for met_var in all_var:\n",
    "    flag_var_name = met_var+'_Flag'\n",
    "    flag_dic[flag_var_name][:]= data_flag_dic[met_var].values"
   ]
  },
  {
   "cell_type": "code",
   "execution_count": 48,
   "metadata": {},
   "outputs": [
    {
     "data": {
      "text/plain": [
       "masked_array(\n",
       "  data=[[nan, nan,  4., ..., nan,  4.,  4.],\n",
       "        [nan, nan,  4., ..., nan,  4.,  4.],\n",
       "        [nan, nan,  4., ..., nan,  4.,  4.],\n",
       "        ...,\n",
       "        [nan, nan,  1., ..., nan,  3.,  3.],\n",
       "        [nan, nan,  1., ..., nan,  3.,  3.],\n",
       "        [nan, nan,  1., ..., nan,  3.,  3.]],\n",
       "  mask=False,\n",
       "  fill_value=1e+20)"
      ]
     },
     "execution_count": 48,
     "metadata": {},
     "output_type": "execute_result"
    }
   ],
   "source": [
    "ncid.variables['Discharge_Flag'][:]"
   ]
  },
  {
   "cell_type": "markdown",
   "metadata": {},
   "source": [
    "## Write Attributes (additional information)"
   ]
  },
  {
   "cell_type": "markdown",
   "metadata": {},
   "source": [
    "### Datetime attributes (to the class)"
   ]
  },
  {
   "cell_type": "code",
   "execution_count": 49,
   "metadata": {},
   "outputs": [
    {
     "data": {
      "text/plain": [
       "['1999-01-01', '2019-12-31']"
      ]
     },
     "execution_count": 49,
     "metadata": {},
     "output_type": "execute_result"
    }
   ],
   "source": [
    "# range attribute of datetime\n",
    "datetime.range = [str(table.index[0]).split(' ')[0], str(table.index[-1]).split(' ')[0]]\n",
    "datetime.range"
   ]
  },
  {
   "cell_type": "markdown",
   "metadata": {},
   "source": [
    "### Grid point attribues: Latitudes & Longitudes"
   ]
  },
  {
   "cell_type": "code",
   "execution_count": 50,
   "metadata": {
    "scrolled": true
   },
   "outputs": [
    {
     "data": {
      "text/plain": [
       "array(['TL', 'BSG', 'LG', 'C1E', 'C1W', 'C2E', 'C2M', 'BRW', 'LDP', 'SCR',\n",
       "       'LW', 'HN', 'HS', 'MHN', 'MHS', 'MLN', 'MLS', 'LN', 'LS'],\n",
       "      dtype=object)"
      ]
     },
     "execution_count": 50,
     "metadata": {},
     "output_type": "execute_result"
    }
   ],
   "source": [
    "ncid.variables['Grid'][:]"
   ]
  },
  {
   "cell_type": "code",
   "execution_count": 51,
   "metadata": {},
   "outputs": [],
   "source": [
    "ncid.variables['Grid'].latitude = ['43.73019','43.7407086','43.68834','43.7181614','43.7184233',\n",
    "                                   '43.7027903','43.7022778','43.75876','43.737078','43.71105',\n",
    "                                   '43.6885278','43.7406725','43.739075','43.7171517','43.7205044',\n",
    "                                   '43.7015067','43.7049736','43.6892464','43.69082']"
   ]
  },
  {
   "cell_type": "code",
   "execution_count": 52,
   "metadata": {},
   "outputs": [],
   "source": [
    "ncid.variables['Grid'].longitude = ['-116.140143','-116.0989983','-116.17862','-116.1372986','-116.1374192',\n",
    "                                   '-116.1527722','-116.154095','-116.090404','-116.1221131','-116.09912',\n",
    "                                   '-116.16991','-116.118595','-116.115775','-116.1253089','-116.1257444',\n",
    "                                   '-116.1484592','-116.1497381','-116.1696892','-116.1693822']"
   ]
  },
  {
   "cell_type": "code",
   "execution_count": 54,
   "metadata": {},
   "outputs": [],
   "source": [
    "ncid.variables['Grid'].elevation = ['1610','1680','1036','1335','1342','1158','1143','2114','1850','1720',\n",
    "                                   '1151','1812','1835','1472','1457','1288','1298','1120','1139']"
   ]
  },
  {
   "cell_type": "code",
   "execution_count": 55,
   "metadata": {},
   "outputs": [],
   "source": [
    "ncid.variables['Grid'].area = [''] * len(ncid.variables['Grid'][:])"
   ]
  },
  {
   "cell_type": "code",
   "execution_count": 56,
   "metadata": {},
   "outputs": [
    {
     "name": "stdout",
     "output_type": "stream",
     "text": [
      "19 19 19 19 19 True\n"
     ]
    }
   ],
   "source": [
    "# check the dimensions\n",
    "a = len(ncid.variables['Grid'][:]) \n",
    "b = len(ncid.variables['Grid'].latitude)\n",
    "c = len(ncid.variables['Grid'].longitude)\n",
    "d = len(ncid.variables['Grid'].longitude)\n",
    "e = len(ncid.variables['Grid'].area)\n",
    "print(a,b,c,d,e,a==b==c==d==e)"
   ]
  },
  {
   "cell_type": "markdown",
   "metadata": {},
   "source": [
    "### Meteorology variable attributes : Units & Location"
   ]
  },
  {
   "cell_type": "code",
   "execution_count": 57,
   "metadata": {},
   "outputs": [],
   "source": [
    "for var in all_var:\n",
    "    variable_dic[var].names = data_names[var]"
   ]
  },
  {
   "cell_type": "code",
   "execution_count": 58,
   "metadata": {},
   "outputs": [
    {
     "name": "stdout",
     "output_type": "stream",
     "text": [
      "Discharge 1999-01-01 , 2019-12-31\n",
      "Precipitation 1999-01-01 , 2019-12-31\n",
      "AirTemperature 1999-01-01 , 2019-12-31\n",
      "SolarRadiation 2000-01-01 , 2019-12-31\n",
      "RelativeHumidity 1999-01-01 , 2019-12-31\n",
      "WindDirection 1999-01-01 , 2019-12-31\n",
      "WindSpeed 1999-01-01 , 2019-12-31\n",
      "SnowDepth 1999-01-01 , 2019-12-31\n",
      "SoilMoisture 1999-01-01 , 2018-05-21\n",
      "SoilTemperature 1999-01-01 , 2018-05-21\n"
     ]
    }
   ],
   "source": [
    "for var in all_var:\n",
    "    start = ''\n",
    "    over = ''\n",
    "    var_column = []\n",
    "    for k in table.columns:\n",
    "        if k.split('_')[1] == var:\n",
    "            var_column.append(k)\n",
    "    var_table = table[var_column]\n",
    "    for i in range(var_table.shape[0]):\n",
    "        if any(var_table.iloc[i,:].notnull()) == True: # Any one of them is true\n",
    "            start = var_table.index[i]\n",
    "            break\n",
    "            \n",
    "    for i in range(1,var_table.shape[0]):\n",
    "        if any(var_table.iloc[-i,:].notnull()) == True: # Since some are empty\n",
    "            over = var_table.index[-i]\n",
    "            break\n",
    "            \n",
    "    print(var, str(start)[:-9], ',',str(over)[:-9] )\n",
    "    variable_dic[var].time = [str(start)[:-9], str(over)[:-9]]"
   ]
  },
  {
   "cell_type": "code",
   "execution_count": 59,
   "metadata": {},
   "outputs": [
    {
     "data": {
      "text/plain": [
       "['TL_Discharge',\n",
       " 'BSG_Discharge',\n",
       " 'LG_Discharge',\n",
       " 'C1E_Discharge',\n",
       " 'C1W_Discharge',\n",
       " 'C2E_Discharge',\n",
       " 'C2M_Discharge']"
      ]
     },
     "execution_count": 59,
     "metadata": {},
     "output_type": "execute_result"
    }
   ],
   "source": [
    "var = 'Discharge'\n",
    "variable_dic[var].units = 'L/s'\n",
    "variable_dic[var].names"
   ]
  },
  {
   "cell_type": "code",
   "execution_count": 60,
   "metadata": {},
   "outputs": [
    {
     "data": {
      "text/plain": [
       "['BRW_Precipitation',\n",
       " 'LDP_Precipitation',\n",
       " 'SCR_Precipitation',\n",
       " 'TL_Precipitation',\n",
       " 'LW_Precipitation']"
      ]
     },
     "execution_count": 60,
     "metadata": {},
     "output_type": "execute_result"
    }
   ],
   "source": [
    "var = 'Precipitation'\n",
    "variable_dic[var].units = 'mm/d'\n",
    "variable_dic[var].names"
   ]
  },
  {
   "cell_type": "code",
   "execution_count": 61,
   "metadata": {},
   "outputs": [
    {
     "data": {
      "text/plain": [
       "['BRW_AirTemperature',\n",
       " 'LDP_AirTemperature',\n",
       " 'SCR_AirTemperature',\n",
       " 'TL_AirTemperature',\n",
       " 'LW_AirTemperature']"
      ]
     },
     "execution_count": 61,
     "metadata": {},
     "output_type": "execute_result"
    }
   ],
   "source": [
    "var = 'AirTemperature'\n",
    "variable_dic[var].units = 'Degree celsius'\n",
    "variable_dic[var].names"
   ]
  },
  {
   "cell_type": "code",
   "execution_count": 62,
   "metadata": {},
   "outputs": [
    {
     "data": {
      "text/plain": [
       "['BRW_SolarRadiation_regular',\n",
       " 'BRW_SolarRadiation_net',\n",
       " 'LDP_SolarRadiation_regular',\n",
       " 'LDP_SolarRadiation_net',\n",
       " 'SCR_SolarRadiation_regular',\n",
       " 'SCR_SolarRadiation_net',\n",
       " 'TL_SolarRadiation_regular',\n",
       " 'TL_SolarRadiation_net',\n",
       " 'LW_SolarRadiation_regular',\n",
       " 'LW_SolarRadiation_net']"
      ]
     },
     "execution_count": 62,
     "metadata": {},
     "output_type": "execute_result"
    }
   ],
   "source": [
    "var = 'SolarRadiation'\n",
    "variable_dic[var].units = 'W/m2'\n",
    "variable_dic[var].names"
   ]
  },
  {
   "cell_type": "code",
   "execution_count": 63,
   "metadata": {},
   "outputs": [
    {
     "data": {
      "text/plain": [
       "['BRW_RelativeHumidity',\n",
       " 'LDP_RelativeHumidity',\n",
       " 'SCR_RelativeHumidity',\n",
       " 'TL_RelativeHumidity',\n",
       " 'LW_RelativeHumidity']"
      ]
     },
     "execution_count": 63,
     "metadata": {},
     "output_type": "execute_result"
    }
   ],
   "source": [
    "var = 'RelativeHumidity'\n",
    "variable_dic[var].units = '%'\n",
    "variable_dic[var].names"
   ]
  },
  {
   "cell_type": "code",
   "execution_count": 64,
   "metadata": {},
   "outputs": [
    {
     "data": {
      "text/plain": [
       "['BRW_WindDirection',\n",
       " 'LDP_WindDirection',\n",
       " 'SCR_WindDirection',\n",
       " 'TL_WindDirection',\n",
       " 'LW_WindDirection']"
      ]
     },
     "execution_count": 64,
     "metadata": {},
     "output_type": "execute_result"
    }
   ],
   "source": [
    "var = 'WindDirection'\n",
    "variable_dic[var].units = 'Degree'\n",
    "variable_dic[var].names"
   ]
  },
  {
   "cell_type": "code",
   "execution_count": 65,
   "metadata": {},
   "outputs": [
    {
     "data": {
      "text/plain": [
       "['BRW_WindSpeed',\n",
       " 'LDP_WindSpeed',\n",
       " 'SCR_WindSpeed',\n",
       " 'TL_WindSpeed',\n",
       " 'LW_WindSpeed']"
      ]
     },
     "execution_count": 65,
     "metadata": {},
     "output_type": "execute_result"
    }
   ],
   "source": [
    "var = 'WindSpeed'\n",
    "variable_dic[var].units = 'm/s'\n",
    "variable_dic[var].names"
   ]
  },
  {
   "cell_type": "code",
   "execution_count": 66,
   "metadata": {},
   "outputs": [
    {
     "data": {
      "text/plain": [
       "['BRW_SnowDepth',\n",
       " 'LDP_SnowDepth',\n",
       " 'SCR_SnowDepth',\n",
       " 'TL_SnowDepth',\n",
       " 'LW_SnowDepth']"
      ]
     },
     "execution_count": 66,
     "metadata": {},
     "output_type": "execute_result"
    }
   ],
   "source": [
    "var = 'SnowDepth'\n",
    "variable_dic[var].units = 'mm'\n",
    "variable_dic[var].names"
   ]
  },
  {
   "cell_type": "code",
   "execution_count": 67,
   "metadata": {},
   "outputs": [
    {
     "data": {
      "text/plain": [
       "['BRW_SoilMoisture_L_5cm',\n",
       " 'BRW_SoilMoisture_L_15cm',\n",
       " 'BRW_SoilMoisture_L_30cm',\n",
       " 'BRW_SoilMoisture_L_81cm',\n",
       " 'BRW_SoilMoisture_U_5cm',\n",
       " 'BRW_SoilMoisture_U_15cm',\n",
       " 'BRW_SoilMoisture_U_30cm',\n",
       " 'BRW_SoilMoisture_U_55cm',\n",
       " 'LDP_SoilMoisture_W_8cm',\n",
       " 'LDP_SoilMoisture_E_8cm',\n",
       " 'SCR_SoilMoisture_5cm',\n",
       " 'TL_SoilMoisture_P3_5cm',\n",
       " 'TL_SoilMoisture_P3_15cm',\n",
       " 'TL_SoilMoisture_P3_30cm',\n",
       " 'TL_SoilMoisture_P3_60cm',\n",
       " 'TL_SoilMoisture_P3_100cm',\n",
       " 'TL_SoilMoisture_P4_5cm',\n",
       " 'TL_SoilMoisture_P4_15cm',\n",
       " 'TL_SoilMoisture_P4_30cm',\n",
       " 'TL_SoilMoisture_P4_45cm',\n",
       " 'TL_SoilMoisture_P4_65cm',\n",
       " 'LW_SoilMoisture_P1_5cm',\n",
       " 'LW_SoilMoisture_P1_15cm',\n",
       " 'LW_SoilMoisture_P1_30cm',\n",
       " 'LW_SoilMoisture_P1_50cm',\n",
       " 'LW_SoilMoisture_P1_100cm',\n",
       " 'LW_SoilMoisture_P2_5cm',\n",
       " 'LW_SoilMoisture_P2_15cm',\n",
       " 'LW_SoilMoisture_P2_30cm',\n",
       " 'LW_SoilMoisture_P2_60cm',\n",
       " 'LW_SoilMoisture_P2_100cm',\n",
       " 'HN_SoilMoisture_Pit1_2cm',\n",
       " 'HN_SoilMoisture_Pit1_15cm',\n",
       " 'HN_SoilMoisture_Pit1_30cm',\n",
       " 'HN_SoilMoisture_Pit1_37cmBdrk',\n",
       " 'HN_SoilMoisture_Pit2_2cm',\n",
       " 'HN_SoilMoisture_Pit2_15cm',\n",
       " 'HN_SoilMoisture_Pit2_30cm',\n",
       " 'HN_SoilMoisture_Pit2_42cmBdrk',\n",
       " 'HN_SoilMoisture_Pit3_2cm',\n",
       " 'HN_SoilMoisture_Pit3_15cm',\n",
       " 'HN_SoilMoisture_Pit3_30cm',\n",
       " 'HN_SoilMoisture_Pit3_54cmBdrk',\n",
       " 'HN_SoilMoisture_Pit4_2cm',\n",
       " 'HN_SoilMoisture_Pit4_15cm',\n",
       " 'HN_SoilMoisture_Pit4_30cm',\n",
       " 'HN_SoilMoisture_Pit4_45cmBdrk',\n",
       " 'HS_SoilMoisture_Pit1_2cm',\n",
       " 'HS_SoilMoisture_Pit1_15cm',\n",
       " 'HS_SoilMoisture_Pit1_30cm',\n",
       " 'HS_SoilMoisture_Pit1_65cmBdrk',\n",
       " 'HS_SoilMoisture_Pit2_2cm',\n",
       " 'HS_SoilMoisture_Pit2_15cm',\n",
       " 'HS_SoilMoisture_Pit2_30cm',\n",
       " 'HS_SoilMoisture_Pit2_70cmBdrk',\n",
       " 'HS_SoilMoisture_Pit3_2cm',\n",
       " 'HS_SoilMoisture_Pit3_15cm',\n",
       " 'HS_SoilMoisture_Pit3_30cm',\n",
       " 'HS_SoilMoisture_Pit3_80cmBdrk',\n",
       " 'HS_SoilMoisture_Pit4_2cm',\n",
       " 'HS_SoilMoisture_Pit4_15cm',\n",
       " 'HS_SoilMoisture_Pit4_30cm',\n",
       " 'HS_SoilMoisture_Pit4_77cmBdrk',\n",
       " 'MHN_SoilMoisture_Pit1_2cm',\n",
       " 'MHN_SoilMoisture_Pit1_15cm',\n",
       " 'MHN_SoilMoisture_Pit1_30cm',\n",
       " 'MHN_SoilMoisture_Pit1_71cmBdrk',\n",
       " 'MHN_SoilMoisture_Pit2_2cm',\n",
       " 'MHN_SoilMoisture_Pit2_15cm',\n",
       " 'MHN_SoilMoisture_Pit2_30cm',\n",
       " 'MHN_SoilMoisture_Pit2_97cmBdrk',\n",
       " 'MHN_SoilMoisture_Pit3_2cm',\n",
       " 'MHN_SoilMoisture_Pit3_15cm',\n",
       " 'MHN_SoilMoisture_Pit3_30cm',\n",
       " 'MHN_SoilMoisture_Pit3_52cmBdrk',\n",
       " 'MHN_SoilMoisture_Pit4_2cm',\n",
       " 'MHN_SoilMoisture_Pit4_15cm',\n",
       " 'MHN_SoilMoisture_Pit4_30cm',\n",
       " 'MHN_SoilMoisture_Pit4_74cmBdrk',\n",
       " 'MHS_SoilMoisture_Pit1_2cm',\n",
       " 'MHS_SoilMoisture_Pit1_15cm',\n",
       " 'MHS_SoilMoisture_Pit1_30cm',\n",
       " 'MHS_SoilMoisture_Pit1_70cmBdrk',\n",
       " 'MHS_SoilMoisture_Pit2_2cm',\n",
       " 'MHS_SoilMoisture_Pit2_15cm',\n",
       " 'MHS_SoilMoisture_Pit2_30cm',\n",
       " 'MHS_SoilMoisture_Pit2_59cmBdrk',\n",
       " 'MHS_SoilMoisture_Pit3_2cm',\n",
       " 'MHS_SoilMoisture_Pit3_15cm',\n",
       " 'MHS_SoilMoisture_Pit3_30cm',\n",
       " 'MHS_SoilMoisture_Pit3_60cmBdrk',\n",
       " 'MHS_SoilMoisture_Pit4_2cm',\n",
       " 'MHS_SoilMoisture_Pit4_15cm',\n",
       " 'MHS_SoilMoisture_Pit4_30cm',\n",
       " 'MHS_SoilMoisture_Pit4_50cmBdrk',\n",
       " 'MLN_SoilMoisture_Pit1_2cm',\n",
       " 'MLN_SoilMoisture_Pit1_15cm',\n",
       " 'MLN_SoilMoisture_Pit1_30cm',\n",
       " 'MLN_SoilMoisture_Pit1_84cmBdrk',\n",
       " 'MLN_SoilMoisture_Pit2_2cm',\n",
       " 'MLN_SoilMoisture_Pit2_15cm',\n",
       " 'MLN_SoilMoisture_Pit2_30cm',\n",
       " 'MLN_SoilMoisture_Pit2_89cmBdrk',\n",
       " 'MLN_SoilMoisture_Pit3_2cm',\n",
       " 'MLN_SoilMoisture_Pit3_15cm',\n",
       " 'MLN_SoilMoisture_Pit3_30cm',\n",
       " 'MLN_SoilMoisture_Pit3_61cmBdrk',\n",
       " 'MLN_SoilMoisture_Pit4_2cm',\n",
       " 'MLN_SoilMoisture_Pit4_15cm',\n",
       " 'MLN_SoilMoisture_Pit4_30cm',\n",
       " 'MLN_SoilMoisture_Pit4_71cmBdrk',\n",
       " 'MLS_SoilMoisture_Pit1_2cm',\n",
       " 'MLS_SoilMoisture_Pit1_15cm',\n",
       " 'MLS_SoilMoisture_Pit1_30cm',\n",
       " 'MLS_SoilMoisture_Pit2_2cm',\n",
       " 'MLS_SoilMoisture_Pit2_15cm',\n",
       " 'MLS_SoilMoisture_Pit2_30cm',\n",
       " 'MLS_SoilMoisture_Pit3_2cm',\n",
       " 'MLS_SoilMoisture_Pit3_15cm',\n",
       " 'MLS_SoilMoisture_Pit3_30cm',\n",
       " 'MLS_SoilMoisture_Pit3_52cmBdrk',\n",
       " 'MLS_SoilMoisture_Pit4_2cm',\n",
       " 'MLS_SoilMoisture_Pit4_15cm',\n",
       " 'MLS_SoilMoisture_Pit4_30cm',\n",
       " 'LN_SoilMoisture_Pit1_2cm',\n",
       " 'LN_SoilMoisture_Pit1_15cm',\n",
       " 'LN_SoilMoisture_Pit1_30cm',\n",
       " 'LN_SoilMoisture_Pit1_62cmBdrk',\n",
       " 'LN_SoilMoisture_Pit2_2cm',\n",
       " 'LN_SoilMoisture_Pit2_15cm',\n",
       " 'LN_SoilMoisture_Pit2_30cm',\n",
       " 'LN_SoilMoisture_Pit2_62cmBdrk',\n",
       " 'LN_SoilMoisture_Pit3_2cm',\n",
       " 'LN_SoilMoisture_Pit3_15cm',\n",
       " 'LN_SoilMoisture_Pit3_30cm',\n",
       " 'LN_SoilMoisture_Pit3_62cmBdrk',\n",
       " 'LN_SoilMoisture_Pit4_2cm',\n",
       " 'LN_SoilMoisture_Pit4_15cm',\n",
       " 'LN_SoilMoisture_Pit4_30cm',\n",
       " 'LN_SoilMoisture_Pit4_56cmBdrk',\n",
       " 'LS_SoilMoisture_Pit1_2cm',\n",
       " 'LS_SoilMoisture_Pit1_15cm',\n",
       " 'LS_SoilMoisture_Pit1_30cm',\n",
       " 'LS_SoilMoisture_Pit2_2cm',\n",
       " 'LS_SoilMoisture_Pit2_15cm',\n",
       " 'LS_SoilMoisture_Pit2_30cm',\n",
       " 'LS_SoilMoisture_Pit3_2cm',\n",
       " 'LS_SoilMoisture_Pit3_15cm',\n",
       " 'LS_SoilMoisture_Pit3_30cm',\n",
       " 'LS_SoilMoisture_Pit4_2cm',\n",
       " 'LS_SoilMoisture_Pit4_15cm',\n",
       " 'LS_SoilMoisture_Pit4_30cm']"
      ]
     },
     "execution_count": 67,
     "metadata": {},
     "output_type": "execute_result"
    }
   ],
   "source": [
    "var = 'SoilMoisture'\n",
    "variable_dic[var].units ='%'\n",
    "variable_dic[var].names"
   ]
  },
  {
   "cell_type": "code",
   "execution_count": 68,
   "metadata": {},
   "outputs": [
    {
     "data": {
      "text/plain": [
       "['BRW_SoilTemperature_L_5cm',\n",
       " 'BRW_SoilTemperature_L_15cm',\n",
       " 'BRW_SoilTemperature_L_30cm',\n",
       " 'BRW_SoilTemperature_L_81cm',\n",
       " 'BRW_SoilTemperature_U_5cm',\n",
       " 'BRW_SoilTemperature_U_15cm',\n",
       " 'BRW_SoilTemperature_U_30cm',\n",
       " 'BRW_SoilTemperature_U_55cm',\n",
       " 'LDP_SoilTemperature_W_2cm',\n",
       " 'LDP_SoilTemperature_W_6cm',\n",
       " 'LDP_SoilTemperature_E_2cm',\n",
       " 'LDP_SoilTemperature_E_6cm',\n",
       " 'LDP_SoilTemperature_2.5cm',\n",
       " 'LDP_SoilTemperature_20cm',\n",
       " 'LDP_SoilTemperature_33cm',\n",
       " 'SCR_SoilTemperature_5cm',\n",
       " 'TL_SoilTemperature_P3_5cm',\n",
       " 'TL_SoilTemperature_P3_30cm',\n",
       " 'TL_SoilTemperature_P3_60cm',\n",
       " 'TL_SoilTemperature_P3_100cm',\n",
       " 'TL_SoilTemperature_P4_5cm',\n",
       " 'TL_SoilTemperature_P4_15cm',\n",
       " 'TL_SoilTemperature_P4_30cm',\n",
       " 'TL_SoilTemperature_P4_45cm',\n",
       " 'TL_SoilTemperature_P4_65cm',\n",
       " 'LW_SoilTemperature_P1_5cm',\n",
       " 'LW_SoilTemperature_P1_15cm',\n",
       " 'LW_SoilTemperature_P1_30cm',\n",
       " 'LW_SoilTemperature_P1_50cm',\n",
       " 'LW_SoilTemperature_P1_100cm',\n",
       " 'LW_SoilTemperature_P2_5cm',\n",
       " 'LW_SoilTemperature_P2_15cm',\n",
       " 'LW_SoilTemperature_P2_30cm',\n",
       " 'LW_SoilTemperature_P2_60cm',\n",
       " 'LW_SoilTemperature_P2_100cm',\n",
       " 'HN_SoilTemperature_Pit1_2cm',\n",
       " 'HN_SoilTemperature_Pit1_15cm',\n",
       " 'HN_SoilTemperature_Pit1_30cm',\n",
       " 'HN_SoilTemperature_Pit1_37cmBdrk',\n",
       " 'HN_SoilTemperature_Pit2_2cm',\n",
       " 'HN_SoilTemperature_Pit2_15cm',\n",
       " 'HN_SoilTemperature_Pit2_30cm',\n",
       " 'HN_SoilTemperature_Pit2_42cmBdrk',\n",
       " 'HN_SoilTemperature_Pit3_2cm',\n",
       " 'HN_SoilTemperature_Pit3_15cm',\n",
       " 'HN_SoilTemperature_Pit3_30cm',\n",
       " 'HN_SoilTemperature_Pit3_54cmBdrk',\n",
       " 'HN_SoilTemperature_Pit4_2cm',\n",
       " 'HN_SoilTemperature_Pit4_15cm',\n",
       " 'HN_SoilTemperature_Pit4_30cm',\n",
       " 'HN_SoilTemperature_Pit4_45cmBdrk',\n",
       " 'HS_SoilTemperature_Pit1_2cm',\n",
       " 'HS_SoilTemperature_Pit1_15cm',\n",
       " 'HS_SoilTemperature_Pit1_30cm',\n",
       " 'HS_SoilTemperature_Pit1_65cmBdrk',\n",
       " 'HS_SoilTemperature_Pit2_2cm',\n",
       " 'HS_SoilTemperature_Pit2_15cm',\n",
       " 'HS_SoilTemperature_Pit2_30cm',\n",
       " 'HS_SoilTemperature_Pit2_70cmBdrk',\n",
       " 'HS_SoilTemperature_Pit3_2cm',\n",
       " 'HS_SoilTemperature_Pit3_15cm',\n",
       " 'HS_SoilTemperature_Pit3_30cm',\n",
       " 'HS_SoilTemperature_Pit3_80cmBdrk',\n",
       " 'HS_SoilTemperature_Pit4_2cm',\n",
       " 'HS_SoilTemperature_Pit4_15cm',\n",
       " 'HS_SoilTemperature_Pit4_30cm',\n",
       " 'HS_SoilTemperature_Pit4_77cmBdrk',\n",
       " 'MHN_SoilTemperature_Pit1_2cm',\n",
       " 'MHN_SoilTemperature_Pit1_15cm',\n",
       " 'MHN_SoilTemperature_Pit1_30cm',\n",
       " 'MHN_SoilTemperature_Pit1_71cmBdrk',\n",
       " 'MHN_SoilTemperature_Pit2_2cm',\n",
       " 'MHN_SoilTemperature_Pit2_15cm',\n",
       " 'MHN_SoilTemperature_Pit2_30cm',\n",
       " 'MHN_SoilTemperature_Pit2_97cmBdrk',\n",
       " 'MHN_SoilTemperature_Pit3_2cm',\n",
       " 'MHN_SoilTemperature_Pit3_15cm',\n",
       " 'MHN_SoilTemperature_Pit3_30cm',\n",
       " 'MHN_SoilTemperature_Pit3_52cmBdrk',\n",
       " 'MHN_SoilTemperature_Pit4_2cm',\n",
       " 'MHN_SoilTemperature_Pit4_15cm',\n",
       " 'MHN_SoilTemperature_Pit4_30cm',\n",
       " 'MHN_SoilTemperature_Pit4_74cmBdrk',\n",
       " 'MHS_SoilTemperature_Pit1_2cm',\n",
       " 'MHS_SoilTemperature_Pit1_15cm',\n",
       " 'MHS_SoilTemperature_Pit1_30cm',\n",
       " 'MHS_SoilTemperature_Pit1_70cmBdrk',\n",
       " 'MHS_SoilTemperature_Pit2_2cm',\n",
       " 'MHS_SoilTemperature_Pit2_15cm',\n",
       " 'MHS_SoilTemperature_Pit2_30cm',\n",
       " 'MHS_SoilTemperature_Pit2_59cmBdrk',\n",
       " 'MHS_SoilTemperature_Pit3_2cm',\n",
       " 'MHS_SoilTemperature_Pit3_15cm',\n",
       " 'MHS_SoilTemperature_Pit3_30cm',\n",
       " 'MHS_SoilTemperature_Pit3_60cmBdrk',\n",
       " 'MHS_SoilTemperature_Pit4_2cm',\n",
       " 'MHS_SoilTemperature_Pit4_15cm',\n",
       " 'MHS_SoilTemperature_Pit4_30cm',\n",
       " 'MHS_SoilTemperature_Pit4_50cmBdrk',\n",
       " 'MLN_SoilTemperature_Pit1_2cm',\n",
       " 'MLN_SoilTemperature_Pit1_15cm',\n",
       " 'MLN_SoilTemperature_Pit1_30cm',\n",
       " 'MLN_SoilTemperature_Pit1_84cmBdrk',\n",
       " 'MLN_SoilTemperature_Pit2_2cm',\n",
       " 'MLN_SoilTemperature_Pit2_15cm',\n",
       " 'MLN_SoilTemperature_Pit2_30cm',\n",
       " 'MLN_SoilTemperature_Pit2_89cmBdrk',\n",
       " 'MLN_SoilTemperature_Pit3_2cm',\n",
       " 'MLN_SoilTemperature_Pit3_15cm',\n",
       " 'MLN_SoilTemperature_Pit3_30cm',\n",
       " 'MLN_SoilTemperature_Pit3_61cmBdrk',\n",
       " 'MLN_SoilTemperature_Pit4_2cm',\n",
       " 'MLN_SoilTemperature_Pit4_15cm',\n",
       " 'MLN_SoilTemperature_Pit4_30cm',\n",
       " 'MLN_SoilTemperature_Pit4_71cmBdrk',\n",
       " 'MLS_SoilTemperature_Pit1_2cm',\n",
       " 'MLS_SoilTemperature_Pit1_15cm',\n",
       " 'MLS_SoilTemperature_Pit1_30cm',\n",
       " 'MLS_SoilTemperature_Pit2_2cm',\n",
       " 'MLS_SoilTemperature_Pit2_15cm',\n",
       " 'MLS_SoilTemperature_Pit2_30cm',\n",
       " 'MLS_SoilTemperature_Pit3_2cm',\n",
       " 'MLS_SoilTemperature_Pit3_15cm',\n",
       " 'MLS_SoilTemperature_Pit3_30cm',\n",
       " 'MLS_SoilTemperature_Pit3_52cmBdrk',\n",
       " 'MLS_SoilTemperature_Pit4_2cm',\n",
       " 'MLS_SoilTemperature_Pit4_15cm',\n",
       " 'MLS_SoilTemperature_Pit4_30cm',\n",
       " 'LN_SoilTemperature_Pit1_2cm',\n",
       " 'LN_SoilTemperature_Pit1_15cm',\n",
       " 'LN_SoilTemperature_Pit1_30cm',\n",
       " 'LN_SoilTemperature_Pit1_62cmBdrk',\n",
       " 'LN_SoilTemperature_Pit2_2cm',\n",
       " 'LN_SoilTemperature_Pit2_15cm',\n",
       " 'LN_SoilTemperature_Pit2_30cm',\n",
       " 'LN_SoilTemperature_Pit2_62cmBdrk',\n",
       " 'LN_SoilTemperature_Pit3_2cm',\n",
       " 'LN_SoilTemperature_Pit3_15cm',\n",
       " 'LN_SoilTemperature_Pit3_30cm',\n",
       " 'LN_SoilTemperature_Pit3_62cmBdrk',\n",
       " 'LN_SoilTemperature_Pit4_2cm',\n",
       " 'LN_SoilTemperature_Pit4_15cm',\n",
       " 'LN_SoilTemperature_Pit4_30cm',\n",
       " 'LN_SoilTemperature_Pit4_56cmBdrk',\n",
       " 'LS_SoilTemperature_Pit1_2cm',\n",
       " 'LS_SoilTemperature_Pit1_15cm',\n",
       " 'LS_SoilTemperature_Pit1_30cm',\n",
       " 'LS_SoilTemperature_Pit2_2cm',\n",
       " 'LS_SoilTemperature_Pit2_15cm',\n",
       " 'LS_SoilTemperature_Pit2_30cm',\n",
       " 'LS_SoilTemperature_Pit3_2cm',\n",
       " 'LS_SoilTemperature_Pit3_15cm',\n",
       " 'LS_SoilTemperature_Pit3_30cm',\n",
       " 'LS_SoilTemperature_Pit4_2cm',\n",
       " 'LS_SoilTemperature_Pit4_15cm',\n",
       " 'LS_SoilTemperature_Pit4_30cm']"
      ]
     },
     "execution_count": 68,
     "metadata": {},
     "output_type": "execute_result"
    }
   ],
   "source": [
    "var = 'SoilTemperature'\n",
    "variable_dic[var].units = 'Degree celsius'\n",
    "variable_dic[var].names"
   ]
  },
  {
   "cell_type": "markdown",
   "metadata": {},
   "source": [
    "### Close the file"
   ]
  },
  {
   "cell_type": "code",
   "execution_count": 69,
   "metadata": {},
   "outputs": [
    {
     "data": {
      "text/plain": [
       "OrderedDict([('Datetime', <class 'netCDF4._netCDF4.Variable'>\n",
       "              float64 Datetime(Dim_Datetime)\n",
       "                  range: ['1999-01-01', '2019-12-31']\n",
       "              unlimited dimensions: \n",
       "              current shape = (7670,)\n",
       "              filling off), ('Grid', <class 'netCDF4._netCDF4.Variable'>\n",
       "              vlen Grid(Dim_Grid)\n",
       "                  latitude: ['43.73019', '43.7407086', '43.68834', '43.7181614', '43.7184233', '43.7027903', '43.7022778', '43.75876', '43.737078', '43.71105', '43.6885278', '43.7406725', '43.739075', '43.7171517', '43.7205044', '43.7015067', '43.7049736', '43.6892464', '43.69082']\n",
       "                  longitude: ['-116.140143', '-116.0989983', '-116.17862', '-116.1372986', '-116.1374192', '-116.1527722', '-116.154095', '-116.090404', '-116.1221131', '-116.09912', '-116.16991', '-116.118595', '-116.115775', '-116.1253089', '-116.1257444', '-116.1484592', '-116.1497381', '-116.1696892', '-116.1693822']\n",
       "                  elevation: ['1610', '1680', '1036', '1335', '1342', '1158', '1143', '2114', '1850', '1720', '1151', '1812', '1835', '1472', '1457', '1288', '1298', '1120', '1139']\n",
       "                  area: ['', '', '', '', '', '', '', '', '', '', '', '', '', '', '', '', '', '', '']\n",
       "              vlen data type: <class 'str'>\n",
       "              unlimited dimensions: \n",
       "              current shape = (19,)), ('Discharge',\n",
       "              <class 'netCDF4._netCDF4.Variable'>\n",
       "              float64 Discharge(Dim_Datetime, Dim_Discharge_Grid)\n",
       "                  names: ['TL_Discharge', 'BSG_Discharge', 'LG_Discharge', 'C1E_Discharge', 'C1W_Discharge', 'C2E_Discharge', 'C2M_Discharge']\n",
       "                  time: ['1999-01-01', '2019-12-31']\n",
       "                  units: L/s\n",
       "              unlimited dimensions: \n",
       "              current shape = (7670, 7)\n",
       "              filling off), ('Precipitation',\n",
       "              <class 'netCDF4._netCDF4.Variable'>\n",
       "              float64 Precipitation(Dim_Datetime, Dim_Precipitation_Grid)\n",
       "                  names: ['BRW_Precipitation', 'LDP_Precipitation', 'SCR_Precipitation', 'TL_Precipitation', 'LW_Precipitation']\n",
       "                  time: ['1999-01-01', '2019-12-31']\n",
       "                  units: mm/d\n",
       "              unlimited dimensions: \n",
       "              current shape = (7670, 5)\n",
       "              filling off), ('AirTemperature',\n",
       "              <class 'netCDF4._netCDF4.Variable'>\n",
       "              float64 AirTemperature(Dim_Datetime, Dim_AirTemperature_Grid)\n",
       "                  names: ['BRW_AirTemperature', 'LDP_AirTemperature', 'SCR_AirTemperature', 'TL_AirTemperature', 'LW_AirTemperature']\n",
       "                  time: ['1999-01-01', '2019-12-31']\n",
       "                  units: Degree celsius\n",
       "              unlimited dimensions: \n",
       "              current shape = (7670, 5)\n",
       "              filling off), ('SolarRadiation',\n",
       "              <class 'netCDF4._netCDF4.Variable'>\n",
       "              float64 SolarRadiation(Dim_Datetime, Dim_SolarRadiation_Grid)\n",
       "                  names: ['BRW_SolarRadiation_regular', 'BRW_SolarRadiation_net', 'LDP_SolarRadiation_regular', 'LDP_SolarRadiation_net', 'SCR_SolarRadiation_regular', 'SCR_SolarRadiation_net', 'TL_SolarRadiation_regular', 'TL_SolarRadiation_net', 'LW_SolarRadiation_regular', 'LW_SolarRadiation_net']\n",
       "                  time: ['2000-01-01', '2019-12-31']\n",
       "                  units: W/m2\n",
       "              unlimited dimensions: \n",
       "              current shape = (7670, 10)\n",
       "              filling off), ('RelativeHumidity',\n",
       "              <class 'netCDF4._netCDF4.Variable'>\n",
       "              float64 RelativeHumidity(Dim_Datetime, Dim_RelativeHumidity_Grid)\n",
       "                  names: ['BRW_RelativeHumidity', 'LDP_RelativeHumidity', 'SCR_RelativeHumidity', 'TL_RelativeHumidity', 'LW_RelativeHumidity']\n",
       "                  time: ['1999-01-01', '2019-12-31']\n",
       "                  units: %\n",
       "              unlimited dimensions: \n",
       "              current shape = (7670, 5)\n",
       "              filling off), ('WindDirection',\n",
       "              <class 'netCDF4._netCDF4.Variable'>\n",
       "              float64 WindDirection(Dim_Datetime, Dim_WindDirection_Grid)\n",
       "                  names: ['BRW_WindDirection', 'LDP_WindDirection', 'SCR_WindDirection', 'TL_WindDirection', 'LW_WindDirection']\n",
       "                  time: ['1999-01-01', '2019-12-31']\n",
       "                  units: Degree\n",
       "              unlimited dimensions: \n",
       "              current shape = (7670, 5)\n",
       "              filling off), ('WindSpeed', <class 'netCDF4._netCDF4.Variable'>\n",
       "              float64 WindSpeed(Dim_Datetime, Dim_WindSpeed_Grid)\n",
       "                  names: ['BRW_WindSpeed', 'LDP_WindSpeed', 'SCR_WindSpeed', 'TL_WindSpeed', 'LW_WindSpeed']\n",
       "                  time: ['1999-01-01', '2019-12-31']\n",
       "                  units: m/s\n",
       "              unlimited dimensions: \n",
       "              current shape = (7670, 5)\n",
       "              filling off), ('SnowDepth', <class 'netCDF4._netCDF4.Variable'>\n",
       "              float64 SnowDepth(Dim_Datetime, Dim_SnowDepth_Grid)\n",
       "                  names: ['BRW_SnowDepth', 'LDP_SnowDepth', 'SCR_SnowDepth', 'TL_SnowDepth', 'LW_SnowDepth']\n",
       "                  time: ['1999-01-01', '2019-12-31']\n",
       "                  units: mm\n",
       "              unlimited dimensions: \n",
       "              current shape = (7670, 5)\n",
       "              filling off), ('SoilMoisture',\n",
       "              <class 'netCDF4._netCDF4.Variable'>\n",
       "              float64 SoilMoisture(Dim_Datetime, Dim_SoilMoisture_Grid)\n",
       "                  names: ['BRW_SoilMoisture_L_5cm', 'BRW_SoilMoisture_L_15cm', 'BRW_SoilMoisture_L_30cm', 'BRW_SoilMoisture_L_81cm', 'BRW_SoilMoisture_U_5cm', 'BRW_SoilMoisture_U_15cm', 'BRW_SoilMoisture_U_30cm', 'BRW_SoilMoisture_U_55cm', 'LDP_SoilMoisture_W_8cm', 'LDP_SoilMoisture_E_8cm', 'SCR_SoilMoisture_5cm', 'TL_SoilMoisture_P3_5cm', 'TL_SoilMoisture_P3_15cm', 'TL_SoilMoisture_P3_30cm', 'TL_SoilMoisture_P3_60cm', 'TL_SoilMoisture_P3_100cm', 'TL_SoilMoisture_P4_5cm', 'TL_SoilMoisture_P4_15cm', 'TL_SoilMoisture_P4_30cm', 'TL_SoilMoisture_P4_45cm', 'TL_SoilMoisture_P4_65cm', 'LW_SoilMoisture_P1_5cm', 'LW_SoilMoisture_P1_15cm', 'LW_SoilMoisture_P1_30cm', 'LW_SoilMoisture_P1_50cm', 'LW_SoilMoisture_P1_100cm', 'LW_SoilMoisture_P2_5cm', 'LW_SoilMoisture_P2_15cm', 'LW_SoilMoisture_P2_30cm', 'LW_SoilMoisture_P2_60cm', 'LW_SoilMoisture_P2_100cm', 'HN_SoilMoisture_Pit1_2cm', 'HN_SoilMoisture_Pit1_15cm', 'HN_SoilMoisture_Pit1_30cm', 'HN_SoilMoisture_Pit1_37cmBdrk', 'HN_SoilMoisture_Pit2_2cm', 'HN_SoilMoisture_Pit2_15cm', 'HN_SoilMoisture_Pit2_30cm', 'HN_SoilMoisture_Pit2_42cmBdrk', 'HN_SoilMoisture_Pit3_2cm', 'HN_SoilMoisture_Pit3_15cm', 'HN_SoilMoisture_Pit3_30cm', 'HN_SoilMoisture_Pit3_54cmBdrk', 'HN_SoilMoisture_Pit4_2cm', 'HN_SoilMoisture_Pit4_15cm', 'HN_SoilMoisture_Pit4_30cm', 'HN_SoilMoisture_Pit4_45cmBdrk', 'HS_SoilMoisture_Pit1_2cm', 'HS_SoilMoisture_Pit1_15cm', 'HS_SoilMoisture_Pit1_30cm', 'HS_SoilMoisture_Pit1_65cmBdrk', 'HS_SoilMoisture_Pit2_2cm', 'HS_SoilMoisture_Pit2_15cm', 'HS_SoilMoisture_Pit2_30cm', 'HS_SoilMoisture_Pit2_70cmBdrk', 'HS_SoilMoisture_Pit3_2cm', 'HS_SoilMoisture_Pit3_15cm', 'HS_SoilMoisture_Pit3_30cm', 'HS_SoilMoisture_Pit3_80cmBdrk', 'HS_SoilMoisture_Pit4_2cm', 'HS_SoilMoisture_Pit4_15cm', 'HS_SoilMoisture_Pit4_30cm', 'HS_SoilMoisture_Pit4_77cmBdrk', 'MHN_SoilMoisture_Pit1_2cm', 'MHN_SoilMoisture_Pit1_15cm', 'MHN_SoilMoisture_Pit1_30cm', 'MHN_SoilMoisture_Pit1_71cmBdrk', 'MHN_SoilMoisture_Pit2_2cm', 'MHN_SoilMoisture_Pit2_15cm', 'MHN_SoilMoisture_Pit2_30cm', 'MHN_SoilMoisture_Pit2_97cmBdrk', 'MHN_SoilMoisture_Pit3_2cm', 'MHN_SoilMoisture_Pit3_15cm', 'MHN_SoilMoisture_Pit3_30cm', 'MHN_SoilMoisture_Pit3_52cmBdrk', 'MHN_SoilMoisture_Pit4_2cm', 'MHN_SoilMoisture_Pit4_15cm', 'MHN_SoilMoisture_Pit4_30cm', 'MHN_SoilMoisture_Pit4_74cmBdrk', 'MHS_SoilMoisture_Pit1_2cm', 'MHS_SoilMoisture_Pit1_15cm', 'MHS_SoilMoisture_Pit1_30cm', 'MHS_SoilMoisture_Pit1_70cmBdrk', 'MHS_SoilMoisture_Pit2_2cm', 'MHS_SoilMoisture_Pit2_15cm', 'MHS_SoilMoisture_Pit2_30cm', 'MHS_SoilMoisture_Pit2_59cmBdrk', 'MHS_SoilMoisture_Pit3_2cm', 'MHS_SoilMoisture_Pit3_15cm', 'MHS_SoilMoisture_Pit3_30cm', 'MHS_SoilMoisture_Pit3_60cmBdrk', 'MHS_SoilMoisture_Pit4_2cm', 'MHS_SoilMoisture_Pit4_15cm', 'MHS_SoilMoisture_Pit4_30cm', 'MHS_SoilMoisture_Pit4_50cmBdrk', 'MLN_SoilMoisture_Pit1_2cm', 'MLN_SoilMoisture_Pit1_15cm', 'MLN_SoilMoisture_Pit1_30cm', 'MLN_SoilMoisture_Pit1_84cmBdrk', 'MLN_SoilMoisture_Pit2_2cm', 'MLN_SoilMoisture_Pit2_15cm', 'MLN_SoilMoisture_Pit2_30cm', 'MLN_SoilMoisture_Pit2_89cmBdrk', 'MLN_SoilMoisture_Pit3_2cm', 'MLN_SoilMoisture_Pit3_15cm', 'MLN_SoilMoisture_Pit3_30cm', 'MLN_SoilMoisture_Pit3_61cmBdrk', 'MLN_SoilMoisture_Pit4_2cm', 'MLN_SoilMoisture_Pit4_15cm', 'MLN_SoilMoisture_Pit4_30cm', 'MLN_SoilMoisture_Pit4_71cmBdrk', 'MLS_SoilMoisture_Pit1_2cm', 'MLS_SoilMoisture_Pit1_15cm', 'MLS_SoilMoisture_Pit1_30cm', 'MLS_SoilMoisture_Pit2_2cm', 'MLS_SoilMoisture_Pit2_15cm', 'MLS_SoilMoisture_Pit2_30cm', 'MLS_SoilMoisture_Pit3_2cm', 'MLS_SoilMoisture_Pit3_15cm', 'MLS_SoilMoisture_Pit3_30cm', 'MLS_SoilMoisture_Pit3_52cmBdrk', 'MLS_SoilMoisture_Pit4_2cm', 'MLS_SoilMoisture_Pit4_15cm', 'MLS_SoilMoisture_Pit4_30cm', 'LN_SoilMoisture_Pit1_2cm', 'LN_SoilMoisture_Pit1_15cm', 'LN_SoilMoisture_Pit1_30cm', 'LN_SoilMoisture_Pit1_62cmBdrk', 'LN_SoilMoisture_Pit2_2cm', 'LN_SoilMoisture_Pit2_15cm', 'LN_SoilMoisture_Pit2_30cm', 'LN_SoilMoisture_Pit2_62cmBdrk', 'LN_SoilMoisture_Pit3_2cm', 'LN_SoilMoisture_Pit3_15cm', 'LN_SoilMoisture_Pit3_30cm', 'LN_SoilMoisture_Pit3_62cmBdrk', 'LN_SoilMoisture_Pit4_2cm', 'LN_SoilMoisture_Pit4_15cm', 'LN_SoilMoisture_Pit4_30cm', 'LN_SoilMoisture_Pit4_56cmBdrk', 'LS_SoilMoisture_Pit1_2cm', 'LS_SoilMoisture_Pit1_15cm', 'LS_SoilMoisture_Pit1_30cm', 'LS_SoilMoisture_Pit2_2cm', 'LS_SoilMoisture_Pit2_15cm', 'LS_SoilMoisture_Pit2_30cm', 'LS_SoilMoisture_Pit3_2cm', 'LS_SoilMoisture_Pit3_15cm', 'LS_SoilMoisture_Pit3_30cm', 'LS_SoilMoisture_Pit4_2cm', 'LS_SoilMoisture_Pit4_15cm', 'LS_SoilMoisture_Pit4_30cm']\n",
       "                  time: ['1999-01-01', '2018-05-21']\n",
       "                  units: %\n",
       "              unlimited dimensions: \n",
       "              current shape = (7670, 152)\n",
       "              filling off), ('SoilTemperature',\n",
       "              <class 'netCDF4._netCDF4.Variable'>\n",
       "              float64 SoilTemperature(Dim_Datetime, Dim_SoilTemperature_Grid)\n",
       "                  names: ['BRW_SoilTemperature_L_5cm', 'BRW_SoilTemperature_L_15cm', 'BRW_SoilTemperature_L_30cm', 'BRW_SoilTemperature_L_81cm', 'BRW_SoilTemperature_U_5cm', 'BRW_SoilTemperature_U_15cm', 'BRW_SoilTemperature_U_30cm', 'BRW_SoilTemperature_U_55cm', 'LDP_SoilTemperature_W_2cm', 'LDP_SoilTemperature_W_6cm', 'LDP_SoilTemperature_E_2cm', 'LDP_SoilTemperature_E_6cm', 'LDP_SoilTemperature_2.5cm', 'LDP_SoilTemperature_20cm', 'LDP_SoilTemperature_33cm', 'SCR_SoilTemperature_5cm', 'TL_SoilTemperature_P3_5cm', 'TL_SoilTemperature_P3_30cm', 'TL_SoilTemperature_P3_60cm', 'TL_SoilTemperature_P3_100cm', 'TL_SoilTemperature_P4_5cm', 'TL_SoilTemperature_P4_15cm', 'TL_SoilTemperature_P4_30cm', 'TL_SoilTemperature_P4_45cm', 'TL_SoilTemperature_P4_65cm', 'LW_SoilTemperature_P1_5cm', 'LW_SoilTemperature_P1_15cm', 'LW_SoilTemperature_P1_30cm', 'LW_SoilTemperature_P1_50cm', 'LW_SoilTemperature_P1_100cm', 'LW_SoilTemperature_P2_5cm', 'LW_SoilTemperature_P2_15cm', 'LW_SoilTemperature_P2_30cm', 'LW_SoilTemperature_P2_60cm', 'LW_SoilTemperature_P2_100cm', 'HN_SoilTemperature_Pit1_2cm', 'HN_SoilTemperature_Pit1_15cm', 'HN_SoilTemperature_Pit1_30cm', 'HN_SoilTemperature_Pit1_37cmBdrk', 'HN_SoilTemperature_Pit2_2cm', 'HN_SoilTemperature_Pit2_15cm', 'HN_SoilTemperature_Pit2_30cm', 'HN_SoilTemperature_Pit2_42cmBdrk', 'HN_SoilTemperature_Pit3_2cm', 'HN_SoilTemperature_Pit3_15cm', 'HN_SoilTemperature_Pit3_30cm', 'HN_SoilTemperature_Pit3_54cmBdrk', 'HN_SoilTemperature_Pit4_2cm', 'HN_SoilTemperature_Pit4_15cm', 'HN_SoilTemperature_Pit4_30cm', 'HN_SoilTemperature_Pit4_45cmBdrk', 'HS_SoilTemperature_Pit1_2cm', 'HS_SoilTemperature_Pit1_15cm', 'HS_SoilTemperature_Pit1_30cm', 'HS_SoilTemperature_Pit1_65cmBdrk', 'HS_SoilTemperature_Pit2_2cm', 'HS_SoilTemperature_Pit2_15cm', 'HS_SoilTemperature_Pit2_30cm', 'HS_SoilTemperature_Pit2_70cmBdrk', 'HS_SoilTemperature_Pit3_2cm', 'HS_SoilTemperature_Pit3_15cm', 'HS_SoilTemperature_Pit3_30cm', 'HS_SoilTemperature_Pit3_80cmBdrk', 'HS_SoilTemperature_Pit4_2cm', 'HS_SoilTemperature_Pit4_15cm', 'HS_SoilTemperature_Pit4_30cm', 'HS_SoilTemperature_Pit4_77cmBdrk', 'MHN_SoilTemperature_Pit1_2cm', 'MHN_SoilTemperature_Pit1_15cm', 'MHN_SoilTemperature_Pit1_30cm', 'MHN_SoilTemperature_Pit1_71cmBdrk', 'MHN_SoilTemperature_Pit2_2cm', 'MHN_SoilTemperature_Pit2_15cm', 'MHN_SoilTemperature_Pit2_30cm', 'MHN_SoilTemperature_Pit2_97cmBdrk', 'MHN_SoilTemperature_Pit3_2cm', 'MHN_SoilTemperature_Pit3_15cm', 'MHN_SoilTemperature_Pit3_30cm', 'MHN_SoilTemperature_Pit3_52cmBdrk', 'MHN_SoilTemperature_Pit4_2cm', 'MHN_SoilTemperature_Pit4_15cm', 'MHN_SoilTemperature_Pit4_30cm', 'MHN_SoilTemperature_Pit4_74cmBdrk', 'MHS_SoilTemperature_Pit1_2cm', 'MHS_SoilTemperature_Pit1_15cm', 'MHS_SoilTemperature_Pit1_30cm', 'MHS_SoilTemperature_Pit1_70cmBdrk', 'MHS_SoilTemperature_Pit2_2cm', 'MHS_SoilTemperature_Pit2_15cm', 'MHS_SoilTemperature_Pit2_30cm', 'MHS_SoilTemperature_Pit2_59cmBdrk', 'MHS_SoilTemperature_Pit3_2cm', 'MHS_SoilTemperature_Pit3_15cm', 'MHS_SoilTemperature_Pit3_30cm', 'MHS_SoilTemperature_Pit3_60cmBdrk', 'MHS_SoilTemperature_Pit4_2cm', 'MHS_SoilTemperature_Pit4_15cm', 'MHS_SoilTemperature_Pit4_30cm', 'MHS_SoilTemperature_Pit4_50cmBdrk', 'MLN_SoilTemperature_Pit1_2cm', 'MLN_SoilTemperature_Pit1_15cm', 'MLN_SoilTemperature_Pit1_30cm', 'MLN_SoilTemperature_Pit1_84cmBdrk', 'MLN_SoilTemperature_Pit2_2cm', 'MLN_SoilTemperature_Pit2_15cm', 'MLN_SoilTemperature_Pit2_30cm', 'MLN_SoilTemperature_Pit2_89cmBdrk', 'MLN_SoilTemperature_Pit3_2cm', 'MLN_SoilTemperature_Pit3_15cm', 'MLN_SoilTemperature_Pit3_30cm', 'MLN_SoilTemperature_Pit3_61cmBdrk', 'MLN_SoilTemperature_Pit4_2cm', 'MLN_SoilTemperature_Pit4_15cm', 'MLN_SoilTemperature_Pit4_30cm', 'MLN_SoilTemperature_Pit4_71cmBdrk', 'MLS_SoilTemperature_Pit1_2cm', 'MLS_SoilTemperature_Pit1_15cm', 'MLS_SoilTemperature_Pit1_30cm', 'MLS_SoilTemperature_Pit2_2cm', 'MLS_SoilTemperature_Pit2_15cm', 'MLS_SoilTemperature_Pit2_30cm', 'MLS_SoilTemperature_Pit3_2cm', 'MLS_SoilTemperature_Pit3_15cm', 'MLS_SoilTemperature_Pit3_30cm', 'MLS_SoilTemperature_Pit3_52cmBdrk', 'MLS_SoilTemperature_Pit4_2cm', 'MLS_SoilTemperature_Pit4_15cm', 'MLS_SoilTemperature_Pit4_30cm', 'LN_SoilTemperature_Pit1_2cm', 'LN_SoilTemperature_Pit1_15cm', 'LN_SoilTemperature_Pit1_30cm', 'LN_SoilTemperature_Pit1_62cmBdrk', 'LN_SoilTemperature_Pit2_2cm', 'LN_SoilTemperature_Pit2_15cm', 'LN_SoilTemperature_Pit2_30cm', 'LN_SoilTemperature_Pit2_62cmBdrk', 'LN_SoilTemperature_Pit3_2cm', 'LN_SoilTemperature_Pit3_15cm', 'LN_SoilTemperature_Pit3_30cm', 'LN_SoilTemperature_Pit3_62cmBdrk', 'LN_SoilTemperature_Pit4_2cm', 'LN_SoilTemperature_Pit4_15cm', 'LN_SoilTemperature_Pit4_30cm', 'LN_SoilTemperature_Pit4_56cmBdrk', 'LS_SoilTemperature_Pit1_2cm', 'LS_SoilTemperature_Pit1_15cm', 'LS_SoilTemperature_Pit1_30cm', 'LS_SoilTemperature_Pit2_2cm', 'LS_SoilTemperature_Pit2_15cm', 'LS_SoilTemperature_Pit2_30cm', 'LS_SoilTemperature_Pit3_2cm', 'LS_SoilTemperature_Pit3_15cm', 'LS_SoilTemperature_Pit3_30cm', 'LS_SoilTemperature_Pit4_2cm', 'LS_SoilTemperature_Pit4_15cm', 'LS_SoilTemperature_Pit4_30cm']\n",
       "                  time: ['1999-01-01', '2018-05-21']\n",
       "                  units: Degree celsius\n",
       "              unlimited dimensions: \n",
       "              current shape = (7670, 156)\n",
       "              filling off), ('Discharge_Flag',\n",
       "              <class 'netCDF4._netCDF4.Variable'>\n",
       "              float64 Discharge_Flag(Dim_Datetime, Dim_Discharge_Grid)\n",
       "              unlimited dimensions: \n",
       "              current shape = (7670, 7)\n",
       "              filling off), ('Precipitation_Flag',\n",
       "              <class 'netCDF4._netCDF4.Variable'>\n",
       "              float64 Precipitation_Flag(Dim_Datetime, Dim_Precipitation_Grid)\n",
       "              unlimited dimensions: \n",
       "              current shape = (7670, 5)\n",
       "              filling off), ('AirTemperature_Flag',\n",
       "              <class 'netCDF4._netCDF4.Variable'>\n",
       "              float64 AirTemperature_Flag(Dim_Datetime, Dim_AirTemperature_Grid)\n",
       "              unlimited dimensions: \n",
       "              current shape = (7670, 5)\n",
       "              filling off), ('SolarRadiation_Flag',\n",
       "              <class 'netCDF4._netCDF4.Variable'>\n",
       "              float64 SolarRadiation_Flag(Dim_Datetime, Dim_SolarRadiation_Grid)\n",
       "              unlimited dimensions: \n",
       "              current shape = (7670, 10)\n",
       "              filling off), ('RelativeHumidity_Flag',\n",
       "              <class 'netCDF4._netCDF4.Variable'>\n",
       "              float64 RelativeHumidity_Flag(Dim_Datetime, Dim_RelativeHumidity_Grid)\n",
       "              unlimited dimensions: \n",
       "              current shape = (7670, 5)\n",
       "              filling off), ('WindDirection_Flag',\n",
       "              <class 'netCDF4._netCDF4.Variable'>\n",
       "              float64 WindDirection_Flag(Dim_Datetime, Dim_WindDirection_Grid)\n",
       "              unlimited dimensions: \n",
       "              current shape = (7670, 5)\n",
       "              filling off), ('WindSpeed_Flag',\n",
       "              <class 'netCDF4._netCDF4.Variable'>\n",
       "              float64 WindSpeed_Flag(Dim_Datetime, Dim_WindSpeed_Grid)\n",
       "              unlimited dimensions: \n",
       "              current shape = (7670, 5)\n",
       "              filling off), ('SnowDepth_Flag',\n",
       "              <class 'netCDF4._netCDF4.Variable'>\n",
       "              float64 SnowDepth_Flag(Dim_Datetime, Dim_SnowDepth_Grid)\n",
       "              unlimited dimensions: \n",
       "              current shape = (7670, 5)\n",
       "              filling off), ('SoilMoisture_Flag',\n",
       "              <class 'netCDF4._netCDF4.Variable'>\n",
       "              float64 SoilMoisture_Flag(Dim_Datetime, Dim_SoilMoisture_Grid)\n",
       "              unlimited dimensions: \n",
       "              current shape = (7670, 152)\n",
       "              filling off), ('SoilTemperature_Flag',\n",
       "              <class 'netCDF4._netCDF4.Variable'>\n",
       "              float64 SoilTemperature_Flag(Dim_Datetime, Dim_SoilTemperature_Grid)\n",
       "              unlimited dimensions: \n",
       "              current shape = (7670, 156)\n",
       "              filling off)])"
      ]
     },
     "execution_count": 69,
     "metadata": {},
     "output_type": "execute_result"
    }
   ],
   "source": [
    "ncid.variables"
   ]
  },
  {
   "cell_type": "code",
   "execution_count": 70,
   "metadata": {},
   "outputs": [],
   "source": [
    "ncid.close()"
   ]
  },
  {
   "cell_type": "markdown",
   "metadata": {},
   "source": [
    "### Read the NetCDF file"
   ]
  },
  {
   "cell_type": "code",
   "execution_count": 71,
   "metadata": {},
   "outputs": [
    {
     "name": "stdout",
     "output_type": "stream",
     "text": [
      "<class 'netCDF4._netCDF4.Dataset'>\n",
      "root group (NETCDF4 data model, file format HDF5):\n",
      "    dimensions(sizes): Dim_Datetime(7670), Dim_Grid(19), Dim_Discharge_Grid(7), Dim_Precipitation_Grid(5), Dim_AirTemperature_Grid(5), Dim_SolarRadiation_Grid(10), Dim_RelativeHumidity_Grid(5), Dim_WindDirection_Grid(5), Dim_WindSpeed_Grid(5), Dim_SnowDepth_Grid(5), Dim_SoilMoisture_Grid(152), Dim_SoilTemperature_Grid(156)\n",
      "    variables(dimensions): float64 \u001b[4mDatetime\u001b[0m(Dim_Datetime), <class 'str'> \u001b[4mGrid\u001b[0m(Dim_Grid), float64 \u001b[4mDischarge\u001b[0m(Dim_Datetime,Dim_Discharge_Grid), float64 \u001b[4mPrecipitation\u001b[0m(Dim_Datetime,Dim_Precipitation_Grid), float64 \u001b[4mAirTemperature\u001b[0m(Dim_Datetime,Dim_AirTemperature_Grid), float64 \u001b[4mSolarRadiation\u001b[0m(Dim_Datetime,Dim_SolarRadiation_Grid), float64 \u001b[4mRelativeHumidity\u001b[0m(Dim_Datetime,Dim_RelativeHumidity_Grid), float64 \u001b[4mWindDirection\u001b[0m(Dim_Datetime,Dim_WindDirection_Grid), float64 \u001b[4mWindSpeed\u001b[0m(Dim_Datetime,Dim_WindSpeed_Grid), float64 \u001b[4mSnowDepth\u001b[0m(Dim_Datetime,Dim_SnowDepth_Grid), float64 \u001b[4mSoilMoisture\u001b[0m(Dim_Datetime,Dim_SoilMoisture_Grid), float64 \u001b[4mSoilTemperature\u001b[0m(Dim_Datetime,Dim_SoilTemperature_Grid), float64 \u001b[4mDischarge_Flag\u001b[0m(Dim_Datetime,Dim_Discharge_Grid), float64 \u001b[4mPrecipitation_Flag\u001b[0m(Dim_Datetime,Dim_Precipitation_Grid), float64 \u001b[4mAirTemperature_Flag\u001b[0m(Dim_Datetime,Dim_AirTemperature_Grid), float64 \u001b[4mSolarRadiation_Flag\u001b[0m(Dim_Datetime,Dim_SolarRadiation_Grid), float64 \u001b[4mRelativeHumidity_Flag\u001b[0m(Dim_Datetime,Dim_RelativeHumidity_Grid), float64 \u001b[4mWindDirection_Flag\u001b[0m(Dim_Datetime,Dim_WindDirection_Grid), float64 \u001b[4mWindSpeed_Flag\u001b[0m(Dim_Datetime,Dim_WindSpeed_Grid), float64 \u001b[4mSnowDepth_Flag\u001b[0m(Dim_Datetime,Dim_SnowDepth_Grid), float64 \u001b[4mSoilMoisture_Flag\u001b[0m(Dim_Datetime,Dim_SoilMoisture_Grid), float64 \u001b[4mSoilTemperature_Flag\u001b[0m(Dim_Datetime,Dim_SoilTemperature_Grid)\n",
      "    groups: \n",
      "\n"
     ]
    }
   ],
   "source": [
    "ncid2 = nc4.Dataset(watershed + '_NetCDF.nc', 'r')\n",
    "print(ncid2)"
   ]
  },
  {
   "cell_type": "code",
   "execution_count": 72,
   "metadata": {},
   "outputs": [
    {
     "name": "stdout",
     "output_type": "stream",
     "text": [
      "<class 'netCDF4._netCDF4.Variable'>\n",
      "float64 Discharge(Dim_Datetime, Dim_Discharge_Grid)\n",
      "    names: ['TL_Discharge', 'BSG_Discharge', 'LG_Discharge', 'C1E_Discharge', 'C1W_Discharge', 'C2E_Discharge', 'C2M_Discharge']\n",
      "    time: ['1999-01-01', '2019-12-31']\n",
      "    units: L/s\n",
      "unlimited dimensions: \n",
      "current shape = (7670, 7)\n",
      "filling off\n",
      "\n"
     ]
    }
   ],
   "source": [
    "print(ncid2.variables['Discharge'])"
   ]
  },
  {
   "cell_type": "code",
   "execution_count": 73,
   "metadata": {},
   "outputs": [
    {
     "data": {
      "text/plain": [
       "OrderedDict([('Datetime', <class 'netCDF4._netCDF4.Variable'>\n",
       "              float64 Datetime(Dim_Datetime)\n",
       "                  range: ['1999-01-01', '2019-12-31']\n",
       "              unlimited dimensions: \n",
       "              current shape = (7670,)\n",
       "              filling off), ('Grid', <class 'netCDF4._netCDF4.Variable'>\n",
       "              vlen Grid(Dim_Grid)\n",
       "                  latitude: ['43.73019', '43.7407086', '43.68834', '43.7181614', '43.7184233', '43.7027903', '43.7022778', '43.75876', '43.737078', '43.71105', '43.6885278', '43.7406725', '43.739075', '43.7171517', '43.7205044', '43.7015067', '43.7049736', '43.6892464', '43.69082']\n",
       "                  longitude: ['-116.140143', '-116.0989983', '-116.17862', '-116.1372986', '-116.1374192', '-116.1527722', '-116.154095', '-116.090404', '-116.1221131', '-116.09912', '-116.16991', '-116.118595', '-116.115775', '-116.1253089', '-116.1257444', '-116.1484592', '-116.1497381', '-116.1696892', '-116.1693822']\n",
       "                  elevation: ['1610', '1680', '1036', '1335', '1342', '1158', '1143', '2114', '1850', '1720', '1151', '1812', '1835', '1472', '1457', '1288', '1298', '1120', '1139']\n",
       "                  area: ['', '', '', '', '', '', '', '', '', '', '', '', '', '', '', '', '', '', '']\n",
       "              vlen data type: <class 'str'>\n",
       "              unlimited dimensions: \n",
       "              current shape = (19,)), ('Discharge',\n",
       "              <class 'netCDF4._netCDF4.Variable'>\n",
       "              float64 Discharge(Dim_Datetime, Dim_Discharge_Grid)\n",
       "                  names: ['TL_Discharge', 'BSG_Discharge', 'LG_Discharge', 'C1E_Discharge', 'C1W_Discharge', 'C2E_Discharge', 'C2M_Discharge']\n",
       "                  time: ['1999-01-01', '2019-12-31']\n",
       "                  units: L/s\n",
       "              unlimited dimensions: \n",
       "              current shape = (7670, 7)\n",
       "              filling off), ('Precipitation',\n",
       "              <class 'netCDF4._netCDF4.Variable'>\n",
       "              float64 Precipitation(Dim_Datetime, Dim_Precipitation_Grid)\n",
       "                  names: ['BRW_Precipitation', 'LDP_Precipitation', 'SCR_Precipitation', 'TL_Precipitation', 'LW_Precipitation']\n",
       "                  time: ['1999-01-01', '2019-12-31']\n",
       "                  units: mm/d\n",
       "              unlimited dimensions: \n",
       "              current shape = (7670, 5)\n",
       "              filling off), ('AirTemperature',\n",
       "              <class 'netCDF4._netCDF4.Variable'>\n",
       "              float64 AirTemperature(Dim_Datetime, Dim_AirTemperature_Grid)\n",
       "                  names: ['BRW_AirTemperature', 'LDP_AirTemperature', 'SCR_AirTemperature', 'TL_AirTemperature', 'LW_AirTemperature']\n",
       "                  time: ['1999-01-01', '2019-12-31']\n",
       "                  units: Degree celsius\n",
       "              unlimited dimensions: \n",
       "              current shape = (7670, 5)\n",
       "              filling off), ('SolarRadiation',\n",
       "              <class 'netCDF4._netCDF4.Variable'>\n",
       "              float64 SolarRadiation(Dim_Datetime, Dim_SolarRadiation_Grid)\n",
       "                  names: ['BRW_SolarRadiation_regular', 'BRW_SolarRadiation_net', 'LDP_SolarRadiation_regular', 'LDP_SolarRadiation_net', 'SCR_SolarRadiation_regular', 'SCR_SolarRadiation_net', 'TL_SolarRadiation_regular', 'TL_SolarRadiation_net', 'LW_SolarRadiation_regular', 'LW_SolarRadiation_net']\n",
       "                  time: ['2000-01-01', '2019-12-31']\n",
       "                  units: W/m2\n",
       "              unlimited dimensions: \n",
       "              current shape = (7670, 10)\n",
       "              filling off), ('RelativeHumidity',\n",
       "              <class 'netCDF4._netCDF4.Variable'>\n",
       "              float64 RelativeHumidity(Dim_Datetime, Dim_RelativeHumidity_Grid)\n",
       "                  names: ['BRW_RelativeHumidity', 'LDP_RelativeHumidity', 'SCR_RelativeHumidity', 'TL_RelativeHumidity', 'LW_RelativeHumidity']\n",
       "                  time: ['1999-01-01', '2019-12-31']\n",
       "                  units: %\n",
       "              unlimited dimensions: \n",
       "              current shape = (7670, 5)\n",
       "              filling off), ('WindDirection',\n",
       "              <class 'netCDF4._netCDF4.Variable'>\n",
       "              float64 WindDirection(Dim_Datetime, Dim_WindDirection_Grid)\n",
       "                  names: ['BRW_WindDirection', 'LDP_WindDirection', 'SCR_WindDirection', 'TL_WindDirection', 'LW_WindDirection']\n",
       "                  time: ['1999-01-01', '2019-12-31']\n",
       "                  units: Degree\n",
       "              unlimited dimensions: \n",
       "              current shape = (7670, 5)\n",
       "              filling off), ('WindSpeed', <class 'netCDF4._netCDF4.Variable'>\n",
       "              float64 WindSpeed(Dim_Datetime, Dim_WindSpeed_Grid)\n",
       "                  names: ['BRW_WindSpeed', 'LDP_WindSpeed', 'SCR_WindSpeed', 'TL_WindSpeed', 'LW_WindSpeed']\n",
       "                  time: ['1999-01-01', '2019-12-31']\n",
       "                  units: m/s\n",
       "              unlimited dimensions: \n",
       "              current shape = (7670, 5)\n",
       "              filling off), ('SnowDepth', <class 'netCDF4._netCDF4.Variable'>\n",
       "              float64 SnowDepth(Dim_Datetime, Dim_SnowDepth_Grid)\n",
       "                  names: ['BRW_SnowDepth', 'LDP_SnowDepth', 'SCR_SnowDepth', 'TL_SnowDepth', 'LW_SnowDepth']\n",
       "                  time: ['1999-01-01', '2019-12-31']\n",
       "                  units: mm\n",
       "              unlimited dimensions: \n",
       "              current shape = (7670, 5)\n",
       "              filling off), ('SoilMoisture',\n",
       "              <class 'netCDF4._netCDF4.Variable'>\n",
       "              float64 SoilMoisture(Dim_Datetime, Dim_SoilMoisture_Grid)\n",
       "                  names: ['BRW_SoilMoisture_L_5cm', 'BRW_SoilMoisture_L_15cm', 'BRW_SoilMoisture_L_30cm', 'BRW_SoilMoisture_L_81cm', 'BRW_SoilMoisture_U_5cm', 'BRW_SoilMoisture_U_15cm', 'BRW_SoilMoisture_U_30cm', 'BRW_SoilMoisture_U_55cm', 'LDP_SoilMoisture_W_8cm', 'LDP_SoilMoisture_E_8cm', 'SCR_SoilMoisture_5cm', 'TL_SoilMoisture_P3_5cm', 'TL_SoilMoisture_P3_15cm', 'TL_SoilMoisture_P3_30cm', 'TL_SoilMoisture_P3_60cm', 'TL_SoilMoisture_P3_100cm', 'TL_SoilMoisture_P4_5cm', 'TL_SoilMoisture_P4_15cm', 'TL_SoilMoisture_P4_30cm', 'TL_SoilMoisture_P4_45cm', 'TL_SoilMoisture_P4_65cm', 'LW_SoilMoisture_P1_5cm', 'LW_SoilMoisture_P1_15cm', 'LW_SoilMoisture_P1_30cm', 'LW_SoilMoisture_P1_50cm', 'LW_SoilMoisture_P1_100cm', 'LW_SoilMoisture_P2_5cm', 'LW_SoilMoisture_P2_15cm', 'LW_SoilMoisture_P2_30cm', 'LW_SoilMoisture_P2_60cm', 'LW_SoilMoisture_P2_100cm', 'HN_SoilMoisture_Pit1_2cm', 'HN_SoilMoisture_Pit1_15cm', 'HN_SoilMoisture_Pit1_30cm', 'HN_SoilMoisture_Pit1_37cmBdrk', 'HN_SoilMoisture_Pit2_2cm', 'HN_SoilMoisture_Pit2_15cm', 'HN_SoilMoisture_Pit2_30cm', 'HN_SoilMoisture_Pit2_42cmBdrk', 'HN_SoilMoisture_Pit3_2cm', 'HN_SoilMoisture_Pit3_15cm', 'HN_SoilMoisture_Pit3_30cm', 'HN_SoilMoisture_Pit3_54cmBdrk', 'HN_SoilMoisture_Pit4_2cm', 'HN_SoilMoisture_Pit4_15cm', 'HN_SoilMoisture_Pit4_30cm', 'HN_SoilMoisture_Pit4_45cmBdrk', 'HS_SoilMoisture_Pit1_2cm', 'HS_SoilMoisture_Pit1_15cm', 'HS_SoilMoisture_Pit1_30cm', 'HS_SoilMoisture_Pit1_65cmBdrk', 'HS_SoilMoisture_Pit2_2cm', 'HS_SoilMoisture_Pit2_15cm', 'HS_SoilMoisture_Pit2_30cm', 'HS_SoilMoisture_Pit2_70cmBdrk', 'HS_SoilMoisture_Pit3_2cm', 'HS_SoilMoisture_Pit3_15cm', 'HS_SoilMoisture_Pit3_30cm', 'HS_SoilMoisture_Pit3_80cmBdrk', 'HS_SoilMoisture_Pit4_2cm', 'HS_SoilMoisture_Pit4_15cm', 'HS_SoilMoisture_Pit4_30cm', 'HS_SoilMoisture_Pit4_77cmBdrk', 'MHN_SoilMoisture_Pit1_2cm', 'MHN_SoilMoisture_Pit1_15cm', 'MHN_SoilMoisture_Pit1_30cm', 'MHN_SoilMoisture_Pit1_71cmBdrk', 'MHN_SoilMoisture_Pit2_2cm', 'MHN_SoilMoisture_Pit2_15cm', 'MHN_SoilMoisture_Pit2_30cm', 'MHN_SoilMoisture_Pit2_97cmBdrk', 'MHN_SoilMoisture_Pit3_2cm', 'MHN_SoilMoisture_Pit3_15cm', 'MHN_SoilMoisture_Pit3_30cm', 'MHN_SoilMoisture_Pit3_52cmBdrk', 'MHN_SoilMoisture_Pit4_2cm', 'MHN_SoilMoisture_Pit4_15cm', 'MHN_SoilMoisture_Pit4_30cm', 'MHN_SoilMoisture_Pit4_74cmBdrk', 'MHS_SoilMoisture_Pit1_2cm', 'MHS_SoilMoisture_Pit1_15cm', 'MHS_SoilMoisture_Pit1_30cm', 'MHS_SoilMoisture_Pit1_70cmBdrk', 'MHS_SoilMoisture_Pit2_2cm', 'MHS_SoilMoisture_Pit2_15cm', 'MHS_SoilMoisture_Pit2_30cm', 'MHS_SoilMoisture_Pit2_59cmBdrk', 'MHS_SoilMoisture_Pit3_2cm', 'MHS_SoilMoisture_Pit3_15cm', 'MHS_SoilMoisture_Pit3_30cm', 'MHS_SoilMoisture_Pit3_60cmBdrk', 'MHS_SoilMoisture_Pit4_2cm', 'MHS_SoilMoisture_Pit4_15cm', 'MHS_SoilMoisture_Pit4_30cm', 'MHS_SoilMoisture_Pit4_50cmBdrk', 'MLN_SoilMoisture_Pit1_2cm', 'MLN_SoilMoisture_Pit1_15cm', 'MLN_SoilMoisture_Pit1_30cm', 'MLN_SoilMoisture_Pit1_84cmBdrk', 'MLN_SoilMoisture_Pit2_2cm', 'MLN_SoilMoisture_Pit2_15cm', 'MLN_SoilMoisture_Pit2_30cm', 'MLN_SoilMoisture_Pit2_89cmBdrk', 'MLN_SoilMoisture_Pit3_2cm', 'MLN_SoilMoisture_Pit3_15cm', 'MLN_SoilMoisture_Pit3_30cm', 'MLN_SoilMoisture_Pit3_61cmBdrk', 'MLN_SoilMoisture_Pit4_2cm', 'MLN_SoilMoisture_Pit4_15cm', 'MLN_SoilMoisture_Pit4_30cm', 'MLN_SoilMoisture_Pit4_71cmBdrk', 'MLS_SoilMoisture_Pit1_2cm', 'MLS_SoilMoisture_Pit1_15cm', 'MLS_SoilMoisture_Pit1_30cm', 'MLS_SoilMoisture_Pit2_2cm', 'MLS_SoilMoisture_Pit2_15cm', 'MLS_SoilMoisture_Pit2_30cm', 'MLS_SoilMoisture_Pit3_2cm', 'MLS_SoilMoisture_Pit3_15cm', 'MLS_SoilMoisture_Pit3_30cm', 'MLS_SoilMoisture_Pit3_52cmBdrk', 'MLS_SoilMoisture_Pit4_2cm', 'MLS_SoilMoisture_Pit4_15cm', 'MLS_SoilMoisture_Pit4_30cm', 'LN_SoilMoisture_Pit1_2cm', 'LN_SoilMoisture_Pit1_15cm', 'LN_SoilMoisture_Pit1_30cm', 'LN_SoilMoisture_Pit1_62cmBdrk', 'LN_SoilMoisture_Pit2_2cm', 'LN_SoilMoisture_Pit2_15cm', 'LN_SoilMoisture_Pit2_30cm', 'LN_SoilMoisture_Pit2_62cmBdrk', 'LN_SoilMoisture_Pit3_2cm', 'LN_SoilMoisture_Pit3_15cm', 'LN_SoilMoisture_Pit3_30cm', 'LN_SoilMoisture_Pit3_62cmBdrk', 'LN_SoilMoisture_Pit4_2cm', 'LN_SoilMoisture_Pit4_15cm', 'LN_SoilMoisture_Pit4_30cm', 'LN_SoilMoisture_Pit4_56cmBdrk', 'LS_SoilMoisture_Pit1_2cm', 'LS_SoilMoisture_Pit1_15cm', 'LS_SoilMoisture_Pit1_30cm', 'LS_SoilMoisture_Pit2_2cm', 'LS_SoilMoisture_Pit2_15cm', 'LS_SoilMoisture_Pit2_30cm', 'LS_SoilMoisture_Pit3_2cm', 'LS_SoilMoisture_Pit3_15cm', 'LS_SoilMoisture_Pit3_30cm', 'LS_SoilMoisture_Pit4_2cm', 'LS_SoilMoisture_Pit4_15cm', 'LS_SoilMoisture_Pit4_30cm']\n",
       "                  time: ['1999-01-01', '2018-05-21']\n",
       "                  units: %\n",
       "              unlimited dimensions: \n",
       "              current shape = (7670, 152)\n",
       "              filling off), ('SoilTemperature',\n",
       "              <class 'netCDF4._netCDF4.Variable'>\n",
       "              float64 SoilTemperature(Dim_Datetime, Dim_SoilTemperature_Grid)\n",
       "                  names: ['BRW_SoilTemperature_L_5cm', 'BRW_SoilTemperature_L_15cm', 'BRW_SoilTemperature_L_30cm', 'BRW_SoilTemperature_L_81cm', 'BRW_SoilTemperature_U_5cm', 'BRW_SoilTemperature_U_15cm', 'BRW_SoilTemperature_U_30cm', 'BRW_SoilTemperature_U_55cm', 'LDP_SoilTemperature_W_2cm', 'LDP_SoilTemperature_W_6cm', 'LDP_SoilTemperature_E_2cm', 'LDP_SoilTemperature_E_6cm', 'LDP_SoilTemperature_2.5cm', 'LDP_SoilTemperature_20cm', 'LDP_SoilTemperature_33cm', 'SCR_SoilTemperature_5cm', 'TL_SoilTemperature_P3_5cm', 'TL_SoilTemperature_P3_30cm', 'TL_SoilTemperature_P3_60cm', 'TL_SoilTemperature_P3_100cm', 'TL_SoilTemperature_P4_5cm', 'TL_SoilTemperature_P4_15cm', 'TL_SoilTemperature_P4_30cm', 'TL_SoilTemperature_P4_45cm', 'TL_SoilTemperature_P4_65cm', 'LW_SoilTemperature_P1_5cm', 'LW_SoilTemperature_P1_15cm', 'LW_SoilTemperature_P1_30cm', 'LW_SoilTemperature_P1_50cm', 'LW_SoilTemperature_P1_100cm', 'LW_SoilTemperature_P2_5cm', 'LW_SoilTemperature_P2_15cm', 'LW_SoilTemperature_P2_30cm', 'LW_SoilTemperature_P2_60cm', 'LW_SoilTemperature_P2_100cm', 'HN_SoilTemperature_Pit1_2cm', 'HN_SoilTemperature_Pit1_15cm', 'HN_SoilTemperature_Pit1_30cm', 'HN_SoilTemperature_Pit1_37cmBdrk', 'HN_SoilTemperature_Pit2_2cm', 'HN_SoilTemperature_Pit2_15cm', 'HN_SoilTemperature_Pit2_30cm', 'HN_SoilTemperature_Pit2_42cmBdrk', 'HN_SoilTemperature_Pit3_2cm', 'HN_SoilTemperature_Pit3_15cm', 'HN_SoilTemperature_Pit3_30cm', 'HN_SoilTemperature_Pit3_54cmBdrk', 'HN_SoilTemperature_Pit4_2cm', 'HN_SoilTemperature_Pit4_15cm', 'HN_SoilTemperature_Pit4_30cm', 'HN_SoilTemperature_Pit4_45cmBdrk', 'HS_SoilTemperature_Pit1_2cm', 'HS_SoilTemperature_Pit1_15cm', 'HS_SoilTemperature_Pit1_30cm', 'HS_SoilTemperature_Pit1_65cmBdrk', 'HS_SoilTemperature_Pit2_2cm', 'HS_SoilTemperature_Pit2_15cm', 'HS_SoilTemperature_Pit2_30cm', 'HS_SoilTemperature_Pit2_70cmBdrk', 'HS_SoilTemperature_Pit3_2cm', 'HS_SoilTemperature_Pit3_15cm', 'HS_SoilTemperature_Pit3_30cm', 'HS_SoilTemperature_Pit3_80cmBdrk', 'HS_SoilTemperature_Pit4_2cm', 'HS_SoilTemperature_Pit4_15cm', 'HS_SoilTemperature_Pit4_30cm', 'HS_SoilTemperature_Pit4_77cmBdrk', 'MHN_SoilTemperature_Pit1_2cm', 'MHN_SoilTemperature_Pit1_15cm', 'MHN_SoilTemperature_Pit1_30cm', 'MHN_SoilTemperature_Pit1_71cmBdrk', 'MHN_SoilTemperature_Pit2_2cm', 'MHN_SoilTemperature_Pit2_15cm', 'MHN_SoilTemperature_Pit2_30cm', 'MHN_SoilTemperature_Pit2_97cmBdrk', 'MHN_SoilTemperature_Pit3_2cm', 'MHN_SoilTemperature_Pit3_15cm', 'MHN_SoilTemperature_Pit3_30cm', 'MHN_SoilTemperature_Pit3_52cmBdrk', 'MHN_SoilTemperature_Pit4_2cm', 'MHN_SoilTemperature_Pit4_15cm', 'MHN_SoilTemperature_Pit4_30cm', 'MHN_SoilTemperature_Pit4_74cmBdrk', 'MHS_SoilTemperature_Pit1_2cm', 'MHS_SoilTemperature_Pit1_15cm', 'MHS_SoilTemperature_Pit1_30cm', 'MHS_SoilTemperature_Pit1_70cmBdrk', 'MHS_SoilTemperature_Pit2_2cm', 'MHS_SoilTemperature_Pit2_15cm', 'MHS_SoilTemperature_Pit2_30cm', 'MHS_SoilTemperature_Pit2_59cmBdrk', 'MHS_SoilTemperature_Pit3_2cm', 'MHS_SoilTemperature_Pit3_15cm', 'MHS_SoilTemperature_Pit3_30cm', 'MHS_SoilTemperature_Pit3_60cmBdrk', 'MHS_SoilTemperature_Pit4_2cm', 'MHS_SoilTemperature_Pit4_15cm', 'MHS_SoilTemperature_Pit4_30cm', 'MHS_SoilTemperature_Pit4_50cmBdrk', 'MLN_SoilTemperature_Pit1_2cm', 'MLN_SoilTemperature_Pit1_15cm', 'MLN_SoilTemperature_Pit1_30cm', 'MLN_SoilTemperature_Pit1_84cmBdrk', 'MLN_SoilTemperature_Pit2_2cm', 'MLN_SoilTemperature_Pit2_15cm', 'MLN_SoilTemperature_Pit2_30cm', 'MLN_SoilTemperature_Pit2_89cmBdrk', 'MLN_SoilTemperature_Pit3_2cm', 'MLN_SoilTemperature_Pit3_15cm', 'MLN_SoilTemperature_Pit3_30cm', 'MLN_SoilTemperature_Pit3_61cmBdrk', 'MLN_SoilTemperature_Pit4_2cm', 'MLN_SoilTemperature_Pit4_15cm', 'MLN_SoilTemperature_Pit4_30cm', 'MLN_SoilTemperature_Pit4_71cmBdrk', 'MLS_SoilTemperature_Pit1_2cm', 'MLS_SoilTemperature_Pit1_15cm', 'MLS_SoilTemperature_Pit1_30cm', 'MLS_SoilTemperature_Pit2_2cm', 'MLS_SoilTemperature_Pit2_15cm', 'MLS_SoilTemperature_Pit2_30cm', 'MLS_SoilTemperature_Pit3_2cm', 'MLS_SoilTemperature_Pit3_15cm', 'MLS_SoilTemperature_Pit3_30cm', 'MLS_SoilTemperature_Pit3_52cmBdrk', 'MLS_SoilTemperature_Pit4_2cm', 'MLS_SoilTemperature_Pit4_15cm', 'MLS_SoilTemperature_Pit4_30cm', 'LN_SoilTemperature_Pit1_2cm', 'LN_SoilTemperature_Pit1_15cm', 'LN_SoilTemperature_Pit1_30cm', 'LN_SoilTemperature_Pit1_62cmBdrk', 'LN_SoilTemperature_Pit2_2cm', 'LN_SoilTemperature_Pit2_15cm', 'LN_SoilTemperature_Pit2_30cm', 'LN_SoilTemperature_Pit2_62cmBdrk', 'LN_SoilTemperature_Pit3_2cm', 'LN_SoilTemperature_Pit3_15cm', 'LN_SoilTemperature_Pit3_30cm', 'LN_SoilTemperature_Pit3_62cmBdrk', 'LN_SoilTemperature_Pit4_2cm', 'LN_SoilTemperature_Pit4_15cm', 'LN_SoilTemperature_Pit4_30cm', 'LN_SoilTemperature_Pit4_56cmBdrk', 'LS_SoilTemperature_Pit1_2cm', 'LS_SoilTemperature_Pit1_15cm', 'LS_SoilTemperature_Pit1_30cm', 'LS_SoilTemperature_Pit2_2cm', 'LS_SoilTemperature_Pit2_15cm', 'LS_SoilTemperature_Pit2_30cm', 'LS_SoilTemperature_Pit3_2cm', 'LS_SoilTemperature_Pit3_15cm', 'LS_SoilTemperature_Pit3_30cm', 'LS_SoilTemperature_Pit4_2cm', 'LS_SoilTemperature_Pit4_15cm', 'LS_SoilTemperature_Pit4_30cm']\n",
       "                  time: ['1999-01-01', '2018-05-21']\n",
       "                  units: Degree celsius\n",
       "              unlimited dimensions: \n",
       "              current shape = (7670, 156)\n",
       "              filling off), ('Discharge_Flag',\n",
       "              <class 'netCDF4._netCDF4.Variable'>\n",
       "              float64 Discharge_Flag(Dim_Datetime, Dim_Discharge_Grid)\n",
       "              unlimited dimensions: \n",
       "              current shape = (7670, 7)\n",
       "              filling off), ('Precipitation_Flag',\n",
       "              <class 'netCDF4._netCDF4.Variable'>\n",
       "              float64 Precipitation_Flag(Dim_Datetime, Dim_Precipitation_Grid)\n",
       "              unlimited dimensions: \n",
       "              current shape = (7670, 5)\n",
       "              filling off), ('AirTemperature_Flag',\n",
       "              <class 'netCDF4._netCDF4.Variable'>\n",
       "              float64 AirTemperature_Flag(Dim_Datetime, Dim_AirTemperature_Grid)\n",
       "              unlimited dimensions: \n",
       "              current shape = (7670, 5)\n",
       "              filling off), ('SolarRadiation_Flag',\n",
       "              <class 'netCDF4._netCDF4.Variable'>\n",
       "              float64 SolarRadiation_Flag(Dim_Datetime, Dim_SolarRadiation_Grid)\n",
       "              unlimited dimensions: \n",
       "              current shape = (7670, 10)\n",
       "              filling off), ('RelativeHumidity_Flag',\n",
       "              <class 'netCDF4._netCDF4.Variable'>\n",
       "              float64 RelativeHumidity_Flag(Dim_Datetime, Dim_RelativeHumidity_Grid)\n",
       "              unlimited dimensions: \n",
       "              current shape = (7670, 5)\n",
       "              filling off), ('WindDirection_Flag',\n",
       "              <class 'netCDF4._netCDF4.Variable'>\n",
       "              float64 WindDirection_Flag(Dim_Datetime, Dim_WindDirection_Grid)\n",
       "              unlimited dimensions: \n",
       "              current shape = (7670, 5)\n",
       "              filling off), ('WindSpeed_Flag',\n",
       "              <class 'netCDF4._netCDF4.Variable'>\n",
       "              float64 WindSpeed_Flag(Dim_Datetime, Dim_WindSpeed_Grid)\n",
       "              unlimited dimensions: \n",
       "              current shape = (7670, 5)\n",
       "              filling off), ('SnowDepth_Flag',\n",
       "              <class 'netCDF4._netCDF4.Variable'>\n",
       "              float64 SnowDepth_Flag(Dim_Datetime, Dim_SnowDepth_Grid)\n",
       "              unlimited dimensions: \n",
       "              current shape = (7670, 5)\n",
       "              filling off), ('SoilMoisture_Flag',\n",
       "              <class 'netCDF4._netCDF4.Variable'>\n",
       "              float64 SoilMoisture_Flag(Dim_Datetime, Dim_SoilMoisture_Grid)\n",
       "              unlimited dimensions: \n",
       "              current shape = (7670, 152)\n",
       "              filling off), ('SoilTemperature_Flag',\n",
       "              <class 'netCDF4._netCDF4.Variable'>\n",
       "              float64 SoilTemperature_Flag(Dim_Datetime, Dim_SoilTemperature_Grid)\n",
       "              unlimited dimensions: \n",
       "              current shape = (7670, 156)\n",
       "              filling off)])"
      ]
     },
     "execution_count": 73,
     "metadata": {},
     "output_type": "execute_result"
    }
   ],
   "source": [
    "ncid2.variables"
   ]
  },
  {
   "cell_type": "markdown",
   "metadata": {},
   "source": [
    "#### Look at all the important attributes"
   ]
  },
  {
   "cell_type": "code",
   "execution_count": 74,
   "metadata": {},
   "outputs": [
    {
     "data": {
      "text/plain": [
       "masked_array(\n",
       "  data=[[       nan,        nan,        nan, ..., 5.40327729, 6.12827241,\n",
       "         6.49567132],\n",
       "        [       nan,        nan,        nan, ..., 5.25589668, 5.99262146,\n",
       "         6.36736467],\n",
       "        [       nan,        nan,        nan, ..., 3.9384033 , 4.77998422,\n",
       "         5.22038096],\n",
       "        ...,\n",
       "        [       nan,        nan,        nan, ...,        nan,        nan,\n",
       "                nan],\n",
       "        [       nan,        nan,        nan, ...,        nan,        nan,\n",
       "                nan],\n",
       "        [       nan,        nan,        nan, ...,        nan,        nan,\n",
       "                nan]],\n",
       "  mask=False,\n",
       "  fill_value=1e+20)"
      ]
     },
     "execution_count": 74,
     "metadata": {},
     "output_type": "execute_result"
    }
   ],
   "source": [
    "# value\n",
    "ncid2.variables['SoilTemperature'][:]"
   ]
  },
  {
   "cell_type": "code",
   "execution_count": 75,
   "metadata": {},
   "outputs": [
    {
     "data": {
      "text/plain": [
       "'Degree celsius'"
      ]
     },
     "execution_count": 75,
     "metadata": {},
     "output_type": "execute_result"
    }
   ],
   "source": [
    "# unit\n",
    "ncid2.variables['SoilTemperature'].units"
   ]
  },
  {
   "cell_type": "code",
   "execution_count": 76,
   "metadata": {},
   "outputs": [
    {
     "data": {
      "text/plain": [
       "['BRW_SoilTemperature_L_5cm',\n",
       " 'BRW_SoilTemperature_L_15cm',\n",
       " 'BRW_SoilTemperature_L_30cm',\n",
       " 'BRW_SoilTemperature_L_81cm',\n",
       " 'BRW_SoilTemperature_U_5cm',\n",
       " 'BRW_SoilTemperature_U_15cm',\n",
       " 'BRW_SoilTemperature_U_30cm',\n",
       " 'BRW_SoilTemperature_U_55cm',\n",
       " 'LDP_SoilTemperature_W_2cm',\n",
       " 'LDP_SoilTemperature_W_6cm',\n",
       " 'LDP_SoilTemperature_E_2cm',\n",
       " 'LDP_SoilTemperature_E_6cm',\n",
       " 'LDP_SoilTemperature_2.5cm',\n",
       " 'LDP_SoilTemperature_20cm',\n",
       " 'LDP_SoilTemperature_33cm',\n",
       " 'SCR_SoilTemperature_5cm',\n",
       " 'TL_SoilTemperature_P3_5cm',\n",
       " 'TL_SoilTemperature_P3_30cm',\n",
       " 'TL_SoilTemperature_P3_60cm',\n",
       " 'TL_SoilTemperature_P3_100cm',\n",
       " 'TL_SoilTemperature_P4_5cm',\n",
       " 'TL_SoilTemperature_P4_15cm',\n",
       " 'TL_SoilTemperature_P4_30cm',\n",
       " 'TL_SoilTemperature_P4_45cm',\n",
       " 'TL_SoilTemperature_P4_65cm',\n",
       " 'LW_SoilTemperature_P1_5cm',\n",
       " 'LW_SoilTemperature_P1_15cm',\n",
       " 'LW_SoilTemperature_P1_30cm',\n",
       " 'LW_SoilTemperature_P1_50cm',\n",
       " 'LW_SoilTemperature_P1_100cm',\n",
       " 'LW_SoilTemperature_P2_5cm',\n",
       " 'LW_SoilTemperature_P2_15cm',\n",
       " 'LW_SoilTemperature_P2_30cm',\n",
       " 'LW_SoilTemperature_P2_60cm',\n",
       " 'LW_SoilTemperature_P2_100cm',\n",
       " 'HN_SoilTemperature_Pit1_2cm',\n",
       " 'HN_SoilTemperature_Pit1_15cm',\n",
       " 'HN_SoilTemperature_Pit1_30cm',\n",
       " 'HN_SoilTemperature_Pit1_37cmBdrk',\n",
       " 'HN_SoilTemperature_Pit2_2cm',\n",
       " 'HN_SoilTemperature_Pit2_15cm',\n",
       " 'HN_SoilTemperature_Pit2_30cm',\n",
       " 'HN_SoilTemperature_Pit2_42cmBdrk',\n",
       " 'HN_SoilTemperature_Pit3_2cm',\n",
       " 'HN_SoilTemperature_Pit3_15cm',\n",
       " 'HN_SoilTemperature_Pit3_30cm',\n",
       " 'HN_SoilTemperature_Pit3_54cmBdrk',\n",
       " 'HN_SoilTemperature_Pit4_2cm',\n",
       " 'HN_SoilTemperature_Pit4_15cm',\n",
       " 'HN_SoilTemperature_Pit4_30cm',\n",
       " 'HN_SoilTemperature_Pit4_45cmBdrk',\n",
       " 'HS_SoilTemperature_Pit1_2cm',\n",
       " 'HS_SoilTemperature_Pit1_15cm',\n",
       " 'HS_SoilTemperature_Pit1_30cm',\n",
       " 'HS_SoilTemperature_Pit1_65cmBdrk',\n",
       " 'HS_SoilTemperature_Pit2_2cm',\n",
       " 'HS_SoilTemperature_Pit2_15cm',\n",
       " 'HS_SoilTemperature_Pit2_30cm',\n",
       " 'HS_SoilTemperature_Pit2_70cmBdrk',\n",
       " 'HS_SoilTemperature_Pit3_2cm',\n",
       " 'HS_SoilTemperature_Pit3_15cm',\n",
       " 'HS_SoilTemperature_Pit3_30cm',\n",
       " 'HS_SoilTemperature_Pit3_80cmBdrk',\n",
       " 'HS_SoilTemperature_Pit4_2cm',\n",
       " 'HS_SoilTemperature_Pit4_15cm',\n",
       " 'HS_SoilTemperature_Pit4_30cm',\n",
       " 'HS_SoilTemperature_Pit4_77cmBdrk',\n",
       " 'MHN_SoilTemperature_Pit1_2cm',\n",
       " 'MHN_SoilTemperature_Pit1_15cm',\n",
       " 'MHN_SoilTemperature_Pit1_30cm',\n",
       " 'MHN_SoilTemperature_Pit1_71cmBdrk',\n",
       " 'MHN_SoilTemperature_Pit2_2cm',\n",
       " 'MHN_SoilTemperature_Pit2_15cm',\n",
       " 'MHN_SoilTemperature_Pit2_30cm',\n",
       " 'MHN_SoilTemperature_Pit2_97cmBdrk',\n",
       " 'MHN_SoilTemperature_Pit3_2cm',\n",
       " 'MHN_SoilTemperature_Pit3_15cm',\n",
       " 'MHN_SoilTemperature_Pit3_30cm',\n",
       " 'MHN_SoilTemperature_Pit3_52cmBdrk',\n",
       " 'MHN_SoilTemperature_Pit4_2cm',\n",
       " 'MHN_SoilTemperature_Pit4_15cm',\n",
       " 'MHN_SoilTemperature_Pit4_30cm',\n",
       " 'MHN_SoilTemperature_Pit4_74cmBdrk',\n",
       " 'MHS_SoilTemperature_Pit1_2cm',\n",
       " 'MHS_SoilTemperature_Pit1_15cm',\n",
       " 'MHS_SoilTemperature_Pit1_30cm',\n",
       " 'MHS_SoilTemperature_Pit1_70cmBdrk',\n",
       " 'MHS_SoilTemperature_Pit2_2cm',\n",
       " 'MHS_SoilTemperature_Pit2_15cm',\n",
       " 'MHS_SoilTemperature_Pit2_30cm',\n",
       " 'MHS_SoilTemperature_Pit2_59cmBdrk',\n",
       " 'MHS_SoilTemperature_Pit3_2cm',\n",
       " 'MHS_SoilTemperature_Pit3_15cm',\n",
       " 'MHS_SoilTemperature_Pit3_30cm',\n",
       " 'MHS_SoilTemperature_Pit3_60cmBdrk',\n",
       " 'MHS_SoilTemperature_Pit4_2cm',\n",
       " 'MHS_SoilTemperature_Pit4_15cm',\n",
       " 'MHS_SoilTemperature_Pit4_30cm',\n",
       " 'MHS_SoilTemperature_Pit4_50cmBdrk',\n",
       " 'MLN_SoilTemperature_Pit1_2cm',\n",
       " 'MLN_SoilTemperature_Pit1_15cm',\n",
       " 'MLN_SoilTemperature_Pit1_30cm',\n",
       " 'MLN_SoilTemperature_Pit1_84cmBdrk',\n",
       " 'MLN_SoilTemperature_Pit2_2cm',\n",
       " 'MLN_SoilTemperature_Pit2_15cm',\n",
       " 'MLN_SoilTemperature_Pit2_30cm',\n",
       " 'MLN_SoilTemperature_Pit2_89cmBdrk',\n",
       " 'MLN_SoilTemperature_Pit3_2cm',\n",
       " 'MLN_SoilTemperature_Pit3_15cm',\n",
       " 'MLN_SoilTemperature_Pit3_30cm',\n",
       " 'MLN_SoilTemperature_Pit3_61cmBdrk',\n",
       " 'MLN_SoilTemperature_Pit4_2cm',\n",
       " 'MLN_SoilTemperature_Pit4_15cm',\n",
       " 'MLN_SoilTemperature_Pit4_30cm',\n",
       " 'MLN_SoilTemperature_Pit4_71cmBdrk',\n",
       " 'MLS_SoilTemperature_Pit1_2cm',\n",
       " 'MLS_SoilTemperature_Pit1_15cm',\n",
       " 'MLS_SoilTemperature_Pit1_30cm',\n",
       " 'MLS_SoilTemperature_Pit2_2cm',\n",
       " 'MLS_SoilTemperature_Pit2_15cm',\n",
       " 'MLS_SoilTemperature_Pit2_30cm',\n",
       " 'MLS_SoilTemperature_Pit3_2cm',\n",
       " 'MLS_SoilTemperature_Pit3_15cm',\n",
       " 'MLS_SoilTemperature_Pit3_30cm',\n",
       " 'MLS_SoilTemperature_Pit3_52cmBdrk',\n",
       " 'MLS_SoilTemperature_Pit4_2cm',\n",
       " 'MLS_SoilTemperature_Pit4_15cm',\n",
       " 'MLS_SoilTemperature_Pit4_30cm',\n",
       " 'LN_SoilTemperature_Pit1_2cm',\n",
       " 'LN_SoilTemperature_Pit1_15cm',\n",
       " 'LN_SoilTemperature_Pit1_30cm',\n",
       " 'LN_SoilTemperature_Pit1_62cmBdrk',\n",
       " 'LN_SoilTemperature_Pit2_2cm',\n",
       " 'LN_SoilTemperature_Pit2_15cm',\n",
       " 'LN_SoilTemperature_Pit2_30cm',\n",
       " 'LN_SoilTemperature_Pit2_62cmBdrk',\n",
       " 'LN_SoilTemperature_Pit3_2cm',\n",
       " 'LN_SoilTemperature_Pit3_15cm',\n",
       " 'LN_SoilTemperature_Pit3_30cm',\n",
       " 'LN_SoilTemperature_Pit3_62cmBdrk',\n",
       " 'LN_SoilTemperature_Pit4_2cm',\n",
       " 'LN_SoilTemperature_Pit4_15cm',\n",
       " 'LN_SoilTemperature_Pit4_30cm',\n",
       " 'LN_SoilTemperature_Pit4_56cmBdrk',\n",
       " 'LS_SoilTemperature_Pit1_2cm',\n",
       " 'LS_SoilTemperature_Pit1_15cm',\n",
       " 'LS_SoilTemperature_Pit1_30cm',\n",
       " 'LS_SoilTemperature_Pit2_2cm',\n",
       " 'LS_SoilTemperature_Pit2_15cm',\n",
       " 'LS_SoilTemperature_Pit2_30cm',\n",
       " 'LS_SoilTemperature_Pit3_2cm',\n",
       " 'LS_SoilTemperature_Pit3_15cm',\n",
       " 'LS_SoilTemperature_Pit3_30cm',\n",
       " 'LS_SoilTemperature_Pit4_2cm',\n",
       " 'LS_SoilTemperature_Pit4_15cm',\n",
       " 'LS_SoilTemperature_Pit4_30cm']"
      ]
     },
     "execution_count": 76,
     "metadata": {},
     "output_type": "execute_result"
    }
   ],
   "source": [
    "# names\n",
    "ncid2.variables['SoilTemperature'].names"
   ]
  },
  {
   "cell_type": "code",
   "execution_count": 77,
   "metadata": {},
   "outputs": [
    {
     "data": {
      "text/plain": [
       "array(['TL', 'BSG', 'LG', 'C1E', 'C1W', 'C2E', 'C2M', 'BRW', 'LDP', 'SCR',\n",
       "       'LW', 'HN', 'HS', 'MHN', 'MHS', 'MLN', 'MLS', 'LN', 'LS'],\n",
       "      dtype=object)"
      ]
     },
     "execution_count": 77,
     "metadata": {},
     "output_type": "execute_result"
    }
   ],
   "source": [
    "# Grid\n",
    "ncid2.variables['Grid'][:]"
   ]
  },
  {
   "cell_type": "code",
   "execution_count": 78,
   "metadata": {},
   "outputs": [
    {
     "data": {
      "text/plain": [
       "<class 'netCDF4._netCDF4.Variable'>\n",
       "vlen Grid(Dim_Grid)\n",
       "    latitude: ['43.73019', '43.7407086', '43.68834', '43.7181614', '43.7184233', '43.7027903', '43.7022778', '43.75876', '43.737078', '43.71105', '43.6885278', '43.7406725', '43.739075', '43.7171517', '43.7205044', '43.7015067', '43.7049736', '43.6892464', '43.69082']\n",
       "    longitude: ['-116.140143', '-116.0989983', '-116.17862', '-116.1372986', '-116.1374192', '-116.1527722', '-116.154095', '-116.090404', '-116.1221131', '-116.09912', '-116.16991', '-116.118595', '-116.115775', '-116.1253089', '-116.1257444', '-116.1484592', '-116.1497381', '-116.1696892', '-116.1693822']\n",
       "    elevation: ['1610', '1680', '1036', '1335', '1342', '1158', '1143', '2114', '1850', '1720', '1151', '1812', '1835', '1472', '1457', '1288', '1298', '1120', '1139']\n",
       "    area: ['', '', '', '', '', '', '', '', '', '', '', '', '', '', '', '', '', '', '']\n",
       "vlen data type: <class 'str'>\n",
       "unlimited dimensions: \n",
       "current shape = (19,)"
      ]
     },
     "execution_count": 78,
     "metadata": {},
     "output_type": "execute_result"
    }
   ],
   "source": [
    "# Grid\n",
    "ncid2.variables['Grid']"
   ]
  },
  {
   "cell_type": "code",
   "execution_count": 79,
   "metadata": {},
   "outputs": [
    {
     "data": {
      "text/plain": [
       "22"
      ]
     },
     "execution_count": 79,
     "metadata": {},
     "output_type": "execute_result"
    }
   ],
   "source": [
    "len(ncid2.variables)"
   ]
  },
  {
   "cell_type": "code",
   "execution_count": 80,
   "metadata": {},
   "outputs": [],
   "source": [
    "ncid2.close()"
   ]
  },
  {
   "cell_type": "code",
   "execution_count": null,
   "metadata": {},
   "outputs": [],
   "source": []
  }
 ],
 "metadata": {
  "kernelspec": {
   "display_name": "Python 3",
   "language": "python",
   "name": "python3"
  },
  "language_info": {
   "codemirror_mode": {
    "name": "ipython",
    "version": 3
   },
   "file_extension": ".py",
   "mimetype": "text/x-python",
   "name": "python",
   "nbconvert_exporter": "python",
   "pygments_lexer": "ipython3",
   "version": "3.7.1"
  }
 },
 "nbformat": 4,
 "nbformat_minor": 2
}
