{
 "cells": [
  {
   "cell_type": "code",
   "execution_count": 1,
   "metadata": {},
   "outputs": [],
   "source": [
    "import numpy as np\n",
    "import pandas as pd\n",
    "# from scipy import signal\n",
    "import matplotlib.pyplot as plt\n",
    "import ipywidgets"
   ]
  },
  {
   "cell_type": "code",
   "execution_count": 2,
   "metadata": {},
   "outputs": [],
   "source": [
    "from matplotlib import rcParams\n",
    "rcParams[\"font.size\"]=14"
   ]
  },
  {
   "cell_type": "code",
   "execution_count": 3,
   "metadata": {},
   "outputs": [],
   "source": [
    "#import handcalcs.render"
   ]
  },
  {
   "cell_type": "code",
   "execution_count": 4,
   "metadata": {},
   "outputs": [],
   "source": [
    "from math import sqrt, pi"
   ]
  },
  {
   "cell_type": "code",
   "execution_count": 5,
   "metadata": {},
   "outputs": [
    {
     "data": {
      "text/plain": [
       "'G:\\\\My Drive\\\\DryCreek'"
      ]
     },
     "execution_count": 5,
     "metadata": {},
     "output_type": "execute_result"
    }
   ],
   "source": [
    "import datetime as dt\n",
    "import copy\n",
    "from pandas.plotting import register_matplotlib_converters\n",
    "from sklearn import linear_model\n",
    "from sklearn.metrics import r2_score\n",
    "import copy\n",
    "import os\n",
    "import matplotlib.backends.backend_pdf\n",
    "lm = linear_model.LinearRegression()\n",
    "np.random.seed(50)\n",
    "plt.rcParams.update({'figure.max_open_warning': 0})\n",
    "register_matplotlib_converters()\n",
    "os.getcwd()"
   ]
  },
  {
   "cell_type": "code",
   "execution_count": 6,
   "metadata": {},
   "outputs": [],
   "source": [
    "# local functions\n",
    "import sys\n",
    "sys.path.insert(1, './Functions')\n",
    "\n",
    "from Source_QC_Widgets_functions_EM import regressorFunc, funcClimateCatalogWg,widgetInterpolation,widgetRegression,Date_to_float"
   ]
  },
  {
   "cell_type": "code",
   "execution_count": 7,
   "metadata": {},
   "outputs": [],
   "source": [
    "# Only need to assign the two values below first, then run all\n",
    "watershed = 'DryCreek'\n",
    "main_str = 'LG'"
   ]
  },
  {
   "cell_type": "code",
   "execution_count": 10,
   "metadata": {},
   "outputs": [
    {
     "data": {
      "text/html": [
       "<div>\n",
       "<style scoped>\n",
       "    .dataframe tbody tr th:only-of-type {\n",
       "        vertical-align: middle;\n",
       "    }\n",
       "\n",
       "    .dataframe tbody tr th {\n",
       "        vertical-align: top;\n",
       "    }\n",
       "\n",
       "    .dataframe thead th {\n",
       "        text-align: right;\n",
       "    }\n",
       "</style>\n",
       "<table border=\"1\" class=\"dataframe\">\n",
       "  <thead>\n",
       "    <tr style=\"text-align: right;\">\n",
       "      <th></th>\n",
       "      <th>TL_Discharge</th>\n",
       "      <th>BSG_Discharge</th>\n",
       "      <th>LG_Discharge</th>\n",
       "      <th>C1E_Discharge</th>\n",
       "      <th>C1W_Discharge</th>\n",
       "      <th>C2E_Discharge</th>\n",
       "      <th>C2M_Discharge</th>\n",
       "      <th>BRW_Precipitation</th>\n",
       "      <th>LDP_Precipitation</th>\n",
       "      <th>SCR_Precipitation</th>\n",
       "      <th>...</th>\n",
       "      <th>LS_SoilTemperature_Pit1_30cm</th>\n",
       "      <th>LS_SoilTemperature_Pit2_2cm</th>\n",
       "      <th>LS_SoilTemperature_Pit2_15cm</th>\n",
       "      <th>LS_SoilTemperature_Pit2_30cm</th>\n",
       "      <th>LS_SoilTemperature_Pit3_2cm</th>\n",
       "      <th>LS_SoilTemperature_Pit3_15cm</th>\n",
       "      <th>LS_SoilTemperature_Pit3_30cm</th>\n",
       "      <th>LS_SoilTemperature_Pit4_2cm</th>\n",
       "      <th>LS_SoilTemperature_Pit4_15cm</th>\n",
       "      <th>LS_SoilTemperature_Pit4_30cm</th>\n",
       "    </tr>\n",
       "    <tr>\n",
       "      <th>DateTime</th>\n",
       "      <th></th>\n",
       "      <th></th>\n",
       "      <th></th>\n",
       "      <th></th>\n",
       "      <th></th>\n",
       "      <th></th>\n",
       "      <th></th>\n",
       "      <th></th>\n",
       "      <th></th>\n",
       "      <th></th>\n",
       "      <th></th>\n",
       "      <th></th>\n",
       "      <th></th>\n",
       "      <th></th>\n",
       "      <th></th>\n",
       "      <th></th>\n",
       "      <th></th>\n",
       "      <th></th>\n",
       "      <th></th>\n",
       "      <th></th>\n",
       "      <th></th>\n",
       "    </tr>\n",
       "  </thead>\n",
       "  <tbody>\n",
       "    <tr>\n",
       "      <th>1999-01-01</th>\n",
       "      <td>NaN</td>\n",
       "      <td>NaN</td>\n",
       "      <td>NaN</td>\n",
       "      <td>NaN</td>\n",
       "      <td>NaN</td>\n",
       "      <td>NaN</td>\n",
       "      <td>NaN</td>\n",
       "      <td>NaN</td>\n",
       "      <td>NaN</td>\n",
       "      <td>NaN</td>\n",
       "      <td>...</td>\n",
       "      <td>NaN</td>\n",
       "      <td>NaN</td>\n",
       "      <td>NaN</td>\n",
       "      <td>NaN</td>\n",
       "      <td>NaN</td>\n",
       "      <td>NaN</td>\n",
       "      <td>NaN</td>\n",
       "      <td>NaN</td>\n",
       "      <td>NaN</td>\n",
       "      <td>NaN</td>\n",
       "    </tr>\n",
       "    <tr>\n",
       "      <th>1999-01-02</th>\n",
       "      <td>NaN</td>\n",
       "      <td>NaN</td>\n",
       "      <td>NaN</td>\n",
       "      <td>NaN</td>\n",
       "      <td>NaN</td>\n",
       "      <td>NaN</td>\n",
       "      <td>NaN</td>\n",
       "      <td>NaN</td>\n",
       "      <td>NaN</td>\n",
       "      <td>NaN</td>\n",
       "      <td>...</td>\n",
       "      <td>NaN</td>\n",
       "      <td>NaN</td>\n",
       "      <td>NaN</td>\n",
       "      <td>NaN</td>\n",
       "      <td>NaN</td>\n",
       "      <td>NaN</td>\n",
       "      <td>NaN</td>\n",
       "      <td>NaN</td>\n",
       "      <td>NaN</td>\n",
       "      <td>NaN</td>\n",
       "    </tr>\n",
       "  </tbody>\n",
       "</table>\n",
       "<p>2 rows × 355 columns</p>\n",
       "</div>"
      ],
      "text/plain": [
       "            TL_Discharge  BSG_Discharge  LG_Discharge  C1E_Discharge  \\\n",
       "DateTime                                                               \n",
       "1999-01-01           NaN            NaN           NaN            NaN   \n",
       "1999-01-02           NaN            NaN           NaN            NaN   \n",
       "\n",
       "            C1W_Discharge  C2E_Discharge  C2M_Discharge  BRW_Precipitation  \\\n",
       "DateTime                                                                     \n",
       "1999-01-01            NaN            NaN            NaN                NaN   \n",
       "1999-01-02            NaN            NaN            NaN                NaN   \n",
       "\n",
       "            LDP_Precipitation  SCR_Precipitation  ...  \\\n",
       "DateTime                                          ...   \n",
       "1999-01-01                NaN                NaN  ...   \n",
       "1999-01-02                NaN                NaN  ...   \n",
       "\n",
       "            LS_SoilTemperature_Pit1_30cm  LS_SoilTemperature_Pit2_2cm  \\\n",
       "DateTime                                                                \n",
       "1999-01-01                           NaN                          NaN   \n",
       "1999-01-02                           NaN                          NaN   \n",
       "\n",
       "            LS_SoilTemperature_Pit2_15cm  LS_SoilTemperature_Pit2_30cm  \\\n",
       "DateTime                                                                 \n",
       "1999-01-01                           NaN                           NaN   \n",
       "1999-01-02                           NaN                           NaN   \n",
       "\n",
       "            LS_SoilTemperature_Pit3_2cm  LS_SoilTemperature_Pit3_15cm  \\\n",
       "DateTime                                                                \n",
       "1999-01-01                          NaN                           NaN   \n",
       "1999-01-02                          NaN                           NaN   \n",
       "\n",
       "            LS_SoilTemperature_Pit3_30cm  LS_SoilTemperature_Pit4_2cm  \\\n",
       "DateTime                                                                \n",
       "1999-01-01                           NaN                          NaN   \n",
       "1999-01-02                           NaN                          NaN   \n",
       "\n",
       "            LS_SoilTemperature_Pit4_15cm  LS_SoilTemperature_Pit4_30cm  \n",
       "DateTime                                                                \n",
       "1999-01-01                           NaN                           NaN  \n",
       "1999-01-02                           NaN                           NaN  \n",
       "\n",
       "[2 rows x 355 columns]"
      ]
     },
     "metadata": {},
     "output_type": "display_data"
    },
    {
     "data": {
      "text/html": [
       "<div>\n",
       "<style scoped>\n",
       "    .dataframe tbody tr th:only-of-type {\n",
       "        vertical-align: middle;\n",
       "    }\n",
       "\n",
       "    .dataframe tbody tr th {\n",
       "        vertical-align: top;\n",
       "    }\n",
       "\n",
       "    .dataframe thead th {\n",
       "        text-align: right;\n",
       "    }\n",
       "</style>\n",
       "<table border=\"1\" class=\"dataframe\">\n",
       "  <thead>\n",
       "    <tr style=\"text-align: right;\">\n",
       "      <th></th>\n",
       "      <th>TL_Discharge</th>\n",
       "      <th>BSG_Discharge</th>\n",
       "      <th>LG_Discharge</th>\n",
       "      <th>C1E_Discharge</th>\n",
       "      <th>C1W_Discharge</th>\n",
       "      <th>C2E_Discharge</th>\n",
       "      <th>C2M_Discharge</th>\n",
       "      <th>BRW_Precipitation</th>\n",
       "      <th>LDP_Precipitation</th>\n",
       "      <th>SCR_Precipitation</th>\n",
       "      <th>...</th>\n",
       "      <th>LS_SoilTemperature_Pit1_30cm</th>\n",
       "      <th>LS_SoilTemperature_Pit2_2cm</th>\n",
       "      <th>LS_SoilTemperature_Pit2_15cm</th>\n",
       "      <th>LS_SoilTemperature_Pit2_30cm</th>\n",
       "      <th>LS_SoilTemperature_Pit3_2cm</th>\n",
       "      <th>LS_SoilTemperature_Pit3_15cm</th>\n",
       "      <th>LS_SoilTemperature_Pit3_30cm</th>\n",
       "      <th>LS_SoilTemperature_Pit4_2cm</th>\n",
       "      <th>LS_SoilTemperature_Pit4_15cm</th>\n",
       "      <th>LS_SoilTemperature_Pit4_30cm</th>\n",
       "    </tr>\n",
       "    <tr>\n",
       "      <th>DateTime</th>\n",
       "      <th></th>\n",
       "      <th></th>\n",
       "      <th></th>\n",
       "      <th></th>\n",
       "      <th></th>\n",
       "      <th></th>\n",
       "      <th></th>\n",
       "      <th></th>\n",
       "      <th></th>\n",
       "      <th></th>\n",
       "      <th></th>\n",
       "      <th></th>\n",
       "      <th></th>\n",
       "      <th></th>\n",
       "      <th></th>\n",
       "      <th></th>\n",
       "      <th></th>\n",
       "      <th></th>\n",
       "      <th></th>\n",
       "      <th></th>\n",
       "      <th></th>\n",
       "    </tr>\n",
       "  </thead>\n",
       "  <tbody>\n",
       "    <tr>\n",
       "      <th>2020-05-10</th>\n",
       "      <td>NaN</td>\n",
       "      <td>NaN</td>\n",
       "      <td>NaN</td>\n",
       "      <td>NaN</td>\n",
       "      <td>NaN</td>\n",
       "      <td>NaN</td>\n",
       "      <td>NaN</td>\n",
       "      <td>0.218182</td>\n",
       "      <td>NaN</td>\n",
       "      <td>NaN</td>\n",
       "      <td>...</td>\n",
       "      <td>NaN</td>\n",
       "      <td>NaN</td>\n",
       "      <td>NaN</td>\n",
       "      <td>NaN</td>\n",
       "      <td>NaN</td>\n",
       "      <td>NaN</td>\n",
       "      <td>NaN</td>\n",
       "      <td>NaN</td>\n",
       "      <td>NaN</td>\n",
       "      <td>NaN</td>\n",
       "    </tr>\n",
       "    <tr>\n",
       "      <th>2020-05-11</th>\n",
       "      <td>NaN</td>\n",
       "      <td>NaN</td>\n",
       "      <td>NaN</td>\n",
       "      <td>NaN</td>\n",
       "      <td>NaN</td>\n",
       "      <td>NaN</td>\n",
       "      <td>NaN</td>\n",
       "      <td>0.108333</td>\n",
       "      <td>NaN</td>\n",
       "      <td>NaN</td>\n",
       "      <td>...</td>\n",
       "      <td>NaN</td>\n",
       "      <td>NaN</td>\n",
       "      <td>NaN</td>\n",
       "      <td>NaN</td>\n",
       "      <td>NaN</td>\n",
       "      <td>NaN</td>\n",
       "      <td>NaN</td>\n",
       "      <td>NaN</td>\n",
       "      <td>NaN</td>\n",
       "      <td>NaN</td>\n",
       "    </tr>\n",
       "  </tbody>\n",
       "</table>\n",
       "<p>2 rows × 355 columns</p>\n",
       "</div>"
      ],
      "text/plain": [
       "            TL_Discharge  BSG_Discharge  LG_Discharge  C1E_Discharge  \\\n",
       "DateTime                                                               \n",
       "2020-05-10           NaN            NaN           NaN            NaN   \n",
       "2020-05-11           NaN            NaN           NaN            NaN   \n",
       "\n",
       "            C1W_Discharge  C2E_Discharge  C2M_Discharge  BRW_Precipitation  \\\n",
       "DateTime                                                                     \n",
       "2020-05-10            NaN            NaN            NaN           0.218182   \n",
       "2020-05-11            NaN            NaN            NaN           0.108333   \n",
       "\n",
       "            LDP_Precipitation  SCR_Precipitation  ...  \\\n",
       "DateTime                                          ...   \n",
       "2020-05-10                NaN                NaN  ...   \n",
       "2020-05-11                NaN                NaN  ...   \n",
       "\n",
       "            LS_SoilTemperature_Pit1_30cm  LS_SoilTemperature_Pit2_2cm  \\\n",
       "DateTime                                                                \n",
       "2020-05-10                           NaN                          NaN   \n",
       "2020-05-11                           NaN                          NaN   \n",
       "\n",
       "            LS_SoilTemperature_Pit2_15cm  LS_SoilTemperature_Pit2_30cm  \\\n",
       "DateTime                                                                 \n",
       "2020-05-10                           NaN                           NaN   \n",
       "2020-05-11                           NaN                           NaN   \n",
       "\n",
       "            LS_SoilTemperature_Pit3_2cm  LS_SoilTemperature_Pit3_15cm  \\\n",
       "DateTime                                                                \n",
       "2020-05-10                          NaN                           NaN   \n",
       "2020-05-11                          NaN                           NaN   \n",
       "\n",
       "            LS_SoilTemperature_Pit3_30cm  LS_SoilTemperature_Pit4_2cm  \\\n",
       "DateTime                                                                \n",
       "2020-05-10                           NaN                          NaN   \n",
       "2020-05-11                           NaN                          NaN   \n",
       "\n",
       "            LS_SoilTemperature_Pit4_15cm  LS_SoilTemperature_Pit4_30cm  \n",
       "DateTime                                                                \n",
       "2020-05-10                           NaN                           NaN  \n",
       "2020-05-11                           NaN                           NaN  \n",
       "\n",
       "[2 rows x 355 columns]"
      ]
     },
     "metadata": {},
     "output_type": "display_data"
    }
   ],
   "source": [
    "# Read the original data table\n",
    "table = pd.read_csv('1_'+watershed+'_Download_Aggregation.csv',header = 0,index_col = 'DateTime',\n",
    "                    parse_dates = True, infer_datetime_format = True,low_memory=False)\n",
    "display(table.head(2))\n",
    "display(table.tail(2))"
   ]
  },
  {
   "cell_type": "code",
   "execution_count": 11,
   "metadata": {},
   "outputs": [
    {
     "name": "stdout",
     "output_type": "stream",
     "text": [
      "All stations names:  ['TL' 'BSG' 'LG' 'C1E' 'C1W' 'C2E' 'C2M' 'BRW' 'LDP' 'SCR' 'LW' 'HN' 'HS'\n",
      " 'MHN' 'MHS' 'MLN' 'MLS' 'LN' 'LS']\n",
      "  \n",
      "Discharge stations : ['TL', 'BSG', 'LG', 'C1E', 'C1W', 'C2E', 'C2M']\n",
      "  \n",
      "Meteorology stations: ['BRW', 'LDP', 'SCR', 'TL', 'LW', 'HN', 'HS', 'MHN', 'MHS', 'MLN', 'MLS', 'LN', 'LS']\n"
     ]
    }
   ],
   "source": [
    "# Check all the station names\n",
    "all_stations = table.columns.str.extract(r'([^_]+)')[0]\n",
    "print('All stations names: ', all_stations.unique())\n",
    "print ('  ')\n",
    "nameStrflwStation=[]\n",
    "nameHydrMetStation=[]\n",
    "for i in np.arange(len(table.columns)):\n",
    "    if table.columns[i][-9:]=='Discharge':  ### \n",
    "        if not all_stations[i] in nameStrflwStation:\n",
    "            nameStrflwStation.append(all_stations[i]) ### \n",
    "    else:\n",
    "        if not all_stations[i] in nameHydrMetStation:\n",
    "            nameHydrMetStation.append(all_stations[i])  ### \n",
    "\n",
    "print('Discharge stations :',nameStrflwStation)\n",
    "print('  ')\n",
    "print('Meteorology stations:',nameHydrMetStation)                  "
   ]
  },
  {
   "cell_type": "code",
   "execution_count": 12,
   "metadata": {},
   "outputs": [
    {
     "name": "stdout",
     "output_type": "stream",
     "text": [
      "LG_Discharge\n"
     ]
    }
   ],
   "source": [
    "for i in table.columns:\n",
    "    if i.split('_')[0] == main_str :\n",
    "        print(i)"
   ]
  },
  {
   "cell_type": "markdown",
   "metadata": {},
   "source": [
    "#  1. Trim the original table"
   ]
  },
  {
   "cell_type": "code",
   "execution_count": 13,
   "metadata": {},
   "outputs": [
    {
     "data": {
      "text/html": [
       "<div>\n",
       "<style scoped>\n",
       "    .dataframe tbody tr th:only-of-type {\n",
       "        vertical-align: middle;\n",
       "    }\n",
       "\n",
       "    .dataframe tbody tr th {\n",
       "        vertical-align: top;\n",
       "    }\n",
       "\n",
       "    .dataframe thead th {\n",
       "        text-align: right;\n",
       "    }\n",
       "</style>\n",
       "<table border=\"1\" class=\"dataframe\">\n",
       "  <thead>\n",
       "    <tr style=\"text-align: right;\">\n",
       "      <th></th>\n",
       "      <th>TL_Discharge</th>\n",
       "      <th>BSG_Discharge</th>\n",
       "      <th>LG_Discharge</th>\n",
       "      <th>C1E_Discharge</th>\n",
       "      <th>C1W_Discharge</th>\n",
       "      <th>C2E_Discharge</th>\n",
       "      <th>C2M_Discharge</th>\n",
       "      <th>BRW_Precipitation</th>\n",
       "      <th>LDP_Precipitation</th>\n",
       "      <th>SCR_Precipitation</th>\n",
       "      <th>...</th>\n",
       "      <th>LS_SoilTemperature_Pit1_30cm</th>\n",
       "      <th>LS_SoilTemperature_Pit2_2cm</th>\n",
       "      <th>LS_SoilTemperature_Pit2_15cm</th>\n",
       "      <th>LS_SoilTemperature_Pit2_30cm</th>\n",
       "      <th>LS_SoilTemperature_Pit3_2cm</th>\n",
       "      <th>LS_SoilTemperature_Pit3_15cm</th>\n",
       "      <th>LS_SoilTemperature_Pit3_30cm</th>\n",
       "      <th>LS_SoilTemperature_Pit4_2cm</th>\n",
       "      <th>LS_SoilTemperature_Pit4_15cm</th>\n",
       "      <th>LS_SoilTemperature_Pit4_30cm</th>\n",
       "    </tr>\n",
       "    <tr>\n",
       "      <th>DateTime</th>\n",
       "      <th></th>\n",
       "      <th></th>\n",
       "      <th></th>\n",
       "      <th></th>\n",
       "      <th></th>\n",
       "      <th></th>\n",
       "      <th></th>\n",
       "      <th></th>\n",
       "      <th></th>\n",
       "      <th></th>\n",
       "      <th></th>\n",
       "      <th></th>\n",
       "      <th></th>\n",
       "      <th></th>\n",
       "      <th></th>\n",
       "      <th></th>\n",
       "      <th></th>\n",
       "      <th></th>\n",
       "      <th></th>\n",
       "      <th></th>\n",
       "      <th></th>\n",
       "    </tr>\n",
       "  </thead>\n",
       "  <tbody>\n",
       "    <tr>\n",
       "      <th>1999-01-01</th>\n",
       "      <td>NaN</td>\n",
       "      <td>NaN</td>\n",
       "      <td>NaN</td>\n",
       "      <td>NaN</td>\n",
       "      <td>NaN</td>\n",
       "      <td>NaN</td>\n",
       "      <td>NaN</td>\n",
       "      <td>NaN</td>\n",
       "      <td>NaN</td>\n",
       "      <td>NaN</td>\n",
       "      <td>...</td>\n",
       "      <td>NaN</td>\n",
       "      <td>NaN</td>\n",
       "      <td>NaN</td>\n",
       "      <td>NaN</td>\n",
       "      <td>NaN</td>\n",
       "      <td>NaN</td>\n",
       "      <td>NaN</td>\n",
       "      <td>NaN</td>\n",
       "      <td>NaN</td>\n",
       "      <td>NaN</td>\n",
       "    </tr>\n",
       "    <tr>\n",
       "      <th>1999-01-02</th>\n",
       "      <td>NaN</td>\n",
       "      <td>NaN</td>\n",
       "      <td>NaN</td>\n",
       "      <td>NaN</td>\n",
       "      <td>NaN</td>\n",
       "      <td>NaN</td>\n",
       "      <td>NaN</td>\n",
       "      <td>NaN</td>\n",
       "      <td>NaN</td>\n",
       "      <td>NaN</td>\n",
       "      <td>...</td>\n",
       "      <td>NaN</td>\n",
       "      <td>NaN</td>\n",
       "      <td>NaN</td>\n",
       "      <td>NaN</td>\n",
       "      <td>NaN</td>\n",
       "      <td>NaN</td>\n",
       "      <td>NaN</td>\n",
       "      <td>NaN</td>\n",
       "      <td>NaN</td>\n",
       "      <td>NaN</td>\n",
       "    </tr>\n",
       "  </tbody>\n",
       "</table>\n",
       "<p>2 rows × 355 columns</p>\n",
       "</div>"
      ],
      "text/plain": [
       "            TL_Discharge  BSG_Discharge  LG_Discharge  C1E_Discharge  \\\n",
       "DateTime                                                               \n",
       "1999-01-01           NaN            NaN           NaN            NaN   \n",
       "1999-01-02           NaN            NaN           NaN            NaN   \n",
       "\n",
       "            C1W_Discharge  C2E_Discharge  C2M_Discharge  BRW_Precipitation  \\\n",
       "DateTime                                                                     \n",
       "1999-01-01            NaN            NaN            NaN                NaN   \n",
       "1999-01-02            NaN            NaN            NaN                NaN   \n",
       "\n",
       "            LDP_Precipitation  SCR_Precipitation  ...  \\\n",
       "DateTime                                          ...   \n",
       "1999-01-01                NaN                NaN  ...   \n",
       "1999-01-02                NaN                NaN  ...   \n",
       "\n",
       "            LS_SoilTemperature_Pit1_30cm  LS_SoilTemperature_Pit2_2cm  \\\n",
       "DateTime                                                                \n",
       "1999-01-01                           NaN                          NaN   \n",
       "1999-01-02                           NaN                          NaN   \n",
       "\n",
       "            LS_SoilTemperature_Pit2_15cm  LS_SoilTemperature_Pit2_30cm  \\\n",
       "DateTime                                                                 \n",
       "1999-01-01                           NaN                           NaN   \n",
       "1999-01-02                           NaN                           NaN   \n",
       "\n",
       "            LS_SoilTemperature_Pit3_2cm  LS_SoilTemperature_Pit3_15cm  \\\n",
       "DateTime                                                                \n",
       "1999-01-01                          NaN                           NaN   \n",
       "1999-01-02                          NaN                           NaN   \n",
       "\n",
       "            LS_SoilTemperature_Pit3_30cm  LS_SoilTemperature_Pit4_2cm  \\\n",
       "DateTime                                                                \n",
       "1999-01-01                           NaN                          NaN   \n",
       "1999-01-02                           NaN                          NaN   \n",
       "\n",
       "            LS_SoilTemperature_Pit4_15cm  LS_SoilTemperature_Pit4_30cm  \n",
       "DateTime                                                                \n",
       "1999-01-01                           NaN                           NaN  \n",
       "1999-01-02                           NaN                           NaN  \n",
       "\n",
       "[2 rows x 355 columns]"
      ]
     },
     "metadata": {},
     "output_type": "display_data"
    },
    {
     "data": {
      "text/html": [
       "<div>\n",
       "<style scoped>\n",
       "    .dataframe tbody tr th:only-of-type {\n",
       "        vertical-align: middle;\n",
       "    }\n",
       "\n",
       "    .dataframe tbody tr th {\n",
       "        vertical-align: top;\n",
       "    }\n",
       "\n",
       "    .dataframe thead th {\n",
       "        text-align: right;\n",
       "    }\n",
       "</style>\n",
       "<table border=\"1\" class=\"dataframe\">\n",
       "  <thead>\n",
       "    <tr style=\"text-align: right;\">\n",
       "      <th></th>\n",
       "      <th>TL_Discharge</th>\n",
       "      <th>BSG_Discharge</th>\n",
       "      <th>LG_Discharge</th>\n",
       "      <th>C1E_Discharge</th>\n",
       "      <th>C1W_Discharge</th>\n",
       "      <th>C2E_Discharge</th>\n",
       "      <th>C2M_Discharge</th>\n",
       "      <th>BRW_Precipitation</th>\n",
       "      <th>LDP_Precipitation</th>\n",
       "      <th>SCR_Precipitation</th>\n",
       "      <th>...</th>\n",
       "      <th>LS_SoilTemperature_Pit1_30cm</th>\n",
       "      <th>LS_SoilTemperature_Pit2_2cm</th>\n",
       "      <th>LS_SoilTemperature_Pit2_15cm</th>\n",
       "      <th>LS_SoilTemperature_Pit2_30cm</th>\n",
       "      <th>LS_SoilTemperature_Pit3_2cm</th>\n",
       "      <th>LS_SoilTemperature_Pit3_15cm</th>\n",
       "      <th>LS_SoilTemperature_Pit3_30cm</th>\n",
       "      <th>LS_SoilTemperature_Pit4_2cm</th>\n",
       "      <th>LS_SoilTemperature_Pit4_15cm</th>\n",
       "      <th>LS_SoilTemperature_Pit4_30cm</th>\n",
       "    </tr>\n",
       "    <tr>\n",
       "      <th>DateTime</th>\n",
       "      <th></th>\n",
       "      <th></th>\n",
       "      <th></th>\n",
       "      <th></th>\n",
       "      <th></th>\n",
       "      <th></th>\n",
       "      <th></th>\n",
       "      <th></th>\n",
       "      <th></th>\n",
       "      <th></th>\n",
       "      <th></th>\n",
       "      <th></th>\n",
       "      <th></th>\n",
       "      <th></th>\n",
       "      <th></th>\n",
       "      <th></th>\n",
       "      <th></th>\n",
       "      <th></th>\n",
       "      <th></th>\n",
       "      <th></th>\n",
       "      <th></th>\n",
       "    </tr>\n",
       "  </thead>\n",
       "  <tbody>\n",
       "    <tr>\n",
       "      <th>2020-05-10</th>\n",
       "      <td>NaN</td>\n",
       "      <td>NaN</td>\n",
       "      <td>NaN</td>\n",
       "      <td>NaN</td>\n",
       "      <td>NaN</td>\n",
       "      <td>NaN</td>\n",
       "      <td>NaN</td>\n",
       "      <td>0.218182</td>\n",
       "      <td>NaN</td>\n",
       "      <td>NaN</td>\n",
       "      <td>...</td>\n",
       "      <td>NaN</td>\n",
       "      <td>NaN</td>\n",
       "      <td>NaN</td>\n",
       "      <td>NaN</td>\n",
       "      <td>NaN</td>\n",
       "      <td>NaN</td>\n",
       "      <td>NaN</td>\n",
       "      <td>NaN</td>\n",
       "      <td>NaN</td>\n",
       "      <td>NaN</td>\n",
       "    </tr>\n",
       "    <tr>\n",
       "      <th>2020-05-11</th>\n",
       "      <td>NaN</td>\n",
       "      <td>NaN</td>\n",
       "      <td>NaN</td>\n",
       "      <td>NaN</td>\n",
       "      <td>NaN</td>\n",
       "      <td>NaN</td>\n",
       "      <td>NaN</td>\n",
       "      <td>0.108333</td>\n",
       "      <td>NaN</td>\n",
       "      <td>NaN</td>\n",
       "      <td>...</td>\n",
       "      <td>NaN</td>\n",
       "      <td>NaN</td>\n",
       "      <td>NaN</td>\n",
       "      <td>NaN</td>\n",
       "      <td>NaN</td>\n",
       "      <td>NaN</td>\n",
       "      <td>NaN</td>\n",
       "      <td>NaN</td>\n",
       "      <td>NaN</td>\n",
       "      <td>NaN</td>\n",
       "    </tr>\n",
       "  </tbody>\n",
       "</table>\n",
       "<p>2 rows × 355 columns</p>\n",
       "</div>"
      ],
      "text/plain": [
       "            TL_Discharge  BSG_Discharge  LG_Discharge  C1E_Discharge  \\\n",
       "DateTime                                                               \n",
       "2020-05-10           NaN            NaN           NaN            NaN   \n",
       "2020-05-11           NaN            NaN           NaN            NaN   \n",
       "\n",
       "            C1W_Discharge  C2E_Discharge  C2M_Discharge  BRW_Precipitation  \\\n",
       "DateTime                                                                     \n",
       "2020-05-10            NaN            NaN            NaN           0.218182   \n",
       "2020-05-11            NaN            NaN            NaN           0.108333   \n",
       "\n",
       "            LDP_Precipitation  SCR_Precipitation  ...  \\\n",
       "DateTime                                          ...   \n",
       "2020-05-10                NaN                NaN  ...   \n",
       "2020-05-11                NaN                NaN  ...   \n",
       "\n",
       "            LS_SoilTemperature_Pit1_30cm  LS_SoilTemperature_Pit2_2cm  \\\n",
       "DateTime                                                                \n",
       "2020-05-10                           NaN                          NaN   \n",
       "2020-05-11                           NaN                          NaN   \n",
       "\n",
       "            LS_SoilTemperature_Pit2_15cm  LS_SoilTemperature_Pit2_30cm  \\\n",
       "DateTime                                                                 \n",
       "2020-05-10                           NaN                           NaN   \n",
       "2020-05-11                           NaN                           NaN   \n",
       "\n",
       "            LS_SoilTemperature_Pit3_2cm  LS_SoilTemperature_Pit3_15cm  \\\n",
       "DateTime                                                                \n",
       "2020-05-10                          NaN                           NaN   \n",
       "2020-05-11                          NaN                           NaN   \n",
       "\n",
       "            LS_SoilTemperature_Pit3_30cm  LS_SoilTemperature_Pit4_2cm  \\\n",
       "DateTime                                                                \n",
       "2020-05-10                           NaN                          NaN   \n",
       "2020-05-11                           NaN                          NaN   \n",
       "\n",
       "            LS_SoilTemperature_Pit4_15cm  LS_SoilTemperature_Pit4_30cm  \n",
       "DateTime                                                                \n",
       "2020-05-10                           NaN                           NaN  \n",
       "2020-05-11                           NaN                           NaN  \n",
       "\n",
       "[2 rows x 355 columns]"
      ]
     },
     "metadata": {},
     "output_type": "display_data"
    },
    {
     "name": "stdout",
     "output_type": "stream",
     "text": [
      "trimmed row number is  0\n"
     ]
    }
   ],
   "source": [
    "# Trim the data and let the table start with first non nan value, end with last non nan value\n",
    "# Identify the first non nan value in each column as the starting date.\n",
    "# Identify the last non nan value in each column as the ending date.\n",
    "\n",
    "t = table.notna() \n",
    "t = ~np.isnan(table)\n",
    "col = len(t.columns)\n",
    "b = np.zeros([table.shape[1]])\n",
    "c = np.array([table.shape[0]] * table.shape[1])\n",
    "\n",
    "for i in range(col):\n",
    "    if any(t.iloc[:,i]): # Since some are empty\n",
    "        b[i] = list(np.where(t.iloc[:,i] == True))[0][0] # the first non nan value location\n",
    "        c[i] = list(np.where(t.iloc[:,i] == True))[0][-1] # the last non nan value location\n",
    "        \n",
    "st_tab = b.min()\n",
    "table1 = table.iloc[int(b.min()):int(c.max()) + 1,:] \n",
    "\n",
    "# Display the trimmed table\n",
    "display(table1.head(2))\n",
    "display(table1.tail(2))\n",
    "print('trimmed row number is ', int(table.shape[0] -  table1.shape[0]))"
   ]
  },
  {
   "cell_type": "code",
   "execution_count": 14,
   "metadata": {
    "scrolled": true
   },
   "outputs": [
    {
     "data": {
      "text/plain": [
       "Index(['TL_Discharge', 'BSG_Discharge', 'LG_Discharge', 'C1E_Discharge',\n",
       "       'C1W_Discharge', 'C2E_Discharge', 'C2M_Discharge', 'BRW_Precipitation',\n",
       "       'LDP_Precipitation', 'SCR_Precipitation',\n",
       "       ...\n",
       "       'LS_SoilTemperature_Pit1_30cm', 'LS_SoilTemperature_Pit2_2cm',\n",
       "       'LS_SoilTemperature_Pit2_15cm', 'LS_SoilTemperature_Pit2_30cm',\n",
       "       'LS_SoilTemperature_Pit3_2cm', 'LS_SoilTemperature_Pit3_15cm',\n",
       "       'LS_SoilTemperature_Pit3_30cm', 'LS_SoilTemperature_Pit4_2cm',\n",
       "       'LS_SoilTemperature_Pit4_15cm', 'LS_SoilTemperature_Pit4_30cm'],\n",
       "      dtype='object', length=355)"
      ]
     },
     "execution_count": 14,
     "metadata": {},
     "output_type": "execute_result"
    }
   ],
   "source": [
    "table1.columns#[1:100]"
   ]
  },
  {
   "cell_type": "markdown",
   "metadata": {},
   "source": [
    "### Quantity of interest"
   ]
  },
  {
   "cell_type": "code",
   "execution_count": 15,
   "metadata": {},
   "outputs": [],
   "source": [
    "QOI = 'LS_SoilTemperature_Pit2_2cm'"
   ]
  },
  {
   "cell_type": "code",
   "execution_count": 16,
   "metadata": {},
   "outputs": [
    {
     "data": {
      "text/plain": [
       "DateTime\n",
       "1999-01-01   NaN\n",
       "1999-01-02   NaN\n",
       "1999-01-03   NaN\n",
       "1999-01-04   NaN\n",
       "1999-01-05   NaN\n",
       "              ..\n",
       "2020-05-07   NaN\n",
       "2020-05-08   NaN\n",
       "2020-05-09   NaN\n",
       "2020-05-10   NaN\n",
       "2020-05-11   NaN\n",
       "Name: LS_SoilTemperature_Pit2_2cm, Length: 7802, dtype: float64"
      ]
     },
     "execution_count": 16,
     "metadata": {},
     "output_type": "execute_result"
    }
   ],
   "source": [
    "table[QOI].interpolate(limit=7)"
   ]
  },
  {
   "cell_type": "markdown",
   "metadata": {},
   "source": [
    "# 2. Filling Missing Values"
   ]
  },
  {
   "cell_type": "markdown",
   "metadata": {},
   "source": [
    "### 2.1 Interpolation"
   ]
  },
  {
   "cell_type": "code",
   "execution_count": 17,
   "metadata": {},
   "outputs": [
    {
     "name": "stdout",
     "output_type": "stream",
     "text": [
      "Total Record Length =  7802 , Length of non NAN = 2502 \n",
      "\n",
      "There are  5300  missing values. \n",
      "\n",
      "Length of interpolated values =  679 \n",
      "\n",
      "No Interpolated values are out of the original data range.\n"
     ]
    }
   ],
   "source": [
    "a,b = widgetInterpolation(table1, QOI, interplimit=7, Intpmethod='time', Intplimit_direction='both')"
   ]
  },
  {
   "cell_type": "code",
   "execution_count": 18,
   "metadata": {},
   "outputs": [],
   "source": [
    "def plot_widgetInterpolation(QOI=QOI, interplimit=7, Intpmethod='time', Intplimit_direction='both',\n",
    "                        xmin=None, xmax=None, ymin=None, ymax=None):\n",
    "    \n",
    "    y, yIntp = widgetInterpolation(table1,QOI, interplimit, 'time', 'both')\n",
    "    \n",
    "    indx = Date_to_float(y.index)\n",
    "    \n",
    "    fig, ax = plt.subplots(1, 1, figsize=(9, 4))\n",
    "    ax.plot(indx, yIntp,'r',linewidth=2,label='Interpolated')\n",
    "    ax.plot(indx, y, 'b',linewidth=2,label='Original')\n",
    "    \n",
    "    ax.set_xlabel(\"Year\")\n",
    "    ax.set_ylabel(QOI.split('_')[1])\n",
    "    ax.set_title(QOI)\n",
    "    ax.set_xlim([xmin,xmax])\n",
    "    ax.set_ylim([ymin, ymax])\n",
    "    ax.grid(color='gray', linestyle='-.', linewidth=1)\n",
    "    #ax.legend(bbox_to_anchor=(1, 1), loc='upper left', fontsize='small')\n",
    "    ax.legend(fontsize='small')\n",
    "    \n",
    "    # interaction responsiveness\n",
    "    ax.relim()\n",
    "    ax.autoscale_view()\n",
    "    fig.canvas.draw_idle()"
   ]
  },
  {
   "cell_type": "code",
   "execution_count": 19,
   "metadata": {},
   "outputs": [],
   "source": [
    "# plot_widgetInterpolation(QOI=QOI, interplimit=7, Intpmethod='time', Intplimit_direction='both',\n",
    "#                         xmin=None, xmax=None, ymin=None, ymax=None)"
   ]
  },
  {
   "cell_type": "code",
   "execution_count": 20,
   "metadata": {
    "scrolled": false
   },
   "outputs": [
    {
     "data": {
      "application/vnd.jupyter.widget-view+json": {
       "model_id": "c34c378bdbc048b6a9675db4c74723bb",
       "version_major": 2,
       "version_minor": 0
      },
      "text/plain": [
       "interactive(children=(Dropdown(description='QOI', index=346, options=('TL_Discharge', 'BSG_Discharge', 'LG_Dis…"
      ]
     },
     "metadata": {},
     "output_type": "display_data"
    }
   ],
   "source": [
    "%matplotlib notebook\n",
    "# %matplotlib qt, - a separate plot\n",
    "# %matplotlib notebook - the plot reside within the notebook \n",
    "# %matplotlib widget - for jupyter lab\n",
    "Interpolation_widget = ipywidgets.interactive(\n",
    "    plot_widgetInterpolation,\n",
    "    \n",
    "    QOI=table1,\n",
    "    Intpmethod = ['linear','time','space','index','pad','nearest', 'zero', 'slinear', 'quadratic', 'cubic'],\n",
    "    Intplimit_direction=['forward', 'backward', 'both'],\n",
    "    \n",
    "    interplimit=ipywidgets.IntSlider(min=2, max=100, value=7),\n",
    "    xmin=ipywidgets.FloatText(value=2008),\n",
    "    xmax=ipywidgets.FloatText(value=2018),\n",
    "    ymin=ipywidgets.FloatText(value=0),\n",
    "    ymax=ipywidgets.FloatText(value=50)\n",
    ")\n",
    "Interpolation_widget"
   ]
  },
  {
   "cell_type": "markdown",
   "metadata": {},
   "source": [
    "### 2.2 Regression"
   ]
  },
  {
   "cell_type": "code",
   "execution_count": 21,
   "metadata": {},
   "outputs": [
    {
     "name": "stdout",
     "output_type": "stream",
     "text": [
      "Total Record Length =  7802 , Length of non NAN = 2502 \n",
      "\n",
      "There are  5300  missing values. \n",
      "\n",
      "Number of potential predictors =  155 \n",
      "\n",
      "Number of regressions performed = 5300 \n",
      "\n",
      "No Regression values are out of the original data range.\n"
     ]
    }
   ],
   "source": [
    "rawdd, regRes = widgetRegression(table1, QOI, RegThreshold=1.0,xmin=None, xmax=None, ymin=None, ymax=None)"
   ]
  },
  {
   "cell_type": "code",
   "execution_count": 22,
   "metadata": {},
   "outputs": [],
   "source": [
    "def plot_widgetRegression(QOI=QOI, RegThreshold=0.7, xmin=None, xmax=None, ymin=None, ymax=None):\n",
    "    \n",
    "    y, yReg = widgetRegression(table1, QOI, RegThreshold=0.7)\n",
    "    \n",
    "    indx = Date_to_float(y.index)\n",
    "    \n",
    "    fig, ax = plt.subplots(1, 1, figsize=(9, 4))\n",
    "    ax.plot(indx, yReg,'r',linewidth=2,label='After Regression')\n",
    "    ax.plot(indx, y, 'b',linewidth=2,label='Raw Data')\n",
    "    \n",
    "    ax.set_xlabel(\"Year\")\n",
    "    ax.set_ylabel(QOI.split('_')[1])\n",
    "    ax.set_title(QOI)\n",
    "    ax.set_xlim([xmin,xmax])\n",
    "    ax.set_ylim([ymin, ymax])\n",
    "    ax.grid(color='gray', linestyle='-.', linewidth=1)\n",
    "    #ax.legend(bbox_to_anchor=(1, 1), loc='upper left', fontsize='small')\n",
    "    ax.legend(fontsize='small')\n",
    "    \n",
    "    # interaction responsiveness\n",
    "    ax.relim()\n",
    "    ax.autoscale_view()\n",
    "    fig.canvas.draw_idle()\n",
    "    # fig.gcf().canvas.set_window_title('Regression')"
   ]
  },
  {
   "cell_type": "code",
   "execution_count": 23,
   "metadata": {},
   "outputs": [],
   "source": [
    "#plot_widgetRegression(QOI=QOI, RegThreshold=0.7, xmin=None, xmax=None, ymin=None, ymax=None)"
   ]
  },
  {
   "cell_type": "code",
   "execution_count": 24,
   "metadata": {},
   "outputs": [
    {
     "data": {
      "application/vnd.jupyter.widget-view+json": {
       "model_id": "79b4a897c644454ba764849dbca36c93",
       "version_major": 2,
       "version_minor": 0
      },
      "text/plain": [
       "interactive(children=(Dropdown(description='QOI', index=346, options=('TL_Discharge', 'BSG_Discharge', 'LG_Dis…"
      ]
     },
     "metadata": {},
     "output_type": "display_data"
    }
   ],
   "source": [
    "%matplotlib notebook\n",
    "# %matplotlib qt, - a separate plot\n",
    "# %matplotlib notebook - the plot reside within the notebook \n",
    "# %matplotlib widget - for jupyter lab\n",
    "Regression_widget = ipywidgets.interactive(\n",
    "    plot_widgetRegression,\n",
    "    \n",
    "    QOI=table1,\n",
    "    \n",
    "    RegThreshold=ipywidgets.FloatSlider(min=.5, max=1, value=7),\n",
    "    xmin=ipywidgets.FloatText(value=2008),\n",
    "    xmax=ipywidgets.FloatText(value=2018),\n",
    "    ymin=ipywidgets.FloatText(value=0),\n",
    "    ymax=ipywidgets.FloatText(value=50)\n",
    ")\n",
    "Regression_widget"
   ]
  },
  {
   "cell_type": "markdown",
   "metadata": {},
   "source": [
    "### 2.3 Climate catalog"
   ]
  },
  {
   "cell_type": "code",
   "execution_count": 25,
   "metadata": {},
   "outputs": [
    {
     "name": "stdout",
     "output_type": "stream",
     "text": [
      "Total Record Length =  7802 , Length of non NAN = 2502 \n",
      "\n",
      "There are  5300  missing values. \n",
      "\n"
     ]
    },
    {
     "name": "stderr",
     "output_type": "stream",
     "text": [
      "./Functions\\Source_QC_Widgets_functions_EM.py:243: RuntimeWarning: Mean of empty slice\n",
      "  AnnualMean = (np.nanmean(AnnualTable,axis=0)) #(np.nanmedian(AnnualTable,axis=0))\n",
      "C:\\Users\\edomm\\Anaconda3\\lib\\site-packages\\numpy\\lib\\nanfunctions.py:1665: RuntimeWarning: Degrees of freedom <= 0 for slice.\n",
      "  keepdims=keepdims)\n",
      "./Functions\\Source_QC_Widgets_functions_EM.py:245: RuntimeWarning: All-NaN slice encountered\n",
      "  AnnualMax = (np.nanmax(AnnualTable,axis=0)) # for outliers MAx\n",
      "./Functions\\Source_QC_Widgets_functions_EM.py:246: RuntimeWarning: All-NaN slice encountered\n",
      "  AnnualMin = (np.nanmin(AnnualTable,axis=0)) # minimum\n"
     ]
    },
    {
     "name": "stdout",
     "output_type": "stream",
     "text": [
      "Number of days where Climate Catalog is performed = 1131 \n",
      "\n",
      "No Climate Catalog values are out of the original data range.\n"
     ]
    }
   ],
   "source": [
    "CC_Yout, yraw, indx_CC= funcClimateCatalogWg(table,QOI,thrLen=20,corrThr=0.7)"
   ]
  },
  {
   "cell_type": "code",
   "execution_count": 26,
   "metadata": {},
   "outputs": [],
   "source": [
    "# %matplotlib inline\n",
    "# plt.plot(CC_Yout,'b')\n",
    "# plt.plot(yraw,'r')"
   ]
  },
  {
   "cell_type": "code",
   "execution_count": 27,
   "metadata": {},
   "outputs": [],
   "source": [
    "def plot_widgetClimateCatalog(QOI=QOI, thrLen=200, corrThr=0.7, xmin=None, xmax=None, ymin=None, ymax=None):\n",
    "    \n",
    "    y_CC, yraw, indx_cc = funcClimateCatalogWg(table1, QOI, thrLen, corrThr)\n",
    "    \n",
    "    indx = Date_to_float(yraw.index)\n",
    "    \n",
    "    fig, ax = plt.subplots(1, 1, figsize=(9, 4))\n",
    "    ax.plot(indx, y_CC,'r',linewidth=2,label='After Climate Catalog')\n",
    "    ax.plot(indx, yraw, 'b',linewidth=2,label='Raw Data')\n",
    "    \n",
    "    ax.set_xlabel(\"Year\")\n",
    "    ax.set_ylabel(QOI.split('_')[1])\n",
    "    ax.set_title(QOI)\n",
    "    ax.set_xlim([xmin,xmax])\n",
    "    ax.set_ylim([ymin, ymax])\n",
    "    ax.grid(color='gray', linestyle='-.', linewidth=1)\n",
    "    #ax.legend(bbox_to_anchor=(1, 1), loc='upper left', fontsize='small')\n",
    "    ax.legend(fontsize='small')\n",
    "    \n",
    "    # interaction responsiveness\n",
    "    ax.relim()\n",
    "    ax.autoscale_view()\n",
    "    fig.canvas.draw_idle()"
   ]
  },
  {
   "cell_type": "code",
   "execution_count": 28,
   "metadata": {
    "scrolled": false
   },
   "outputs": [],
   "source": [
    "#plot_widgetClimateCatalog(QOI=QOI, thrLen=100, corrThr=0.7, xmin=None, xmax=None, ymin=None, ymax=None)"
   ]
  },
  {
   "cell_type": "code",
   "execution_count": 29,
   "metadata": {},
   "outputs": [
    {
     "data": {
      "application/vnd.jupyter.widget-view+json": {
       "model_id": "07cae41f9b034efe989c3a6dca40bc5d",
       "version_major": 2,
       "version_minor": 0
      },
      "text/plain": [
       "interactive(children=(Dropdown(description='QOI', index=346, options=('TL_Discharge', 'BSG_Discharge', 'LG_Dis…"
      ]
     },
     "metadata": {},
     "output_type": "display_data"
    }
   ],
   "source": [
    "%matplotlib notebook\n",
    "# %matplotlib qt, - a separate plot\n",
    "# %matplotlib notebook - the plot reside within the notebook \n",
    "# %matplotlib widget - for jupyter lab\n",
    "ClimateCatalog_widget = ipywidgets.interactive(\n",
    "    plot_widgetClimateCatalog,\n",
    "    \n",
    "    QOI=table1,\n",
    "    \n",
    "    corrThr=ipywidgets.FloatSlider(min=.5, max=1, value=7),\n",
    "    thrLen=ipywidgets.IntSlider(min=1, max=365, value=7),\n",
    "    xmin=ipywidgets.FloatText(value=2008),\n",
    "    xmax=ipywidgets.FloatText(value=2018),\n",
    "    ymin=ipywidgets.FloatText(value=0),\n",
    "    ymax=ipywidgets.FloatText(value=50)\n",
    ")\n",
    "ClimateCatalog_widget"
   ]
  },
  {
   "cell_type": "code",
   "execution_count": 30,
   "metadata": {},
   "outputs": [],
   "source": [
    "## VErsions of packages used\n",
    "# print(sklearn.__version__)\n",
    "# pip3 list | findstr scikit\n",
    "# conda list |findstr pandas\n",
    "# pip list | findstr \"scikit numpy\""
   ]
  },
  {
   "cell_type": "code",
   "execution_count": null,
   "metadata": {},
   "outputs": [],
   "source": []
  }
 ],
 "metadata": {
  "kernelspec": {
   "display_name": "Python 3",
   "language": "python",
   "name": "python3"
  },
  "language_info": {
   "codemirror_mode": {
    "name": "ipython",
    "version": 3
   },
   "file_extension": ".py",
   "mimetype": "text/x-python",
   "name": "python",
   "nbconvert_exporter": "python",
   "pygments_lexer": "ipython3",
   "version": "3.7.1"
  }
 },
 "nbformat": 4,
 "nbformat_minor": 2
}
